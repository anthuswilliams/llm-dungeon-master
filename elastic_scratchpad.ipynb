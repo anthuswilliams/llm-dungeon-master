{
 "cells": [
  {
   "cell_type": "code",
   "execution_count": 2,
   "metadata": {},
   "outputs": [],
   "source": [
    "import requests\n",
    "import json\n",
    "\n",
    "import os\n",
    "import base64"
   ]
  },
  {
   "cell_type": "code",
   "execution_count": 3,
   "metadata": {},
   "outputs": [],
   "source": [
    "def elastic_request(data=None, method=None, url=None):\n",
    "    if method == None:\n",
    "        method = requests.get\n",
    "    if data:\n",
    "        data = json.dumps(data)    \n",
    "\n",
    "    return method(f\"https://192.168.1.153:9200/{url}\",\n",
    "                  headers={\n",
    "                    \"Content-Type\": \"application/json\",\n",
    "                    \"Accept\": \"application/json\",\n",
    "                    \"Authorization\": f\"ApiKey {os.getenv('ELASTIC_API_KEY')}\"\n",
    "                  },\n",
    "                  verify=False,\n",
    "                  data=data)"
   ]
  },
  {
   "cell_type": "code",
   "execution_count": null,
   "metadata": {},
   "outputs": [],
   "source": [
    "inf_endpt = elastic_request(url=\"/_inference/text_embedding/open-ai-embeddings\",\n",
    "                            method=requests.put,\n",
    "                            data={\n",
    "                                \"service\": \"openai\",\n",
    "                                \"service_settings\": {\n",
    "                                    \"api_key\": os.getenv(\"OPENAI_API_KEY\"),\n",
    "                                    \"model_id\": \"text-embedding-3-small\"\n",
    "                                }\n",
    "                            })\n",
    "inf_endpt.json()"
   ]
  },
  {
   "cell_type": "code",
   "execution_count": null,
   "metadata": {},
   "outputs": [],
   "source": [
    "load_docs = elastic_request(url=\"_ingest/pipeline/attach_and_chunk\", method=requests.put, data={\n",
    "  \"description\" : \"Extract attachment and separate into paragraphs\",\n",
    "  \"processors\" : [\n",
    "    {\n",
    "      \"attachment\": {\n",
    "        \"field\": \"data\",\n",
    "        \"indexed_chars\": -1,\n",
    "        \"remove_binary\": True\n",
    "      }\n",
    "    },\n",
    "    {\n",
    "      \"script\": {\n",
    "        \"description\": \"Chunk each attachment into individual sentences. This will be a nested field\",\n",
    "        \"source\": \"\"\"\n",
    "          String[] envSplit = /((?<!M(r|s|rs)\\.)(?<=\\.) |(?<=\\!) |(?<=\\?) )/.split(ctx['attachment']['content']);\n",
    "          ctx['passages'] = new ArrayList();\n",
    "          int i = 0;\n",
    "          boolean remaining = true;\n",
    "          if (envSplit.length == 0) {\n",
    "            return\n",
    "          } else if (envSplit.length == 1) {\n",
    "            Map passage = ['text': envSplit[0]];\n",
    "            ctx['passages'].add(passage)\n",
    "          } else {\n",
    "            while (remaining) {\n",
    "              Map passage = ['text': envSplit[i++]];\n",
    "              while (i < envSplit.length && passage.text.length() + envSplit[i].length() < params.passage_size) {passage.text = passage.text + ' ' + envSplit[i++]}\n",
    "              if (i == envSplit.length) {remaining = false}\n",
    "              ctx['passages'].add(passage)\n",
    "            }\n",
    "          }\n",
    "          \"\"\",\n",
    "          \"params\": {\n",
    "              \"passage_size\": 600\n",
    "          }    \n",
    "      }\n",
    "    }\n",
    "  ]\n",
    "})\n",
    "load_docs.json()"
   ]
  },
  {
   "cell_type": "code",
   "execution_count": null,
   "metadata": {},
   "outputs": [],
   "source": [
    "embed_each = elastic_request(url=\"_ingest/pipeline/clean_and_embed\", method=requests.put, data={\n",
    "    \"description\" : \"Remove links and generate embeddings\",\n",
    "    \"processors\" : [{\n",
    "        \"gsub\": {\n",
    "            \"field\": \"passage\",\n",
    "            \"pattern\": \"http?s:\\/\\/[^\\s]+\\s\",\n",
    "            \"replacement\": \"\"\n",
    "        },\n",
    "        \"inference\": {\n",
    "            \"model_id\": \"open-ai-embeddings\",\n",
    "            \"input_output\": {\n",
    "                \"input_field\": \"passage\",\n",
    "                \"output_field\": \"passage-embedding\"\n",
    "            }\n",
    "        }\n",
    "    }]\n",
    "})\n",
    "embed_each.json()"
   ]
  },
  {
   "cell_type": "code",
   "execution_count": null,
   "metadata": {},
   "outputs": [],
   "source": [
    "doc = \"DISMISS\\n\\n12/21/24, 9:13 PM Adventuring - Player's Handbook (2014) - Dungeons & Dragons - Sources - D&D Beyond\\n\\nhttps://www.dndbeyond.com/sources/dnd/phb-2014/adventuring 1/11\\n\\nhttps://www.dndbeyond.com/sources/dnd/phb-2014/using-ability-scores\\nhttps://www.dndbeyond.com/sources/dnd/phb-2014/\\nhttps://www.dndbeyond.com/sources/dnd/phb-2014/combat\\nhttps://www.dndbeyond.com/sources/phb/introduction#HowtoPlay\\nhttps://marketplace.dndbeyond.com/category/DB0000156?&icid_medium=organic&icid_source=bluebanner&icid_campaign=2024_3p_&icid_content=2024_hype\\nhttps://marketplace.dndbeyond.com/category/DB0000156?&icid_medium=organic&icid_source=bluebanner&icid_campaign=2024_3p_&icid_content=2024_hype\\nhttps://marketplace.dndbeyond.com/category/DB0000156?&icid_medium=organic&icid_source=bluebanner&icid_campaign=2024_3p_&icid_content=2024_hype\\nhttps://marketplace.dndbeyond.com/category/DB0000156?&icid_medium=organic&icid_source=bluebanner&icid_campaign=2024_3p_&icid_content=2024_hype\\nhttps://marketplace.dndbeyond.com/category/DB0000156?&icid_medium=organic&icid_source=bluebanner&icid_campaign=2024_3p_&icid_content=2024_hype\\nhttps://marketplace.dndbeyond.com/category/DB0000156?&icid_medium=organic&icid_source=bluebanner&icid_campaign=2024_3p_&icid_content=2024_hype\\nhttps://marketplace.dndbeyond.com/category/DB0000156?&icid_medium=organic&icid_source=bluebanner&icid_campaign=2024_3p_&icid_content=2024_hype\\nhttps://marketplace.dndbeyond.com/category/DB0000156?&icid_medium=organic&icid_source=bluebanner&icid_campaign=2024_3p_&icid_content=2024_hype\\nhttps://marketplace.dndbeyond.com/category/DB0000156?&icid_medium=organic&icid_source=bluebanner&icid_campaign=2024_3p_&icid_content=2024_hype\\nhttps://marketplace.dndbeyond.com/category/DB0000156?&icid_medium=organic&icid_source=bluebanner&icid_campaign=2024_3p_&icid_content=2024_hype\\nhttps://marketplace.dndbeyond.com/category/DB0000156?&icid_medium=organic&icid_source=bluebanner&icid_campaign=2024_3p_&icid_content=2024_hype\\n\\n\\nTime\\n\\nIn situations where keeping track of the passage of time is important, the DM determines the time a task requires.\"\n",
    "test = elastic_request(method=requests.post, url=\"_ingest/pipeline/clean_and_embed/_simulate\", data={\"docs\":[{\"_source\": {\"passage\": doc}}]})\n",
    "test.json()"
   ]
  },
  {
   "cell_type": "code",
   "execution_count": 45,
   "metadata": {},
   "outputs": [],
   "source": [
    "dir_path = \"/data/Player's Handbook 5e (2014)\"\n",
    "encoded_files = []\n",
    "for filename in os.listdir(dir_path):\n",
    "    file_path = os.path.join(dir_path, filename)\n",
    "\n",
    "    if os.path.isfile(file_path):\n",
    "        with open(file_path, 'rb') as file:\n",
    "            file_content = file.read()\n",
    "            encoded_content = base64.b64encode(file_content).decode('utf-8')\n",
    "            encoded_files.append((filename, encoded_content))"
   ]
  },
  {
   "cell_type": "code",
   "execution_count": null,
   "metadata": {},
   "outputs": [],
   "source": [
    "for filename, contents in encoded_files:\n",
    "    elastic_request(method=requests.put, url=f\"players-handbook/_doc/{filename}?pipeline=attach_and_chunk\", data={\"data\": contents})\n",
    "    "
   ]
  },
  {
   "cell_type": "code",
   "execution_count": null,
   "metadata": {},
   "outputs": [],
   "source": [
    "mapping = elastic_request(url=\"players-handbook-chunked\",\n",
    "                          method=requests.put,\n",
    "                          data={\n",
    "                            \"mappings\": {\n",
    "                                \"dynamic\": True,\n",
    "                                \"properties\": {\n",
    "                                    \"vector\": {\n",
    "                                        \"properties\": {\n",
    "                                            \"predicted_value\": {\n",
    "                                                \"type\": \"dense_vector\",\n",
    "                                                \"index\": True,\n",
    "                                                \"dims\": 1536,\n",
    "                                                \"similarity\": \"cosine\"\n",
    "                                            }\n",
    "                                        }\n",
    "                                    }\n",
    "                                }\n",
    "                            }\n",
    "                          })\n",
    "mapping.json()"
   ]
  },
  {
   "cell_type": "code",
   "execution_count": null,
   "metadata": {},
   "outputs": [],
   "source": [
    "data = {\n",
    "    \"query\": {\n",
    "        \"match_all\": {}\n",
    "    },\n",
    "    \"size\": 10000,\n",
    "    \"sort\": [\n",
    "        {\"attachment.date\": \"asc\"}\n",
    "    ]\n",
    "}\n",
    "\n",
    "r = elastic_request(url=\"players-handbook/_search?scroll=1m\",\n",
    "                    method=requests.post,\n",
    "                    data=data).json()\n",
    "scroll_id = r[\"_scroll_id\"]\n",
    "while len(r[\"hits\"][\"hits\"]) > 0:\n",
    "    print(r[\"hits\"][\"hits\"])\n",
    "    bulk_submit = [[{\"index\": {}}, {\"passage\": passage[\"text\"], \"section\": hit[\"_id\"]}] for hit in r[\"hits\"][\"hits\"] for passage in hit[\"_source\"][\"passages\"]]\n",
    "    payload=\"\\n\".join([json.dumps(j) for entry in bulk_submit for j in entry])\n",
    "    # use bulk endpoint to submit each paragraph as a new document\n",
    "    create = requests.post(\"https://192.168.1.153:9200/players-handbook-chunked/_bulk?pipeline=clean_and_embed\",\n",
    "                            headers={\n",
    "                                \"Content-Type\": \"application/x-ndjson\",\n",
    "                                \"Accept\": \"application/json\",\n",
    "                                \"Authorization\": f\"ApiKey {os.getenv('ELASTIC_API_KEY')}\"\n",
    "                            },\n",
    "                            verify=False,\n",
    "                            data=f\"{payload}\\n\")\n",
    "    print(create.json())\n",
    "    r = elastic_request(url=\"_search/scroll\",\n",
    "                       data={\"scroll\": \"1m\", \"scroll_id\": scroll_id}).json()"
   ]
  },
  {
   "cell_type": "code",
   "execution_count": 4,
   "metadata": {},
   "outputs": [
    {
     "name": "stderr",
     "output_type": "stream",
     "text": [
      "/home/vscode/.local/lib/python3.10/site-packages/urllib3/connectionpool.py:1099: InsecureRequestWarning: Unverified HTTPS request is being made to host '192.168.1.153'. Adding certificate verification is strongly advised. See: https://urllib3.readthedocs.io/en/latest/advanced-usage.html#tls-warnings\n",
      "  warnings.warn(\n",
      "/home/vscode/.local/lib/python3.10/site-packages/urllib3/connectionpool.py:1099: InsecureRequestWarning: Unverified HTTPS request is being made to host '192.168.1.153'. Adding certificate verification is strongly advised. See: https://urllib3.readthedocs.io/en/latest/advanced-usage.html#tls-warnings\n",
      "  warnings.warn(\n"
     ]
    }
   ],
   "source": [
    "response = elastic_request(url=\"players-handbook-chunked/_search\",\n",
    "                           data={\n",
    "                                \"query\": {\n",
    "                                    \"match\": {\n",
    "                                        \"passage\": {\n",
    "                                            \"query\": \"Druid capstone\",\n",
    "                                            \"operator\": \"and\",\n",
    "                                            \"boost\": 0.4\n",
    "                                        }\n",
    "                                    }\n",
    "                                },\n",
    "                                \"knn\": {\n",
    "                                    \"field\": \"passage-embedding\",\n",
    "                                    \"k\": 10,\n",
    "                                    \"boost\": 0.3,\n",
    "                                    \"num_candidates\": 100,\n",
    "                                    \"query_vector_builder\": {\n",
    "                                        \"text_embedding\": { \n",
    "                                            \"model_id\": \"open-ai-embeddings\", \n",
    "                                            \"model_text\": \"What are the capstone abilities for Druid?\" \n",
    "                                        }\n",
    "                                    }\n",
    "                                } \n",
    "                           })\n",
    "\n",
    "rslt = elastic_request(url=\"players-handbook-chunked/_search\",\n",
    "                       data={\n",
    "                            \"query\": {\n",
    "                                \"match\": {\n",
    "                                    \"passage\": {\n",
    "                                        \"query\": \"can I cast Hunter's Mark on an entity who is Invisible?\"\n",
    "                                    }\n",
    "                                }\n",
    "                            }\n",
    "                        })"
   ]
  },
  {
   "cell_type": "code",
   "execution_count": 5,
   "metadata": {},
   "outputs": [
    {
     "data": {
      "text/plain": [
       "10"
      ]
     },
     "execution_count": 5,
     "metadata": {},
     "output_type": "execute_result"
    }
   ],
   "source": [
    "hits = response.json()[\"hits\"][\"hits\"]\n",
    "len(hits)"
   ]
  },
  {
   "cell_type": "code",
   "execution_count": 6,
   "metadata": {},
   "outputs": [
    {
     "data": {
      "text/plain": [
       "[\"DISMISS\\n\\n12/21/24, 9:11 PM Druid - Player's Handbook (2014) - Dungeons & Dragons - Sources - D&D Beyond\\n\\n2/10\\n\\n\\n\\n\\xa0 — Spell Slots per Spell Level —\\n\\nLevel Proficiency\\nBonus Features Cantrips\\n\\nKnown 1st 2nd 3rd 4th 5th 6th 7th 8th 9th\\n\\n9th +4 — 3 4 3 3 3 1 — — — —\\n\\n10th +4 Druid Circle Feature 4 4 3 3 3 2 — — — —\\n\\n11th +4 — 4 4 3 3 3 2 1 — — —\\n\\n12th +4 Ability Score Improvement 4 4 3 3 3 2 1 — — —\\n\\n13th +5 — 4 4 3 3 3 2 1 1 — —\\n\\n14th +5 Druid Circle Feature 4 4 3 3 3 2 1 1 — —\\n\\n15th +5 — 4 4 3 3 3 2 1 1 1 —\\n\\n16th +5 Ability Score Improvement 4 4 3 3 3 2 1 1 1 —\\n\\n17th +6 — 4 4 3 3 3 2 1 1 1 1\\n\\n18th +6 Timeless Body, Beast Spells 4 4 3 3 3 3 1 1 1 1\\n\\n19th +6 Ability Score Improvement 4 4 3 3 3 3 2 1 1 1\\n\\n20th +6 Archdruid 4 4 3 3 3 3 2 2 1 1\\n\\nClass Features\\n\\nAs a druid, you gain the following class features.\\n\\nHit Points\\n\\nHit Dice: 1d8 per druid level\\n\\nHit Points at 1st Level: 8 + your Constitution modifier\\n\\nHit Points at Higher Levels: 1d8 (or 5) + your Constitution modifier per druid level after 1st\\n\\nProficiencies\\n\\nArmor: Light armor, medium armor, shields (druids will not wear armor or use shields made of metal)\\n\\nWeapons: Clubs, daggers, darts, javelins, maces, quarterstaffs, scimitars, sickles, slings, spears\\n\\nTools: Herbalism kit\\n\\nSaving Throws: Intelligence, Wisdom\\n\\nSkills: Choose two from Arcana, Animal Handling, Insight, Medicine, Nature, Perception, Religion, and Survival\\n\\nEquipment\\n\\nYou start with the following equipment, in addition to the equipment granted by your background:\\n\\n(a) a wooden shield or (b) any simple weapon\\n\\n(a) a scimitar or (b) any simple melee weapon\\n\\nLeather armor, an explorer’s pack, and a druidic focus\\n\\nDruidic\\n\\nYou know Druidic, the secret language of druids.\",\n",
       " \"DISMISS\\n\\n12/21/24, 9:11 PM Druid - Player's Handbook (2014) - Dungeons & Dragons - Sources - D&D Beyond\\n\\n6/10\\n\\n\\n\\nArctic\\n\\nDruid Level Spells\\n\\n3rd hold person, spike growth\\n\\n5th sleet storm, slow\\n\\n7th freedom of movement, ice storm\\n\\n9th commune with nature, cone of cold\\n\\nCoast\\n\\nDruid Level Spells\\n\\n3rd mirror image, misty step\\n\\n5th water breathing, water walk\\n\\n7th control water, freedom of movement\\n\\n9th conjure elemental, scrying\\n\\nDesert\\n\\nDruid Level Spells\\n\\n3rd blur, silence\\n\\n5th create food and water, protection from energy\\n\\n7th blight, hallucinatory terrain\\n\\n9th insect plague, wall of stone\\n\\nForest\\n\\nDruid Level Spells\\n\\n3rd barkskin, spider climb\\n\\n5th call lightning, plant growth\\n\\n7th divination, freedom of movement\\n\\n9th commune with nature, tree stride\\n\\nGrassland\\n\\nDruid Level Spells\\n\\n3rd invisibility, pass without trace\\n\\n5th daylight, haste\\n\\n7th divination, freedom of movement\\n\\n9th dream, insect plague\\n\\nMountain\\n\\nThe Gri�on's Saddlebag: Book Two has landed on D&D Beyond!\",\n",
       " \"DISMISS\\n\\n12/21/24, 9:11 PM Druid - Player's Handbook (2014) - Dungeons & Dragons - Sources - D&D Beyond\\n\\n7/10\\n\\n\\n\\nDruid Level Spells\\n\\n3rd spider climb, spike growth\\n\\n5th lightning bolt, meld into stone\\n\\n7th stone shape, stoneskin\\n\\n9th passwall, wall of stone\\n\\nSwamp\\n\\nDruid Level Spells\\n\\n3rd darkness, Melf’s acid arrow\\n\\n5th water walk, stinking cloud\\n\\n7th freedom of movement, locate creature\\n\\n9th insect plague, scrying\\n\\nUnderdark\\n\\nDruid Level Spells\\n\\n3rd spider climb, web\\n\\n5th gaseous form, stinking cloud\\n\\n7th greater invisibility, stone shape\\n\\n9th cloudkill, insect plague\\n\\nLand’s Stride\\n\\nStarting at 6th level, moving through nonmagical difficult terrain costs you no extra movement.\",\n",
       " \"The ancient druidic traditions are sometimes called the Old Faith, in contrast to the worship of gods in temples and shrines.\\n\\nDruid spells are oriented toward nature and animals — the power of tooth and claw, of sun and moon, of fire and storm. Druids also gain the ability to take\\n\\non animal forms, and some druids make a particular study of this practice, even to the point where they prefer animal form to their natural form.\\n\\nPreserve the Balance\\n\\nThe Gri�on's Saddlebag: Book Two has landed on D&D Beyond!\",\n",
       " 'You can recover either a 2nd-level slot or two 1st-level\\n\\nslots.\\n\\nCircle Spells\\n\\nYour mystical connection to the land infuses you with the ability to cast certain spells. At 3rd, 5th, 7th, and 9th level you gain access to circle spells\\n\\nconnected to the land where you became a druid. Choose that land — arctic, coast, desert, forest, grassland, mountain, swamp, or Underdark — and\\n\\nconsult the associated list of spells.\\n\\nOnce you gain access to a circle spell, you always have it prepared, and it doesn’t count against the number of spells you can prepare each day.',\n",
       " 'Maybe your character was born during an epic storm or a volcanic\\n\\neruption, which was interpreted as a sign that becoming a druid was part of your character’s destiny.\\n\\nHave you always been an adventurer as part of your druidic calling, or did you first spend time as a caretaker of a sacred grove or spring? Perhaps your\\n\\nhomeland was befouled by evil, and you took up an adventuring life in hopes of finding a new home or purpose.\\n\\nQuick Build\\n\\nYou can make a druid quickly by following these suggestions. First, Wisdom should be your highest ability score, followed by Constitution.',\n",
       " 'Equipment that merges with the form has no effect until you leave the form.\\n\\nDruid Circle\\n\\nAt 2nd level, you choose to identify with a circle of druids: the Circle of the Land or the Circle of the Moon, both detailed at the end of the class description.\\n\\nYour choice grants you features at 2nd level and again at 6th, 10th, and 14th level.\\n\\nAbility Score Improvement\\n\\nWhen you reach 4th level, and again at 8th, 12th, 16th, and 19th level, you can increase one ability score of your choice by 2, or you can increase two ability\\n\\nscores of your choice by 1.',\n",
       " \"As normal, you can’t increase an ability score above 20 using this feature.\\n\\nTimeless Body\\n\\nStarting at 18th level, the primal magic that you wield causes you to age more slowly. For every 10 years that pass, your body ages only 1 year.\\n\\nBeast Spells\\n\\nBeginning at 18th level, you can cast many of your druid spells in any shape you assume using Wild Shape. You can perform the somatic and verbal\\n\\ncomponents of a druid spell while in a beast shape, but you aren’t able to provide material components.\\n\\nArchdruid\\n\\nThe Gri�on's Saddlebag: Book Two has landed on D&D Beyond!\",\n",
       " \"Second, choose\\n\\nthe hermit background.\\n\\nThe Druid\\n\\n\\xa0 — Spell Slots per Spell Level —\\n\\nLevel\\nProficiency\\n\\nBonus Features\\nCantrips\\nKnown 1st 2nd 3rd 4th 5th 6th 7th 8th 9th\\n\\n1st +2 Druidic, Spellcasting 2 2 — — — — — — — —\\n\\n2nd +2 Wild Shape, Druid Circle 2 3 — — — — — — — —\\n\\n3rd +2 — 2 4 2 — — — — — — —\\n\\n4th +2\\nWild Shape Improvement, Ability Score\\nImprovement 3 4 3 — — — — — — —\\n\\n5th +3 — 3 4 3 2 — — — — — —\\n\\n6th +3 Druid Circle Feature 3 4 3 3 — — — — — —\\n\\n7th +3 — 3 4 3 3 1 — — — — —\\n\\n8th +3\\nWild Shape Improvement, Ability Score\\nImprovement 3 4 3 3 2 — — — — —\\n\\nThe Gri�on's Saddlebag: Book Two has landed on D&D Beyond!\",\n",
       " \"DISMISS\\n\\n12/21/24, 9:11 PM Druid - Player's Handbook (2014) - Dungeons & Dragons - Sources - D&D Beyond\\n\\n5/10\\n\\n\\n\\nAt 20th level, you can use your Wild Shape an unlimited number of times.\\n\\nAdditionally, you can ignore the verbal and somatic components of your druid spells, as well as any material components that lack a cost and aren’t\\n\\nconsumed by a spell.\"]"
      ]
     },
     "execution_count": 6,
     "metadata": {},
     "output_type": "execute_result"
    }
   ],
   "source": [
    "[h[\"_source\"][\"passage\"] for h in hits]"
   ]
  },
  {
   "cell_type": "code",
   "execution_count": null,
   "metadata": {},
   "outputs": [],
   "source": []
  }
 ],
 "metadata": {
  "kernelspec": {
   "display_name": "Python 3",
   "language": "python",
   "name": "python3"
  },
  "language_info": {
   "codemirror_mode": {
    "name": "ipython",
    "version": 3
   },
   "file_extension": ".py",
   "mimetype": "text/x-python",
   "name": "python",
   "nbconvert_exporter": "python",
   "pygments_lexer": "ipython3",
   "version": "3.10.16"
  }
 },
 "nbformat": 4,
 "nbformat_minor": 2
}
