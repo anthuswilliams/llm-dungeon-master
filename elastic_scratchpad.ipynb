{
 "cells": [
  {
   "cell_type": "code",
   "execution_count": 3,
   "metadata": {},
   "outputs": [],
   "source": [
    "import requests\n",
    "import json\n",
    "\n",
    "import os\n",
    "import base64"
   ]
  },
  {
   "cell_type": "code",
   "execution_count": 4,
   "metadata": {},
   "outputs": [],
   "source": [
    "def elastic_request(data=None, method=None, url=None):\n",
    "    if method == None:\n",
    "        method = requests.get\n",
    "    if data:\n",
    "        data = json.dumps(data)    \n",
    "\n",
    "    return method(f\"https://192.168.1.153:9200/{url}\",\n",
    "                  headers={\n",
    "                    \"Content-Type\": \"application/json\",\n",
    "                    \"Accept\": \"application/json\",\n",
    "                    \"Authorization\": \"ApiKey NzhQRTdKTUJPSHd1QnVDSjk2ekE6VTFRdW4zZHdSM3U3cXFHejRRWkNEZw==\"\n",
    "                  },\n",
    "                  verify=False,\n",
    "                  data=data)"
   ]
  },
  {
   "cell_type": "code",
   "execution_count": null,
   "metadata": {},
   "outputs": [],
   "source": [
    "rslt = elastic_request(url=\"players-handbook/_search\",\n",
    "                       data={\n",
    "                            \"query\": {\n",
    "                                \"match\": {\n",
    "                                    \"attachment.content\": {\n",
    "                                        \"query\": \"can I cast Hunter's Mark on an entity who is Invisible?\"\n",
    "                                    }\n",
    "                                }\n",
    "                            }\n",
    "                        })"
   ]
  },
  {
   "cell_type": "code",
   "execution_count": null,
   "metadata": {},
   "outputs": [],
   "source": [
    "rslt.json()"
   ]
  },
  {
   "cell_type": "code",
   "execution_count": null,
   "metadata": {},
   "outputs": [],
   "source": [
    "rslt2 = elastic_request(url=\"_ingest/pipeline/attachment\", method=requests.put, data={\n",
    "  \"description\" : \"Extract attachment information\",\n",
    "  \"processors\" : [\n",
    "    {\n",
    "      \"attachment\" : {\n",
    "        \"field\" : \"data\",\n",
    "        \"remove_binary\": True\n",
    "      }\n",
    "    }\n",
    "  ]\n",
    "})"
   ]
  },
  {
   "cell_type": "code",
   "execution_count": null,
   "metadata": {},
   "outputs": [],
   "source": [
    "rslt2.json()"
   ]
  },
  {
   "cell_type": "code",
   "execution_count": 7,
   "metadata": {},
   "outputs": [],
   "source": [
    "dir_path = \"/data/Player's Handbook 5e (2014)\"\n",
    "encoded_files = []\n",
    "for filename in os.listdir(dir_path):\n",
    "    file_path = os.path.join(dir_path, filename)\n",
    "\n",
    "    if os.path.isfile(file_path):\n",
    "        with open(file_path, 'rb') as file:\n",
    "            file_content = file.read()\n",
    "            encoded_content = base64.b64encode(file_content).decode('utf-8')\n",
    "            encoded_files.append((filename, encoded_content))"
   ]
  },
  {
   "cell_type": "code",
   "execution_count": null,
   "metadata": {},
   "outputs": [],
   "source": [
    "for filename, contents in encoded_files:\n",
    "    rslt3 = elastic_request(method=requests.put, url=f\"players-handbook/_doc/{filename}?pipeline=attachment\", data={\"data\": contents})\n",
    "    print(rslt3.json())"
   ]
  }
 ],
 "metadata": {
  "kernelspec": {
   "display_name": "Python 3",
   "language": "python",
   "name": "python3"
  },
  "language_info": {
   "codemirror_mode": {
    "name": "ipython",
    "version": 3
   },
   "file_extension": ".py",
   "mimetype": "text/x-python",
   "name": "python",
   "nbconvert_exporter": "python",
   "pygments_lexer": "ipython3",
   "version": "3.10.16"
  }
 },
 "nbformat": 4,
 "nbformat_minor": 2
}
