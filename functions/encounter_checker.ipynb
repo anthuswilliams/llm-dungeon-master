{
 "cells": [
  {
   "cell_type": "code",
   "execution_count": 12,
   "metadata": {},
   "outputs": [
    {
     "name": "stdout",
     "output_type": "stream",
     "text": [
      "                 Easy  Medium  Hard  Deadly\n",
      "Character level                            \n",
      "1                  25      50    75     100\n",
      "2                  50     100   150     200\n",
      "3                  75     150   225     400\n",
      "4                 125     250   375     500\n",
      "5                 250     500   750    1100\n",
      "6                 300     600   900    1400\n",
      "7                 350     750  1100    1700\n",
      "8                 450     900  1400    2100\n",
      "9                 550    1100  1600    2400\n",
      "10                600    1200  1900    2800\n",
      "11                800    1600  2400    3600\n",
      "12               1000    2000  3000    4500\n",
      "13               1100    2200  3400    5100\n",
      "14               1250    2500  3800    5700\n",
      "15               1400    2800  4300    6400\n",
      "16               1600    3200  4800    7200\n",
      "17               2000    3900  5900    8800\n",
      "18               2100    4200  6300    9500\n",
      "19               2400    4900  7300   10900\n",
      "20               2800    5700  8500   12700\n"
     ]
    }
   ],
   "source": [
    "import pandas as pd \n",
    "\n",
    "character_table = pd.read_csv('xp_table.csv', index_col='Character level')\n",
    "print(character_table)"
   ]
  },
  {
   "cell_type": "code",
   "execution_count": 33,
   "metadata": {},
   "outputs": [],
   "source": [
    "def calculate_party_xp(party):\n",
    "    members = pd.Series([0, 0, 0, 0], index=['Easy', 'Medium', 'Hard', 'Deadly'])  \n",
    "    for member in party:\n",
    "        members += character_table.loc[member]\n",
    "    return members"
   ]
  },
  {
   "cell_type": "code",
   "execution_count": 38,
   "metadata": {},
   "outputs": [
    {
     "name": "stdout",
     "output_type": "stream",
     "text": [
      "Easy      100\n",
      "Medium    200\n",
      "Hard      300\n",
      "Deadly    400\n",
      "dtype: int64\n"
     ]
    }
   ],
   "source": [
    "party = [1, 2, 1]\n",
    "\n",
    "print(calculate_party_xp(party))"
   ]
  },
  {
   "cell_type": "code",
   "execution_count": 18,
   "metadata": {},
   "outputs": [],
   "source": [
    "def sum_enemies_xp(enemies_xp):\n",
    "    return sum(enemies_xp)"
   ]
  },
  {
   "cell_type": "code",
   "execution_count": 42,
   "metadata": {},
   "outputs": [],
   "source": [
    "def determine_difficulty(party, enemies_xp):\n",
    "    xp_thresholds = calculate_party_xp(party)\n",
    "    total_xp = sum_enemies_xp(enemies_xp)\n",
    "\n",
    "    if total_xp <= xp_thresholds['Easy']:\n",
    "        return 'Easy'\n",
    "    elif total_xp <= xp_thresholds['Medium']:\n",
    "        return 'Medium'\n",
    "    elif total_xp <= xp_thresholds['Hard']:\n",
    "        return 'Hard'\n",
    "    else:\n",
    "        return 'Deadly'"
   ]
  },
  {
   "cell_type": "code",
   "execution_count": 43,
   "metadata": {},
   "outputs": [
    {
     "data": {
      "text/plain": [
       "'Medium'"
      ]
     },
     "execution_count": 43,
     "metadata": {},
     "output_type": "execute_result"
    }
   ],
   "source": [
    "determine_difficulty(party, [100, 100])"
   ]
  },
  {
   "cell_type": "code",
   "execution_count": null,
   "metadata": {},
   "outputs": [],
   "source": []
  }
 ],
 "metadata": {
  "kernelspec": {
   "display_name": "Python 3",
   "language": "python",
   "name": "python3"
  },
  "language_info": {
   "codemirror_mode": {
    "name": "ipython",
    "version": 3
   },
   "file_extension": ".py",
   "mimetype": "text/x-python",
   "name": "python",
   "nbconvert_exporter": "python",
   "pygments_lexer": "ipython3",
   "version": "3.10.13"
  }
 },
 "nbformat": 4,
 "nbformat_minor": 2
}
