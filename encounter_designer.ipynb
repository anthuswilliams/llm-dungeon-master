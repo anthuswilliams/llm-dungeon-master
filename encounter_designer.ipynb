{
 "cells": [
  {
   "cell_type": "code",
   "execution_count": 4,
   "metadata": {},
   "outputs": [
    {
     "name": "stdout",
     "output_type": "stream",
     "text": [
      "Encounter Design:\n",
      "For a medium difficulty encounter for three level 1 players in a city setting, we can focus on a combat encounter against a group of bandits who are causing trouble in the area. To add variety and make the encounter more interesting, we can also incorporate some social and environmental challenges.\n",
      "\n",
      "Narrative and Setting Context:\n",
      "The players are in a bustling city that has recently been plagued by a group of bandits. The bandits have been robbing travelers and causing fear among the citizens. The local authorities have put a bounty on the bandits' heads, and the players have decided to take on the task of bringing them to justice.\n",
      "\n",
      "Encounter Details:\n",
      "1. Creatures/Adversaries:\n",
      "   - Bandit Captain (CR 2)\n",
      "   - Bandit (CR 1/8) x3\n",
      "\n",
      "2. Terrain and Environmental Features:\n",
      "   - The encounter can take place in an alleyway in the city, with various crates and barrels providing cover.\n",
      "   - There could be some narrow rooftops nearby, accessible through a series of skill checks, adding verticality to the encounter.\n",
      "\n",
      "3. Strategies and Tactics:\n",
      "   - The Bandit Captain could be leading the group, giving commands to the other bandits and coordinating their attacks.\n",
      "   - The Bandit Captain might use their Multiattack feature, attacking with both their scimitar and their crossbow, and focusing on the most threatening player character.\n",
      "   - The regular bandits could spread out to flank the players, utilizing hit-and-run tactics to avoid being surrounded.\n",
      "   - The Bandit Captain might attempt to escape if they are heavily injured, adding a chase element to the encounter.\n",
      "\n",
      "4. Special Conditions and Objectives:\n",
      "   - The objective of the encounter is to defeat or capture the bandits and bring them to justice.\n",
      "   - The players could have the option to try and negotiate with the bandits before combat starts, offering an alternative to combat if they succeed on a Charisma-based skill check.\n",
      "\n",
      "By designing the encounter this way, there is a balance of combat, social, and environmental challenges. The encounter fits seamlessly into the ongoing story and setting, as the players work towards eliminating the bandit problem in the city.\n"
     ]
    }
   ],
   "source": [
    "system_message = \"\"\"\n",
    "    You are designing an encounter for Dungeons and Dragons 5th Edition.  You have the following information:\n",
    "    Input Parameters:\n",
    "\n",
    "    Player Information: Number of players and their respective levels.\n",
    "    Desired Difficulty Level: Easy, Medium, Hard, or Deadly.\n",
    "    Narrative and Setting Context: Brief description of the current narrative and setting in which the encounter will take place.\n",
    "    \n",
    "    As the encounter designer you should consider the following:\n",
    "\n",
    "    Select Appropriate Creatures: Choose creatures with Challenge Ratings (CR) that match the desired difficulty level, ensuring that the total encounter difficulty is appropriate for the players' strength.\n",
    "    Encounter Design Principles:\n",
    "    Balance: Ensure that the encounter matches the desired difficulty level.\n",
    "    Narrative Integration: Design the encounter to fit seamlessly into the ongoing story and setting.\n",
    "    Variety: Introduce different types of challenges (combat, environmental, social) to keep the encounter interesting.\n",
    "    Output of encounter details:\n",
    "    Provide a list of creatures or adversaries, including their CRs.\n",
    "    Suggest terrain and environmental features that enhance the encounter.\n",
    "    Offer potential strategies or tactics that the creatures might use.\n",
    "    Include any special conditions or objectives relevant to the encounter.\n",
    "\"\"\"\n"
   ]
  },
  {
   "cell_type": "markdown",
   "metadata": {},
   "source": [
    "1. Include/generate enemy stat blocks\n",
    "2. Wire it up - enemies should be initiatalized as agents.enemy and the DM should be initialized with all of the relevant characters sheets\n",
    "3. Make sure CR is appropriate for the characters and requested difficulty\n",
    "4. Make sure enemies and environment are thematically appropriate\n",
    "5. Benchmark could implement CR calculator to evaluate options\n"
   ]
  },
  {
   "cell_type": "code",
   "execution_count": 9,
   "metadata": {},
   "outputs": [],
   "source": [
    "from pydantic import BaseModel, Field\n",
    "from typing import List\n",
    "\n",
    "class Action(BaseModel):\n",
    "    \"\"\"A special move or tactic an enemy may take\"\"\"\n",
    "    name: str = Field(\"Name of the action\")\n",
    "    description: str = Field(\"Description of what the action does and how it works\")\n",
    "\n",
    "class StatBlock(BaseModel):\n",
    "    \"\"\"Enemy stats definition, should include all innate abilities, spells, skill modifiers, armor class, and initiative\"\"\"\n",
    "    armor_class: int = Field(\"The enemy's Armor Class\")\n",
    "    hit_point: int = Field(\"The enemy's Hit Points\")\n",
    "    speed: str = Field(\"The enemy's base movement speed\")\n",
    "\n",
    "    strength: str = Field(\"The enemy's strength (STR), should be of the form [[Value]] ([[Modifier]])\")\n",
    "    dexterity: str = Field(\"The enemy's dexterity (DEX), should be of the form [[Value]] ([[Modifier]])\")\n",
    "    constitution: str = Field(\"The enemy's constitution (CON), should be of the form [[Value]] ([[Modifier]])\")\n",
    "    intelligence: str = Field(\"The enemy's intelligence (INT), should be of the form [[Value]] ([[Modifier]])\")\n",
    "    wisdom: str = Field(\"The enemy's wisdom (WIS), should be of the form [[Value]] ([[Modifier]])\")\n",
    "    charisma: str = Field(\"The enemy's charisma (CHA), should be of the form [[Value]] ([[Modifier]])\")\n",
    "\n",
    "class Enemy(BaseModel):\n",
    "    \"\"\"Defines an enemy including all stats, conditions, and modifiers\"\"\"\n",
    "    name: str = Field(\"The name of the creature or humanoid enemy\")\n",
    "    stats: StatBlock = Field(\"\"\"The stat block for the enemy\"\"\")\n",
    "    cr: str = Field(\"The enemy's Challenge Rating\")\n",
    "    actions: List[Action] = Field(\"A list of actions that the enemy may take\")\n",
    "    other_info: str = Field(\"Any other information relevant to how the enemy appears, acts, moves, or behaves\")\n",
    "\n",
    "class Encounter(BaseModel):\n",
    "    \"\"\"Defines an encounter including any enemies, terrain, setting, etc.\"\"\"\n",
    "    enemies: List[Enemy] = Field(\"List of enemies included in the encounter\")"
   ]
  },
  {
   "cell_type": "code",
   "execution_count": 10,
   "metadata": {},
   "outputs": [
    {
     "name": "stdout",
     "output_type": "stream",
     "text": [
      "{'enemies': [{'name': 'Sand Elemental', 'stats': {'armor_class': 15, 'hit_point': 90, 'speed': '30 ft., burrow 30 ft.', 'strength': '18 (+4)', 'dexterity': '14 (+2)', 'constitution': '16 (+3)', 'intelligence': '6 (-2)', 'wisdom': '10 (+0)', 'charisma': '6 (-2)'}, 'cr': '5', 'actions': [{'name': 'Slam', 'description': 'Melee Weapon Attack: +7 to hit, reach 5 ft., one target. Hit: 14 (2d8 + 5) bludgeoning damage.'}, {'name': 'Whirlwind', 'description': \"Each creature in the elemental's space must make a DC 13 Strength saving throw. On a failure, a target takes 15 (3d8 + 2) bludgeoning damage and is flung up 20 feet away from the elemental in a random direction and knocked prone. If a thrown target strikes an object, such as a wall or floor, the target takes 3 (1d6) bludgeoning damage for every 10 feet it was thrown. If the target is thrown at another creature, that creature must succeed on a DC 13 Dexterity saving throw or take the same damage and be knocked prone.\"}], 'other_info': 'The Sand Elemental is immune to exhaustion, grappled, paralyzed, petrified, poisoned, prone, restrained, and unconscious conditions. It has advantage on saving throws against spells and other magical effects.'}, {'name': 'Desert Scorpion', 'stats': {'armor_class': 14, 'hit_point': 52, 'speed': '40 ft.', 'strength': '14 (+2)', 'dexterity': '16 (+3)', 'constitution': '14 (+2)', 'intelligence': '2 (-4)', 'wisdom': '10 (+0)', 'charisma': '2 (-4)'}, 'cr': '3', 'actions': [{'name': 'Claw', 'description': 'Melee Weapon Attack: +5 to hit, reach 5 ft., one target. Hit: 9 (2d6 + 2) piercing damage, and the target must make a DC 12 Constitution saving throw, taking 10 (3d6) poison damage on a failed save, or half as much damage on a successful one.'}, {'name': 'Sting', 'description': 'Melee Weapon Attack: +5 to hit, reach 5 ft., one target. Hit: 7 (1d8 + 3) piercing damage, and the target must make a DC 12 Constitution saving throw, taking 10 (3d6) poison damage on a failed save, or half as much damage on a successful one.'}], 'other_info': 'The Desert Scorpion has advantage on Dexterity (Stealth) checks made to hide in sandy terrain.'}]}\n"
     ]
    }
   ],
   "source": [
    "import simpleaichat\n",
    "\n",
    "formatted_question = \"Design an encounter for three level 5 players that is medium difficulty, and is set in a desert.\"\n",
    "\n",
    "\n",
    "ai = simpleaichat.AIChat(console=False,\n",
    "            save_messages=False,\n",
    "            model=\"gpt-3.5-turbo\",\n",
    "            params={\"temperature\": 0.0},\n",
    "            system=system_message\n",
    "            )\n",
    "\n",
    "response_structured = ai(\n",
    "    formatted_question,\n",
    "    output_schema=Encounter\n",
    ")\n",
    "\n",
    "print(response_structured)\n"
   ]
  },
  {
   "cell_type": "code",
   "execution_count": 11,
   "metadata": {},
   "outputs": [
    {
     "name": "stdout",
     "output_type": "stream",
     "text": [
      "{\n",
      "  \"name\": \"Sand Elemental\",\n",
      "  \"stats\": {\n",
      "    \"armor_class\": 15,\n",
      "    \"hit_point\": 90,\n",
      "    \"speed\": \"30 ft., burrow 30 ft.\",\n",
      "    \"strength\": \"18 (+4)\",\n",
      "    \"dexterity\": \"14 (+2)\",\n",
      "    \"constitution\": \"16 (+3)\",\n",
      "    \"intelligence\": \"6 (-2)\",\n",
      "    \"wisdom\": \"10 (+0)\",\n",
      "    \"charisma\": \"6 (-2)\"\n",
      "  },\n",
      "  \"cr\": \"5\",\n",
      "  \"actions\": [\n",
      "    {\n",
      "      \"name\": \"Slam\",\n",
      "      \"description\": \"Melee Weapon Attack: +7 to hit, reach 5 ft., one target. Hit: 14 (2d8 + 5) bludgeoning damage.\"\n",
      "    },\n",
      "    {\n",
      "      \"name\": \"Whirlwind\",\n",
      "      \"description\": \"Each creature in the elemental's space must make a DC 13 Strength saving throw. On a failure, a target takes 15 (3d8 + 2) bludgeoning damage and is flung up 20 feet away from the elemental in a random direction and knocked prone. If a thrown target strikes an object, such as a wall or floor, the target takes 3 (1d6) bludgeoning damage for every 10 feet it was thrown. If the target is thrown at another creature, that creature must succeed on a DC 13 Dexterity saving throw or take the same damage and be knocked prone.\"\n",
      "    }\n",
      "  ],\n",
      "  \"other_info\": \"The Sand Elemental is immune to exhaustion, grappled, paralyzed, petrified, poisoned, prone, restrained, and unconscious conditions. It has advantage on saving throws against spells and other magical effects.\"\n",
      "}\n"
     ]
    }
   ],
   "source": [
    "import json\n",
    "print(json.dumps(response_structured[\"enemies\"][0], indent=2))\n",
    "\n",
    "    "
   ]
  },
  {
   "cell_type": "code",
   "execution_count": null,
   "metadata": {},
   "outputs": [],
   "source": []
  }
 ],
 "metadata": {
  "kernelspec": {
   "display_name": "Python 3",
   "language": "python",
   "name": "python3"
  },
  "language_info": {
   "codemirror_mode": {
    "name": "ipython",
    "version": 3
   },
   "file_extension": ".py",
   "mimetype": "text/x-python",
   "name": "python",
   "nbconvert_exporter": "python",
   "pygments_lexer": "ipython3",
   "version": "3.10.11"
  }
 },
 "nbformat": 4,
 "nbformat_minor": 2
}
