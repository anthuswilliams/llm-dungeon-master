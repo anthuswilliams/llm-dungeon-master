{
 "cells": [
  {
   "cell_type": "code",
   "execution_count": 11,
   "metadata": {},
   "outputs": [
    {
     "name": "stdout",
     "output_type": "stream",
     "text": [
      "Encounter Details:\n",
      "\n",
      "Narrative and Setting Context:\n",
      "The encounter takes place in the city of Eldoria, a bustling metropolis filled with narrow alleys, towering buildings, and busy marketplaces. The players are on a mission to retrieve a stolen artifact that is rumored to be hidden within a secret underground lair beneath one of the city's abandoned buildings.\n",
      "\n",
      "Select Appropriate Creatures:\n",
      "For a medium difficulty encounter for three level 1 players, a good choice of creatures could be a group of four Bandits (CR 1/8) led by a Bandit Captain (CR 2). This mix of enemies provides both a challenge and variety in combat encounters.\n",
      "\n",
      "Terrain and Environmental Features:\n",
      "The encounter can take place in the abandoned building, which has collapsed walls, broken furniture, and debris strewn across the floors. The underground tunnels leading to the lair can be dark and cramped, requiring the players to navigate carefully.\n",
      "\n",
      "Potential Strategies and Tactics:\n",
      "The Bandit Captain, being the leader, would command the other bandits to strategically position themselves, taking cover behind debris or using the darkness to their advantage. They might set up traps, such as tripwires or hidden pitfalls, to slow down the players' progress. The Bandit Captain could also have a backup escape plan in case the encounter becomes too difficult.\n",
      "\n",
      "Special Conditions and Objectives:\n",
      "To make the encounter more interesting, and to fit into the narrative, the players could have additional objectives. For example, they might need to retrieve the stolen artifact intact while also freeing a captured NPC who has valuable information. This introduces a social and environmental challenge, as they may need to negotiate with the bandits or search for hidden passages in the tunnels.\n",
      "\n",
      "Summary:\n",
      "- Adversaries: 4 Bandits (CR 1/8) and 1 Bandit Captain (CR 2)\n",
      "- Terrain: Abandoned building with collapsed walls and underground tunnels.\n",
      "- Strategies and Tactics: Bandits take cover, set up traps, and employ hit-and-run tactics.\n",
      "- Special Conditions: Retrieve the stolen artifact intact and free a captured NPC.\n"
     ]
    }
   ],
   "source": [
    "from openai import OpenAI\n",
    "\n",
    "client = OpenAI()\n",
    "\n",
    "system_message = \"\"\"\n",
    "    You are designing an encounter for Dungeons and Dragons 5th Edition.  You have the following information:\n",
    "    Input Parameters:\n",
    "\n",
    "    Player Information: Number of players and their respective levels.\n",
    "    Desired Difficulty Level: Easy, Medium, Hard, or Deadly.\n",
    "    Narrative and Setting Context: Brief description of the current narrative and setting in which the encounter will take place.\n",
    "    \n",
    "    As the encounter designer you should consider the following:\n",
    "\n",
    "    Select Appropriate Creatures: Choose creatures with Challenge Ratings (CR) that match the desired difficulty level, ensuring that the total encounter difficulty is appropriate for the players' strength.\n",
    "    Encounter Design Principles:\n",
    "    Balance: Ensure that the encounter matches the desired difficulty level.\n",
    "    Narrative Integration: Design the encounter to fit seamlessly into the ongoing story and setting.\n",
    "    Variety: Introduce different types of challenges (combat, environmental, social) to keep the encounter interesting.\n",
    "    Output of encounter details:\n",
    "    Provide a list of creatures or adversaries, including their CRs.\n",
    "    Suggest terrain and environmental features that enhance the encounter.\n",
    "    Offer potential strategies or tactics that the creatures might use.\n",
    "    Include any special conditions or objectives relevant to the encounter.\n",
    "\"\"\"\n",
    "\n",
    "formatted_question = \"Design an encounter for three level 1 players that is medium difficulty, and is set in a city.\"\n",
    "\n",
    "messages = [\n",
    "    {\"role\": \"system\", \"content\": system_message},\n",
    "    {\n",
    "        \"role\": \"user\",\n",
    "        \"content\": formatted_question,\n",
    "    }\n",
    "]\n",
    "\n",
    "# Send the messages to the OpenAI API\n",
    "response = client.chat.completions.create(\n",
    "  model=\"gpt-3.5-turbo\",\n",
    "  messages=messages\n",
    ")\n",
    "\n",
    "# Print the assistant's reply\n",
    "\n",
    "print(response.choices[0].message.content)\n"
   ]
  },
  {
   "cell_type": "code",
   "execution_count": null,
   "metadata": {},
   "outputs": [],
   "source": []
  }
 ],
 "metadata": {
  "kernelspec": {
   "display_name": "Python 3",
   "language": "python",
   "name": "python3"
  },
  "language_info": {
   "codemirror_mode": {
    "name": "ipython",
    "version": 3
   },
   "file_extension": ".py",
   "mimetype": "text/x-python",
   "name": "python",
   "nbconvert_exporter": "python",
   "pygments_lexer": "ipython3",
   "version": "3.10.13"
  }
 },
 "nbformat": 4,
 "nbformat_minor": 2
}
