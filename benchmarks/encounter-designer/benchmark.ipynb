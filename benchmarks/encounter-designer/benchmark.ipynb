{
 "cells": [
  {
   "cell_type": "code",
   "execution_count": 1,
   "metadata": {},
   "outputs": [],
   "source": [
    "import sys\n",
    "import os\n",
    "import os\n",
    "os.chdir(\"/workspaces/llm-dungeon-master/\")\n",
    "\n",
    "from glob import glob\n",
    "import json\n",
    "import pandas as pd\n",
    "\n",
    "from langchain.agents import Tool\n",
    "\n",
    "import agents.encounter_designer as ed\n",
    "import functions.encounter_checker as ec"
   ]
  },
  {
   "cell_type": "code",
   "execution_count": 2,
   "metadata": {},
   "outputs": [],
   "source": [
    "questions = [\n",
    "    {\n",
    "        \"challenge\": \"Design an encounter for three level 1 players that is medium difficulty, and is set in a mysterious forest\",\n",
    "        \"party\": [1, 1, 1],\n",
    "        \"difficulty\": \"Medium\"\n",
    "    },\n",
    "    {\n",
    "        \"challenge\": \"Design an encounter for three level 3 players that is Hard difficulty. It is set in an ancient underground temple where a snake god is worshipped\",\n",
    "        \"party\": [3, 3, 3],\n",
    "        \"difficulty\": \"Hard\"\n",
    "    },\n",
    "    {\n",
    "        \"challenge\": \"Design an easy encounter for two level 2 players, set in a swamp\",\n",
    "        \"party\": [2, 2],\n",
    "        \"difficulty\": \"Easy\"\n",
    "    },\n",
    "    {\n",
    "        \"challenge\": \"Create a 'Deadly' difficulty encounter for a party of four players: two at level 4 and two at level 5. The setting is a haunted castle with a history of vanishing travelers.\",\n",
    "        \"party\": [4, 4, 5, 5],\n",
    "        \"difficulty\": \"Deadly\"\n",
    "    },\n",
    "    {\n",
    "        \"challenge\": \"Design a 'Medium' difficulty encounter for five level 2 players. The encounter takes place in a bustling city market during a festival, involving a thief guild's ambush.\",\n",
    "        \"party\": [2, 2, 2, 2, 2],\n",
    "        \"difficulty\": \"Medium\"\n",
    "    },\n",
    "    {\n",
    "        \"challenge\": \"Construct an 'Easy' difficulty encounter for three level 3 players. The environment is a frozen tundra, and the encounter should involve ice elementals.\",\n",
    "        \"party\": [3, 3, 3],\n",
    "        \"difficulty\": \"Easy\"\n",
    "    },\n",
    "    {\n",
    "        \"challenge\": \"Design a 'Hard' difficulty encounter for a party of four: two at level 6 and two at level 7. The setting is an abandoned dwarven mine, now inhabited by dark creatures.\",\n",
    "        \"party\": [6, 6, 7, 7],\n",
    "        \"difficulty\": \"Hard\"\n",
    "    },\n",
    "    {\n",
    "        \"challenge\": \"Create an 'Easy' difficulty encounter for a party of three level 1 players. The setting is a mystical forest, where the players encounter mischievous faeries.\",\n",
    "        \"party\": [1, 1, 1],\n",
    "        \"difficulty\": \"Easy\"\n",
    "    },\n",
    "    {\n",
    "        \"challenge\": \"Develop a 'Medium' difficulty encounter for a party of four level 4 players. This encounter is set in a coastal town under attack by sahuagin raiders.\",\n",
    "        \"party\": [4, 4, 4, 4],\n",
    "        \"difficulty\": \"Medium\"\n",
    "    },\n",
    "    {\n",
    "        \"challenge\": \"Craft a 'Deadly' difficulty encounter for a party of five players, two at level 8 and three at level 9. The scenario is set in a volcanic region, guarded by a dragon.\",\n",
    "        \"party\": [8, 8, 9, 9, 9],\n",
    "        \"difficulty\": \"Deadly\"\n",
    "    }\n",
    "]"
   ]
  },
  {
   "cell_type": "code",
   "execution_count": 3,
   "metadata": {},
   "outputs": [],
   "source": [
    "def exceeded_total(question, rec):\n",
    "    used_xp = sum(e[\"xp\"] for e in rec[\"enemies\"])\n",
    "    difficulty = question[\"difficulty\"]\n",
    "    party = question[\"party\"]\n",
    "\n",
    "    desired_xp = ec.calculate_party_xp(party, difficulty)\n",
    "    return used_xp > desired_xp"
   ]
  },
  {
   "cell_type": "code",
   "execution_count": 4,
   "metadata": {},
   "outputs": [
    {
     "name": "stderr",
     "output_type": "stream",
     "text": [
      "/home/vscode/.local/lib/python3.10/site-packages/langchain_core/_api/deprecation.py:117: LangChainDeprecationWarning: The class `langchain_community.chat_models.openai.ChatOpenAI` was deprecated in langchain-community 0.0.10 and will be removed in 0.2.0. An updated version of the class exists in the langchain-openai package and should be used instead. To use it run `pip install -U langchain-openai` and import as `from langchain_openai import ChatOpenAI`.\n",
      "  warn_deprecated(\n"
     ]
    },
    {
     "name": "stdout",
     "output_type": "stream",
     "text": [
      "\n",
      "\n",
      "\u001b[1m> Entering new AgentExecutor chain...\u001b[0m\n",
      "\u001b[32;1m\u001b[1;3m\n",
      "Invoking: `DifficultyMap` with `{'player_levels': [1, 1, 1], 'desired_difficulty': 'Medium'}`\n",
      "\n",
      "\n",
      "\u001b[0m\u001b[36;1m\u001b[1;3m150\u001b[0m\u001b[32;1m\u001b[1;3m\n",
      "Invoking: `StructureEncounter` with `{'enemies': [{'name': 'Forest Guardian', 'stats': {'armor_class': 13, 'hit_point': 27, 'speed': '30 ft.', 'initiative': '+2', 'strength': '+2', 'dexterity': '+2', 'constitution': '+2', 'intelligence': '-1', 'wisdom': '+3', 'charisma': '+1'}, 'cr': '1/2', 'xp': 100, 'actions': [{'name': 'Slam', 'description': 'Melee Weapon Attack: +4 to hit, reach 5 ft., one target. Hit: 6 (1d6 + 3) bludgeoning damage.'}, {'name': \"Nature's Wrath\", 'description': 'The forest guardian calls upon the power of nature, causing vines to erupt from the ground and restrain a target. The target must make a DC 12 Strength saving throw or be restrained for 1 minute.'}], 'other_info': 'The forest guardian is a powerful spirit that protects the secrets of the mysterious forest.'}, {'name': 'Forest Sprite', 'stats': {'armor_class': 15, 'hit_point': 10, 'speed': '20 ft., fly 40 ft.', 'initiative': '+4', 'strength': '-3', 'dexterity': '+4', 'constitution': '-1', 'intelligence': '+2', 'wisdom': '+2', 'charisma': '+3'}, 'cr': '1/4', 'xp': 50, 'actions': [{'name': 'Shortbow', 'description': 'Ranged Weapon Attack: +6 to hit, range 40/160 ft., one target. Hit: 5 (1d6 + 2) piercing damage.'}, {'name': 'Invisibility', 'description': 'The forest sprite magically turns invisible until it attacks or casts a spell, or until its concentration ends (as if concentrating on a spell).'}], 'other_info': 'The forest sprite is a mischievous creature that enjoys playing tricks on travelers in the forest.'}]}`\n",
      "\n",
      "\n",
      "\u001b[0m[{'name': 'Forest Guardian', 'stats': {'armor_class': 13, 'hit_point': 27, 'speed': '30 ft.', 'initiative': '+2', 'strength': '+2', 'dexterity': '+2', 'constitution': '+2', 'intelligence': '-1', 'wisdom': '+3', 'charisma': '+1'}, 'cr': '1/2', 'xp': 100, 'actions': [{'name': 'Slam', 'description': 'Melee Weapon Attack: +4 to hit, reach 5 ft., one target. Hit: 6 (1d6 + 3) bludgeoning damage.'}, {'name': \"Nature's Wrath\", 'description': 'The forest guardian calls upon the power of nature, causing vines to erupt from the ground and restrain a target. The target must make a DC 12 Strength saving throw or be restrained for 1 minute.'}], 'other_info': 'The forest guardian is a powerful spirit that protects the secrets of the mysterious forest.'}, {'name': 'Forest Sprite', 'stats': {'armor_class': 15, 'hit_point': 10, 'speed': '20 ft., fly 40 ft.', 'initiative': '+4', 'strength': '-3', 'dexterity': '+4', 'constitution': '-1', 'intelligence': '+2', 'wisdom': '+2', 'charisma': '+3'}, 'cr': '1/4', 'xp': 50, 'actions': [{'name': 'Shortbow', 'description': 'Ranged Weapon Attack: +6 to hit, range 40/160 ft., one target. Hit: 5 (1d6 + 2) piercing damage.'}, {'name': 'Invisibility', 'description': 'The forest sprite magically turns invisible until it attacks or casts a spell, or until its concentration ends (as if concentrating on a spell).'}], 'other_info': 'The forest sprite is a mischievous creature that enjoys playing tricks on travelers in the forest.'}]\n",
      "\u001b[33;1m\u001b[1;3mreturn_values={'output': {'enemies': [{'name': 'Forest Guardian', 'stats': {'armor_class': 13, 'hit_point': 27, 'speed': '30 ft.', 'initiative': '+2', 'strength': '+2', 'dexterity': '+2', 'constitution': '+2', 'intelligence': '-1', 'wisdom': '+3', 'charisma': '+1'}, 'cr': '1/2', 'xp': 100, 'actions': [{'name': 'Slam', 'description': 'Melee Weapon Attack: +4 to hit, reach 5 ft., one target. Hit: 6 (1d6 + 3) bludgeoning damage.'}, {'name': \"Nature's Wrath\", 'description': 'The forest guardian calls upon the power of nature, causing vines to erupt from the ground and restrain a target. The target must make a DC 12 Strength saving throw or be restrained for 1 minute.'}], 'other_info': 'The forest guardian is a powerful spirit that protects the secrets of the mysterious forest.'}, {'name': 'Forest Sprite', 'stats': {'armor_class': 15, 'hit_point': 10, 'speed': '20 ft., fly 40 ft.', 'initiative': '+4', 'strength': '-3', 'dexterity': '+4', 'constitution': '-1', 'intelligence': '+2', 'wisdom': '+2', 'charisma': '+3'}, 'cr': '1/4', 'xp': 50, 'actions': [{'name': 'Shortbow', 'description': 'Ranged Weapon Attack: +6 to hit, range 40/160 ft., one target. Hit: 5 (1d6 + 2) piercing damage.'}, {'name': 'Invisibility', 'description': 'The forest sprite magically turns invisible until it attacks or casts a spell, or until its concentration ends (as if concentrating on a spell).'}], 'other_info': 'The forest sprite is a mischievous creature that enjoys playing tricks on travelers in the forest.'}]}} log='[{\"name\": \"Forest Guardian\", \"stats\": {\"armor_class\": 13, \"hit_point\": 27, \"speed\": \"30 ft.\", \"initiative\": \"+2\", \"strength\": \"+2\", \"dexterity\": \"+2\", \"constitution\": \"+2\", \"intelligence\": \"-1\", \"wisdom\": \"+3\", \"charisma\": \"+1\"}, \"cr\": \"1/2\", \"xp\": 100, \"actions\": [{\"name\": \"Slam\", \"description\": \"Melee Weapon Attack: +4 to hit, reach 5 ft., one target. Hit: 6 (1d6 + 3) bludgeoning damage.\"}, {\"name\": \"Nature\\'s Wrath\", \"description\": \"The forest guardian calls upon the power of nature, causing vines to erupt from the ground and restrain a target. The target must make a DC 12 Strength saving throw or be restrained for 1 minute.\"}], \"other_info\": \"The forest guardian is a powerful spirit that protects the secrets of the mysterious forest.\"}, {\"name\": \"Forest Sprite\", \"stats\": {\"armor_class\": 15, \"hit_point\": 10, \"speed\": \"20 ft., fly 40 ft.\", \"initiative\": \"+4\", \"strength\": \"-3\", \"dexterity\": \"+4\", \"constitution\": \"-1\", \"intelligence\": \"+2\", \"wisdom\": \"+2\", \"charisma\": \"+3\"}, \"cr\": \"1/4\", \"xp\": 50, \"actions\": [{\"name\": \"Shortbow\", \"description\": \"Ranged Weapon Attack: +6 to hit, range 40/160 ft., one target. Hit: 5 (1d6 + 2) piercing damage.\"}, {\"name\": \"Invisibility\", \"description\": \"The forest sprite magically turns invisible until it attacks or casts a spell, or until its concentration ends (as if concentrating on a spell).\"}], \"other_info\": \"The forest sprite is a mischievous creature that enjoys playing tricks on travelers in the forest.\"}]'\u001b[0m\u001b[32;1m\u001b[1;3mEncounter Design:\n",
      "\n",
      "Narrative and Setting: The players find themselves in a mysterious forest, filled with ancient trees and an air of enchantment. They hear whispers in the wind and see strange lights flickering between the branches.\n",
      "\n",
      "Enemies:\n",
      "1. Forest Guardian:\n",
      "   - CR: 1/2\n",
      "   - XP: 100\n",
      "   - Stats:\n",
      "     - Armor Class: 13\n",
      "     - Hit Points: 27\n",
      "     - Speed: 30 ft.\n",
      "     - Initiative: +2\n",
      "     - Strength: +2\n",
      "     - Dexterity: +2\n",
      "     - Constitution: +2\n",
      "     - Intelligence: -1\n",
      "     - Wisdom: +3\n",
      "     - Charisma: +1\n",
      "   - Actions:\n",
      "     - Slam: Melee Weapon Attack: +4 to hit, reach 5 ft., one target. Hit: 6 (1d6 + 3) bludgeoning damage.\n",
      "     - Nature's Wrath: The forest guardian calls upon the power of nature, causing vines to erupt from the ground and restrain a target. The target must make a DC 12 Strength saving throw or be restrained for 1 minute.\n",
      "   - Other Info: The forest guardian is a powerful spirit that protects the secrets of the mysterious forest.\n",
      "\n",
      "2. Forest Sprite:\n",
      "   - CR: 1/4\n",
      "   - XP: 50\n",
      "   - Stats:\n",
      "     - Armor Class: 15\n",
      "     - Hit Points: 10\n",
      "     - Speed: 20 ft., fly 40 ft.\n",
      "     - Initiative: +4\n",
      "     - Strength: -3\n",
      "     - Dexterity: +4\n",
      "     - Constitution: -1\n",
      "     - Intelligence: +2\n",
      "     - Wisdom: +2\n",
      "     - Charisma: +3\n",
      "   - Actions:\n",
      "     - Shortbow: Ranged Weapon Attack: +6 to hit, range 40/160 ft., one target. Hit: 5 (1d6 + 2) piercing damage.\n",
      "     - Invisibility: The forest sprite magically turns invisible until it attacks or casts a spell, or until its concentration ends (as if concentrating on a spell).\n",
      "   - Other Info: The forest sprite is a mischievous creature that enjoys playing tricks on travelers in the forest.\n",
      "\n",
      "This encounter provides a medium difficulty challenge for the three level 1 players in the mysterious forest. The forest guardian adds a powerful and mysterious presence, while the forest sprite adds a touch of mischief and agility to the encounter.\u001b[0m\n",
      "\n",
      "\u001b[1m> Finished chain.\u001b[0m\n"
     ]
    }
   ],
   "source": [
    "enc = ed.design_encounter(questions[0][\"challenge\"])"
   ]
  },
  {
   "cell_type": "code",
   "execution_count": 5,
   "metadata": {},
   "outputs": [
    {
     "ename": "TypeError",
     "evalue": "string indices must be integers",
     "output_type": "error",
     "traceback": [
      "\u001b[0;31m---------------------------------------------------------------------------\u001b[0m",
      "\u001b[0;31mTypeError\u001b[0m                                 Traceback (most recent call last)",
      "Cell \u001b[0;32mIn[5], line 1\u001b[0m\n\u001b[0;32m----> 1\u001b[0m \u001b[43mexceeded_total\u001b[49m\u001b[43m(\u001b[49m\u001b[43mquestions\u001b[49m\u001b[43m[\u001b[49m\u001b[38;5;241;43m0\u001b[39;49m\u001b[43m]\u001b[49m\u001b[43m,\u001b[49m\u001b[43m \u001b[49m\u001b[43menc\u001b[49m\u001b[43m[\u001b[49m\u001b[38;5;124;43m\"\u001b[39;49m\u001b[38;5;124;43moutput\u001b[39;49m\u001b[38;5;124;43m\"\u001b[39;49m\u001b[43m]\u001b[49m\u001b[43m)\u001b[49m\n",
      "Cell \u001b[0;32mIn[3], line 2\u001b[0m, in \u001b[0;36mexceeded_total\u001b[0;34m(question, rec)\u001b[0m\n\u001b[1;32m      1\u001b[0m \u001b[38;5;28;01mdef\u001b[39;00m \u001b[38;5;21mexceeded_total\u001b[39m(question, rec):\n\u001b[0;32m----> 2\u001b[0m     used_xp \u001b[38;5;241m=\u001b[39m \u001b[38;5;28msum\u001b[39m(e[\u001b[38;5;124m\"\u001b[39m\u001b[38;5;124mxp\u001b[39m\u001b[38;5;124m\"\u001b[39m] \u001b[38;5;28;01mfor\u001b[39;00m e \u001b[38;5;129;01min\u001b[39;00m \u001b[43mrec\u001b[49m\u001b[43m[\u001b[49m\u001b[38;5;124;43m\"\u001b[39;49m\u001b[38;5;124;43menemies\u001b[39;49m\u001b[38;5;124;43m\"\u001b[39;49m\u001b[43m]\u001b[49m)\n\u001b[1;32m      3\u001b[0m     difficulty \u001b[38;5;241m=\u001b[39m question[\u001b[38;5;124m\"\u001b[39m\u001b[38;5;124mdifficulty\u001b[39m\u001b[38;5;124m\"\u001b[39m]\n\u001b[1;32m      4\u001b[0m     party \u001b[38;5;241m=\u001b[39m question[\u001b[38;5;124m\"\u001b[39m\u001b[38;5;124mparty\u001b[39m\u001b[38;5;124m\"\u001b[39m]\n",
      "\u001b[0;31mTypeError\u001b[0m: string indices must be integers"
     ]
    }
   ],
   "source": [
    "exceeded_total(questions[0], enc[\"output\"])"
   ]
  },
  {
   "cell_type": "code",
   "execution_count": null,
   "metadata": {},
   "outputs": [
    {
     "data": {
      "text/plain": [
       "{'instructions': 'Design an encounter for three level 1 players that is medium difficulty, and is set in a mysterious forest',\n",
       " 'output': \"Encounter Details:\\n\\n- Enemy: Forest Guardian\\n  - CR: 1/2\\n  - XP: 100\\n  - Stats:\\n    - Armor Class: 13\\n    - Hit Points: 27\\n    - Speed: 30 ft.\\n    - Initiative: +2\\n    - Strength: +2\\n    - Dexterity: +2\\n    - Constitution: +2\\n    - Intelligence: -1\\n    - Wisdom: +3\\n    - Charisma: +1\\n  - Actions:\\n    - Slam: Melee Weapon Attack: +4 to hit, reach 5 ft., one target. Hit: 6 (1d6 + 3) bludgeoning damage.\\n    - Nature's Wrath: The forest guardian calls upon the power of nature, causing vines to erupt from the ground and restrain a target. The target must make a DC 12 Strength saving throw or be restrained for 1 minute.\\n  - Other Info: The forest guardian is a mystical creature that protects the secrets of the forest.\\n\\nThis encounter with the Forest Guardian in the mysterious forest should provide a medium difficulty challenge for your three level 1 players.\"}"
      ]
     },
     "execution_count": 10,
     "metadata": {},
     "output_type": "execute_result"
    }
   ],
   "source": [
    "enc"
   ]
  },
  {
   "cell_type": "code",
   "execution_count": null,
   "metadata": {},
   "outputs": [],
   "source": []
  }
 ],
 "metadata": {
  "kernelspec": {
   "display_name": "Python 3",
   "language": "python",
   "name": "python3"
  },
  "language_info": {
   "codemirror_mode": {
    "name": "ipython",
    "version": 3
   },
   "file_extension": ".py",
   "mimetype": "text/x-python",
   "name": "python",
   "nbconvert_exporter": "python",
   "pygments_lexer": "ipython3",
   "version": "3.10.13"
  }
 },
 "nbformat": 4,
 "nbformat_minor": 2
}
