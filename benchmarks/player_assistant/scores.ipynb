{
 "cells": [
  {
   "cell_type": "code",
   "execution_count": 1,
   "metadata": {},
   "outputs": [],
   "source": [
    "import os\n",
    "os.chdir('/workspaces/llm-dungeon-master')"
   ]
  },
  {
   "cell_type": "code",
   "execution_count": 3,
   "metadata": {},
   "outputs": [
    {
     "name": "stdout",
     "output_type": "stream",
     "text": [
      "evaluating conversations_464914.json for Captain Cura\n",
      "evaluating conversations_464914.json for Laeni\n",
      "evaluating conversations_464914.json for Agasan Lateath\n",
      "evaluating conversations_464914.json for Aros the Unforgiving\n",
      "evaluating conversations_464914.json for Mendiete Skiari\n",
      "evaluating conversations_464914.json for Secure\n",
      "evaluating conversations_464914.json for Gualluwyrm the Awesome\n",
      "evaluating conversations_464914.json for Aetan 2-H9\n",
      "evaluating conversations_464914.json for Captain Gielik\n"
     ]
    }
   ],
   "source": [
    "from score_pipeline import evaluate\n",
    "\n",
    "run_score = True\n",
    "\n",
    "if run_score:\n",
    "    evaluate()"
   ]
  },
  {
   "cell_type": "code",
   "execution_count": 5,
   "metadata": {},
   "outputs": [
    {
     "data": {
      "text/html": [
       "<div>\n",
       "<style scoped>\n",
       "    .dataframe tbody tr th:only-of-type {\n",
       "        vertical-align: middle;\n",
       "    }\n",
       "\n",
       "    .dataframe tbody tr th {\n",
       "        vertical-align: top;\n",
       "    }\n",
       "\n",
       "    .dataframe thead th {\n",
       "        text-align: right;\n",
       "    }\n",
       "</style>\n",
       "<table border=\"1\" class=\"dataframe\">\n",
       "  <thead>\n",
       "    <tr style=\"text-align: right;\">\n",
       "      <th></th>\n",
       "      <th>file</th>\n",
       "      <th>character</th>\n",
       "      <th>judge_prompt</th>\n",
       "      <th>explanation</th>\n",
       "    </tr>\n",
       "  </thead>\n",
       "  <tbody>\n",
       "    <tr>\n",
       "      <th>0</th>\n",
       "      <td>conversations_464914.json</td>\n",
       "      <td>Captain Cura</td>\n",
       "      <td>\\nRole: Impartial judge tasked with evaluating...</td>\n",
       "      <td>Explanation: The AI Assistant accurately relay...</td>\n",
       "    </tr>\n",
       "    <tr>\n",
       "      <th>1</th>\n",
       "      <td>conversations_464914.json</td>\n",
       "      <td>Laeni</td>\n",
       "      <td>\\nRole: Impartial judge tasked with evaluating...</td>\n",
       "      <td>Explanation: The AI Assistant accurately conve...</td>\n",
       "    </tr>\n",
       "    <tr>\n",
       "      <th>2</th>\n",
       "      <td>conversations_464914.json</td>\n",
       "      <td>Agasan Lateath</td>\n",
       "      <td>\\nRole: Impartial judge tasked with evaluating...</td>\n",
       "      <td>Explanation: The AI Assistant relayed messages...</td>\n",
       "    </tr>\n",
       "    <tr>\n",
       "      <th>3</th>\n",
       "      <td>conversations_464914.json</td>\n",
       "      <td>Aros the Unforgiving</td>\n",
       "      <td>\\nRole: Impartial judge tasked with evaluating...</td>\n",
       "      <td>Explanation: The AI Assistant maintained clari...</td>\n",
       "    </tr>\n",
       "    <tr>\n",
       "      <th>4</th>\n",
       "      <td>conversations_464914.json</td>\n",
       "      <td>Mendiete Skiari</td>\n",
       "      <td>\\nRole: Impartial judge tasked with evaluating...</td>\n",
       "      <td>Explanation: The Assistant failed to add the g...</td>\n",
       "    </tr>\n",
       "  </tbody>\n",
       "</table>\n",
       "</div>"
      ],
      "text/plain": [
       "                        file             character  \\\n",
       "0  conversations_464914.json          Captain Cura   \n",
       "1  conversations_464914.json                 Laeni   \n",
       "2  conversations_464914.json        Agasan Lateath   \n",
       "3  conversations_464914.json  Aros the Unforgiving   \n",
       "4  conversations_464914.json       Mendiete Skiari   \n",
       "\n",
       "                                        judge_prompt  \\\n",
       "0  \\nRole: Impartial judge tasked with evaluating...   \n",
       "1  \\nRole: Impartial judge tasked with evaluating...   \n",
       "2  \\nRole: Impartial judge tasked with evaluating...   \n",
       "3  \\nRole: Impartial judge tasked with evaluating...   \n",
       "4  \\nRole: Impartial judge tasked with evaluating...   \n",
       "\n",
       "                                         explanation  \n",
       "0  Explanation: The AI Assistant accurately relay...  \n",
       "1  Explanation: The AI Assistant accurately conve...  \n",
       "2  Explanation: The AI Assistant relayed messages...  \n",
       "3  Explanation: The AI Assistant maintained clari...  \n",
       "4  Explanation: The Assistant failed to add the g...  "
      ]
     },
     "execution_count": 5,
     "metadata": {},
     "output_type": "execute_result"
    }
   ],
   "source": [
    "import pandas as pd\n",
    "\n",
    "scores_df = pd.read_json('benchmarks/player_assistant/scores.json')\n",
    "\n",
    "scores_df.head()"
   ]
  },
  {
   "cell_type": "code",
   "execution_count": 6,
   "metadata": {},
   "outputs": [],
   "source": [
    "scores_df['rating'] = scores_df['explanation'].str.extract(r'Rating: (\\d+)').astype(int)"
   ]
  },
  {
   "cell_type": "code",
   "execution_count": 9,
   "metadata": {},
   "outputs": [
    {
     "data": {
      "text/plain": [
       "7.666666666666667"
      ]
     },
     "execution_count": 9,
     "metadata": {},
     "output_type": "execute_result"
    }
   ],
   "source": [
    "scores_df['rating'].mean()"
   ]
  },
  {
   "cell_type": "code",
   "execution_count": null,
   "metadata": {},
   "outputs": [],
   "source": []
  }
 ],
 "metadata": {
  "kernelspec": {
   "display_name": "Python 3",
   "language": "python",
   "name": "python3"
  },
  "language_info": {
   "codemirror_mode": {
    "name": "ipython",
    "version": 3
   },
   "file_extension": ".py",
   "mimetype": "text/x-python",
   "name": "python",
   "nbconvert_exporter": "python",
   "pygments_lexer": "ipython3",
   "version": "3.10.13"
  }
 },
 "nbformat": 4,
 "nbformat_minor": 2
}
