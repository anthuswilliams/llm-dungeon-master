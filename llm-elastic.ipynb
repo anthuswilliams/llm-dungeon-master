{
 "cells": [
  {
   "cell_type": "code",
   "execution_count": 1,
   "metadata": {},
   "outputs": [],
   "source": [
    "import requests\n",
    "import json\n",
    "\n",
    "import os\n",
    "import base64"
   ]
  },
  {
   "cell_type": "code",
   "execution_count": 2,
   "metadata": {},
   "outputs": [],
   "source": [
    "def elastic_request(data=None, method=None, url=None):\n",
    "    if method == None:\n",
    "        method = requests.get\n",
    "    if data:\n",
    "        data = json.dumps(data)    \n",
    "\n",
    "    return method(f\"https://192.168.1.153:9200/{url}\",\n",
    "                  headers={\n",
    "                    \"Content-Type\": \"application/json\",\n",
    "                    \"Accept\": \"application/json\",\n",
    "                    \"Authorization\": f\"ApiKey {os.getenv('ELASTIC_API_KEY')}\"\n",
    "                  },\n",
    "                  verify=False,\n",
    "                  data=data)"
   ]
  },
  {
   "cell_type": "code",
   "execution_count": null,
   "metadata": {},
   "outputs": [],
   "source": [
    "response = elastic_request(url=\"players-handbook-embedded/_search\",\n",
    "                           data={\n",
    "                                \"query\": {\n",
    "                                    \"match\": {\n",
    "                                        \"attachment.content\": {\n",
    "                                            \"query\": \"Hunter's Mark\",\n",
    "                                            \"boost\": 0.7\n",
    "                                        }\n",
    "                                    }\n",
    "                                },\n",
    "                                \"knn\": {\n",
    "                                    \"field\": \"content-embedding\",\n",
    "                                    \"k\": 10,\n",
    "                                    \"boost\": 0.3,\n",
    "                                    \"num_candidates\": 10,\n",
    "                                    \"query_vector_builder\": {\n",
    "                                        \"text_embedding\": { \n",
    "                                            \"model_id\": \"open-ai-embeddings\", \n",
    "                                            \"model_text\": \"Can I cast Hunter's Mark on an enemy who is invisible?\" \n",
    "                                        }\n",
    "                                    }\n",
    "                                }\n",
    "                           })"
   ]
  },
  {
   "cell_type": "code",
   "execution_count": 28,
   "metadata": {},
   "outputs": [],
   "source": [
    "hits = response.json()[\"hits\"][\"hits\"]"
   ]
  },
  {
   "cell_type": "code",
   "execution_count": null,
   "metadata": {},
   "outputs": [],
   "source": [
    "[h[\"_source\"][\"attachment\"][\"content\"] for h in hits]"
   ]
  },
  {
   "cell_type": "code",
   "execution_count": null,
   "metadata": {},
   "outputs": [],
   "source": []
  }
 ],
 "metadata": {
  "kernelspec": {
   "display_name": "Python 3",
   "language": "python",
   "name": "python3"
  },
  "language_info": {
   "codemirror_mode": {
    "name": "ipython",
    "version": 3
   },
   "file_extension": ".py",
   "mimetype": "text/x-python",
   "name": "python",
   "nbconvert_exporter": "python",
   "pygments_lexer": "ipython3",
   "version": "3.10.16"
  }
 },
 "nbformat": 4,
 "nbformat_minor": 2
}
