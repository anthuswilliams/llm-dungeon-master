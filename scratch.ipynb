{
 "cells": [
  {
   "cell_type": "code",
   "execution_count": 12,
   "metadata": {},
   "outputs": [],
   "source": [
    "from langchain.output_parsers.openai_functions import JsonOutputFunctionsParser\n",
    "from langchain.schema.runnable import RunnablePassthrough\n",
    "from langchain.chat_models import ChatOpenAI"
   ]
  },
  {
   "cell_type": "code",
   "execution_count": 2,
   "metadata": {},
   "outputs": [
    {
     "data": {
      "text/plain": [
       "{'description': 'A special move or tactic an enemy may take',\n",
       " 'properties': {'name': {'default': 'Name of the action',\n",
       "   'title': 'Name',\n",
       "   'type': 'string'},\n",
       "  'description': {'default': 'Description of what the action does and how it works',\n",
       "   'title': 'Description',\n",
       "   'type': 'string'}},\n",
       " 'title': 'Action',\n",
       " 'type': 'object'}"
      ]
     },
     "execution_count": 2,
     "metadata": {},
     "output_type": "execute_result"
    }
   ],
   "source": [
    "from agents.encounter_designer import Encounter, Action\n",
    "\n",
    "Action.model_json_schema()"
   ]
  },
  {
   "cell_type": "code",
   "execution_count": 3,
   "metadata": {},
   "outputs": [],
   "source": [
    "from langchain_community.utils.openai_functions import convert_pydantic_to_openai_function"
   ]
  },
  {
   "cell_type": "code",
   "execution_count": 4,
   "metadata": {},
   "outputs": [
    {
     "data": {
      "text/plain": [
       "{'name': 'Encounter',\n",
       " 'description': 'Defines an encounter including any enemies, terrain, setting, etc.',\n",
       " 'parameters': {'$defs': {'Action': {'description': 'A special move or tactic an enemy may take',\n",
       "    'properties': {'name': {'default': 'Name of the action',\n",
       "      'title': 'Name',\n",
       "      'type': 'string'},\n",
       "     'description': {'default': 'Description of what the action does and how it works',\n",
       "      'title': 'Description',\n",
       "      'type': 'string'}},\n",
       "    'title': 'Action',\n",
       "    'type': 'object'},\n",
       "   'Enemy': {'description': 'Defines an enemy including all stats, conditions, and modifiers',\n",
       "    'properties': {'name': {'default': 'The name of the creature or humanoid enemy',\n",
       "      'title': 'Name',\n",
       "      'type': 'string'},\n",
       "     'stats': {'allOf': [{'$ref': '#/$defs/StatBlock'}],\n",
       "      'default': 'The stat block for the enemy'},\n",
       "     'cr': {'default': \"The enemy's Challenge Rating\",\n",
       "      'title': 'Cr',\n",
       "      'type': 'string'},\n",
       "     'xp': {'default': 'The XP value of the enemy',\n",
       "      'title': 'Xp',\n",
       "      'type': 'integer'},\n",
       "     'actions': {'default': 'A list of actions that the enemy may take',\n",
       "      'items': {'$ref': '#/$defs/Action'},\n",
       "      'title': 'Actions',\n",
       "      'type': 'array'},\n",
       "     'other_info': {'default': 'Any other information relevant to how the enemy appears, acts, moves, or behaves',\n",
       "      'title': 'Other Info',\n",
       "      'type': 'string'}},\n",
       "    'title': 'Enemy',\n",
       "    'type': 'object'},\n",
       "   'StatBlock': {'description': 'Enemy stats definition, should include all innate abilities, spells, skill modifiers, armor class, and initiative',\n",
       "    'properties': {'armor_class': {'default': \"The enemy's Armor Class\",\n",
       "      'title': 'Armor Class',\n",
       "      'type': 'integer'},\n",
       "     'hit_point': {'default': \"The enemy's Hit Points\",\n",
       "      'title': 'Hit Point',\n",
       "      'type': 'integer'},\n",
       "     'speed': {'default': \"The enemy's base movement speed\",\n",
       "      'title': 'Speed',\n",
       "      'type': 'string'},\n",
       "     'initiative': {'default': \"The enemy's initiative modifier, for example '+1'\",\n",
       "      'title': 'Initiative',\n",
       "      'type': 'string'},\n",
       "     'strength': {'default': \"The enemy's strength (STR), should be of the form [[Value]] ([[Modifier]])\",\n",
       "      'title': 'Strength',\n",
       "      'type': 'string'},\n",
       "     'dexterity': {'default': \"The enemy's dexterity (DEX), should be of the form [[Value]] ([[Modifier]])\",\n",
       "      'title': 'Dexterity',\n",
       "      'type': 'string'},\n",
       "     'constitution': {'default': \"The enemy's constitution (CON), should be of the form [[Value]] ([[Modifier]])\",\n",
       "      'title': 'Constitution',\n",
       "      'type': 'string'},\n",
       "     'intelligence': {'default': \"The enemy's intelligence (INT), should be of the form [[Value]] ([[Modifier]])\",\n",
       "      'title': 'Intelligence',\n",
       "      'type': 'string'},\n",
       "     'wisdom': {'default': \"The enemy's wisdom (WIS), should be of the form [[Value]] ([[Modifier]])\",\n",
       "      'title': 'Wisdom',\n",
       "      'type': 'string'},\n",
       "     'charisma': {'default': \"The enemy's charisma (CHA), should be of the form [[Value]] ([[Modifier]])\",\n",
       "      'title': 'Charisma',\n",
       "      'type': 'string'}},\n",
       "    'title': 'StatBlock',\n",
       "    'type': 'object'}},\n",
       "  'description': 'Defines an encounter including any enemies, terrain, setting, etc.',\n",
       "  'properties': {'enemies': {'default': 'List of enemies included in the encounter',\n",
       "    'items': {'description': 'Defines an enemy including all stats, conditions, and modifiers',\n",
       "     'properties': {'name': {'default': 'The name of the creature or humanoid enemy',\n",
       "       'title': 'Name',\n",
       "       'type': 'string'},\n",
       "      'stats': {'allOf': [{'description': 'Enemy stats definition, should include all innate abilities, spells, skill modifiers, armor class, and initiative',\n",
       "         'properties': {'armor_class': {'default': \"The enemy's Armor Class\",\n",
       "           'title': 'Armor Class',\n",
       "           'type': 'integer'},\n",
       "          'hit_point': {'default': \"The enemy's Hit Points\",\n",
       "           'title': 'Hit Point',\n",
       "           'type': 'integer'},\n",
       "          'speed': {'default': \"The enemy's base movement speed\",\n",
       "           'title': 'Speed',\n",
       "           'type': 'string'},\n",
       "          'initiative': {'default': \"The enemy's initiative modifier, for example '+1'\",\n",
       "           'title': 'Initiative',\n",
       "           'type': 'string'},\n",
       "          'strength': {'default': \"The enemy's strength (STR), should be of the form [[Value]] ([[Modifier]])\",\n",
       "           'title': 'Strength',\n",
       "           'type': 'string'},\n",
       "          'dexterity': {'default': \"The enemy's dexterity (DEX), should be of the form [[Value]] ([[Modifier]])\",\n",
       "           'title': 'Dexterity',\n",
       "           'type': 'string'},\n",
       "          'constitution': {'default': \"The enemy's constitution (CON), should be of the form [[Value]] ([[Modifier]])\",\n",
       "           'title': 'Constitution',\n",
       "           'type': 'string'},\n",
       "          'intelligence': {'default': \"The enemy's intelligence (INT), should be of the form [[Value]] ([[Modifier]])\",\n",
       "           'title': 'Intelligence',\n",
       "           'type': 'string'},\n",
       "          'wisdom': {'default': \"The enemy's wisdom (WIS), should be of the form [[Value]] ([[Modifier]])\",\n",
       "           'title': 'Wisdom',\n",
       "           'type': 'string'},\n",
       "          'charisma': {'default': \"The enemy's charisma (CHA), should be of the form [[Value]] ([[Modifier]])\",\n",
       "           'title': 'Charisma',\n",
       "           'type': 'string'}},\n",
       "         'title': 'StatBlock',\n",
       "         'type': 'object'}],\n",
       "       'default': 'The stat block for the enemy'},\n",
       "      'cr': {'default': \"The enemy's Challenge Rating\",\n",
       "       'title': 'Cr',\n",
       "       'type': 'string'},\n",
       "      'xp': {'default': 'The XP value of the enemy',\n",
       "       'title': 'Xp',\n",
       "       'type': 'integer'},\n",
       "      'actions': {'default': 'A list of actions that the enemy may take',\n",
       "       'items': {'description': 'A special move or tactic an enemy may take',\n",
       "        'properties': {'name': {'default': 'Name of the action',\n",
       "          'title': 'Name',\n",
       "          'type': 'string'},\n",
       "         'description': {'default': 'Description of what the action does and how it works',\n",
       "          'title': 'Description',\n",
       "          'type': 'string'}},\n",
       "        'title': 'Action',\n",
       "        'type': 'object'},\n",
       "       'title': 'Actions',\n",
       "       'type': 'array'},\n",
       "      'other_info': {'default': 'Any other information relevant to how the enemy appears, acts, moves, or behaves',\n",
       "       'title': 'Other Info',\n",
       "       'type': 'string'}},\n",
       "     'title': 'Enemy',\n",
       "     'type': 'object'},\n",
       "    'title': 'Enemies',\n",
       "    'type': 'array'}},\n",
       "  'title': 'Encounter',\n",
       "  'type': 'object'}}"
      ]
     },
     "execution_count": 4,
     "metadata": {},
     "output_type": "execute_result"
    }
   ],
   "source": [
    "convert_pydantic_to_openai_function(Encounter)"
   ]
  },
  {
   "cell_type": "code",
   "execution_count": 16,
   "metadata": {},
   "outputs": [],
   "source": [
    "from langchain_core.prompts import ChatPromptTemplate\n",
    "prompt = \"\"\"\n",
    "You are designing an encounter for Dungeons and Dragons 5th Edition.  You have the following information:\n",
    "Input Parameters:\n",
    "\n",
    "Player Information: Number of players and their respective levels.\n",
    "Desired Difficulty Level: Easy, Medium, Hard, or Deadly.\n",
    "Narrative and Setting Context: Brief description of the current narrative and setting in which the encounter will take place.\n",
    "\n",
    "As the encounter designer you should consider the following:\n",
    "\n",
    "Select Appropriate Creatures: Choose creatures with Challenge Ratings (CR) that match the desired difficulty level, ensuring that the total encounter difficulty is appropriate for the players' strength.\n",
    "Encounter Design Principles:\n",
    "Balance: Ensure that the encounter matches the desired difficulty level.\n",
    "Narrative Integration: Design the encounter to fit seamlessly into the ongoing story and setting.\n",
    "Output of encounter details:\n",
    "Provide a list of creatures or adversaries, including their CRs.\n",
    "\"\"\"\n",
    "\n",
    "model = ChatOpenAI(temperature=0.0)\n",
    "parser = JsonOutputFunctionsParser()"
   ]
  },
  {
   "cell_type": "code",
   "execution_count": 13,
   "metadata": {},
   "outputs": [],
   "source": [
    "\n",
    "chain = (\n",
    "    ChatPromptTemplate.from_template(prompt)\n",
    "    | model.bind(functions=[convert_pydantic_to_openai_function(Encounter)])\n",
    "    | parser\n",
    "    | RunnablePassthrough.assign(\n",
    "        xp_values=lambda r: [e[\"xp\"] for e in r[\"enemies\"]]\n",
    "    )\n",
    ")"
   ]
  },
  {
   "cell_type": "code",
   "execution_count": 14,
   "metadata": {},
   "outputs": [],
   "source": [
    "response = chain.invoke({\"input\": \"Design an encounter for three level 1 players that is medium difficulty, and is set in a temple.\"})"
   ]
  },
  {
   "cell_type": "code",
   "execution_count": 15,
   "metadata": {},
   "outputs": [
    {
     "data": {
      "text/plain": [
       "[25, 25]"
      ]
     },
     "execution_count": 15,
     "metadata": {},
     "output_type": "execute_result"
    }
   ],
   "source": [
    "response[\"total_xp\"]"
   ]
  },
  {
   "cell_type": "code",
   "execution_count": 17,
   "metadata": {},
   "outputs": [],
   "source": [
    "from langchain_core.prompts import ChatPromptTemplate, HumanMessagePromptTemplate, SystemMessagePromptTemplate\n",
    "from langchain_core.messages import SystemMessage\n",
    "\n",
    "input_message = \"\"\"\n",
    "Player Information: {players}\n",
    "Desired Difficulty Level: {difficulty}\n",
    "Narrative and Setting Context: {setting}\n",
    "\"\"\"\n",
    "\n",
    "prompt_template = ChatPromptTemplate.from_messages([\n",
    "    SystemMessage(content=prompt),\n",
    "    HumanMessagePromptTemplate.from_template(input_message)\n",
    "])"
   ]
  },
  {
   "cell_type": "code",
   "execution_count": 21,
   "metadata": {},
   "outputs": [],
   "source": [
    "chain = (\n",
    "    prompt_template\n",
    "    | model.bind(functions=[convert_pydantic_to_openai_function(Encounter)])\n",
    "    | parser\n",
    ")"
   ]
  },
  {
   "cell_type": "code",
   "execution_count": 22,
   "metadata": {},
   "outputs": [
    {
     "ename": "OutputParserException",
     "evalue": "Could not parse function call: 'function_call'",
     "output_type": "error",
     "traceback": [
      "\u001b[0;31m---------------------------------------------------------------------------\u001b[0m",
      "\u001b[0;31mKeyError\u001b[0m                                  Traceback (most recent call last)",
      "File \u001b[0;32m~/.local/lib/python3.10/site-packages/langchain/output_parsers/openai_functions.py:73\u001b[0m, in \u001b[0;36mJsonOutputFunctionsParser.parse_result\u001b[0;34m(self, result, partial)\u001b[0m\n\u001b[1;32m     72\u001b[0m \u001b[38;5;28;01mtry\u001b[39;00m:\n\u001b[0;32m---> 73\u001b[0m     function_call \u001b[38;5;241m=\u001b[39m \u001b[43mmessage\u001b[49m\u001b[38;5;241;43m.\u001b[39;49m\u001b[43madditional_kwargs\u001b[49m\u001b[43m[\u001b[49m\u001b[38;5;124;43m\"\u001b[39;49m\u001b[38;5;124;43mfunction_call\u001b[39;49m\u001b[38;5;124;43m\"\u001b[39;49m\u001b[43m]\u001b[49m\n\u001b[1;32m     74\u001b[0m \u001b[38;5;28;01mexcept\u001b[39;00m \u001b[38;5;167;01mKeyError\u001b[39;00m \u001b[38;5;28;01mas\u001b[39;00m exc:\n",
      "\u001b[0;31mKeyError\u001b[0m: 'function_call'",
      "\nDuring handling of the above exception, another exception occurred:\n",
      "\u001b[0;31mOutputParserException\u001b[0m                     Traceback (most recent call last)",
      "Cell \u001b[0;32mIn[22], line 1\u001b[0m\n\u001b[0;32m----> 1\u001b[0m \u001b[43mchain\u001b[49m\u001b[38;5;241;43m.\u001b[39;49m\u001b[43minvoke\u001b[49m\u001b[43m(\u001b[49m\u001b[43m{\u001b[49m\u001b[38;5;124;43m\"\u001b[39;49m\u001b[38;5;124;43mplayers\u001b[39;49m\u001b[38;5;124;43m\"\u001b[39;49m\u001b[43m:\u001b[49m\u001b[43m \u001b[49m\u001b[38;5;124;43m\"\u001b[39;49m\u001b[38;5;124;43m3 level 1 players\u001b[39;49m\u001b[38;5;124;43m\"\u001b[39;49m\u001b[43m,\u001b[49m\u001b[43m \u001b[49m\u001b[38;5;124;43m\"\u001b[39;49m\u001b[38;5;124;43mdifficulty\u001b[39;49m\u001b[38;5;124;43m\"\u001b[39;49m\u001b[43m:\u001b[49m\u001b[43m \u001b[49m\u001b[38;5;124;43m\"\u001b[39;49m\u001b[38;5;124;43mmedium\u001b[39;49m\u001b[38;5;124;43m\"\u001b[39;49m\u001b[43m,\u001b[49m\u001b[43m \u001b[49m\u001b[38;5;124;43m\"\u001b[39;49m\u001b[38;5;124;43msetting\u001b[39;49m\u001b[38;5;124;43m\"\u001b[39;49m\u001b[43m:\u001b[49m\u001b[43m \u001b[49m\u001b[38;5;124;43m\"\u001b[39;49m\u001b[38;5;124;43mtemple\u001b[39;49m\u001b[38;5;124;43m\"\u001b[39;49m\u001b[43m}\u001b[49m\u001b[43m)\u001b[49m\n",
      "File \u001b[0;32m~/.local/lib/python3.10/site-packages/langchain_core/runnables/base.py:1774\u001b[0m, in \u001b[0;36mRunnableSequence.invoke\u001b[0;34m(self, input, config)\u001b[0m\n\u001b[1;32m   1772\u001b[0m \u001b[38;5;28;01mtry\u001b[39;00m:\n\u001b[1;32m   1773\u001b[0m     \u001b[38;5;28;01mfor\u001b[39;00m i, step \u001b[38;5;129;01min\u001b[39;00m \u001b[38;5;28menumerate\u001b[39m(\u001b[38;5;28mself\u001b[39m\u001b[38;5;241m.\u001b[39msteps):\n\u001b[0;32m-> 1774\u001b[0m         \u001b[38;5;28minput\u001b[39m \u001b[38;5;241m=\u001b[39m \u001b[43mstep\u001b[49m\u001b[38;5;241;43m.\u001b[39;49m\u001b[43minvoke\u001b[49m\u001b[43m(\u001b[49m\n\u001b[1;32m   1775\u001b[0m \u001b[43m            \u001b[49m\u001b[38;5;28;43minput\u001b[39;49m\u001b[43m,\u001b[49m\n\u001b[1;32m   1776\u001b[0m \u001b[43m            \u001b[49m\u001b[38;5;66;43;03m# mark each step as a child run\u001b[39;49;00m\n\u001b[1;32m   1777\u001b[0m \u001b[43m            \u001b[49m\u001b[43mpatch_config\u001b[49m\u001b[43m(\u001b[49m\n\u001b[1;32m   1778\u001b[0m \u001b[43m                \u001b[49m\u001b[43mconfig\u001b[49m\u001b[43m,\u001b[49m\u001b[43m \u001b[49m\u001b[43mcallbacks\u001b[49m\u001b[38;5;241;43m=\u001b[39;49m\u001b[43mrun_manager\u001b[49m\u001b[38;5;241;43m.\u001b[39;49m\u001b[43mget_child\u001b[49m\u001b[43m(\u001b[49m\u001b[38;5;124;43mf\u001b[39;49m\u001b[38;5;124;43m\"\u001b[39;49m\u001b[38;5;124;43mseq:step:\u001b[39;49m\u001b[38;5;132;43;01m{\u001b[39;49;00m\u001b[43mi\u001b[49m\u001b[38;5;241;43m+\u001b[39;49m\u001b[38;5;241;43m1\u001b[39;49m\u001b[38;5;132;43;01m}\u001b[39;49;00m\u001b[38;5;124;43m\"\u001b[39;49m\u001b[43m)\u001b[49m\n\u001b[1;32m   1779\u001b[0m \u001b[43m            \u001b[49m\u001b[43m)\u001b[49m\u001b[43m,\u001b[49m\n\u001b[1;32m   1780\u001b[0m \u001b[43m        \u001b[49m\u001b[43m)\u001b[49m\n\u001b[1;32m   1781\u001b[0m \u001b[38;5;66;03m# finish the root run\u001b[39;00m\n\u001b[1;32m   1782\u001b[0m \u001b[38;5;28;01mexcept\u001b[39;00m \u001b[38;5;167;01mBaseException\u001b[39;00m \u001b[38;5;28;01mas\u001b[39;00m e:\n",
      "File \u001b[0;32m~/.local/lib/python3.10/site-packages/langchain_core/output_parsers/base.py:167\u001b[0m, in \u001b[0;36mBaseOutputParser.invoke\u001b[0;34m(self, input, config)\u001b[0m\n\u001b[1;32m    163\u001b[0m \u001b[38;5;28;01mdef\u001b[39;00m \u001b[38;5;21minvoke\u001b[39m(\n\u001b[1;32m    164\u001b[0m     \u001b[38;5;28mself\u001b[39m, \u001b[38;5;28minput\u001b[39m: Union[\u001b[38;5;28mstr\u001b[39m, BaseMessage], config: Optional[RunnableConfig] \u001b[38;5;241m=\u001b[39m \u001b[38;5;28;01mNone\u001b[39;00m\n\u001b[1;32m    165\u001b[0m ) \u001b[38;5;241m-\u001b[39m\u001b[38;5;241m>\u001b[39m T:\n\u001b[1;32m    166\u001b[0m     \u001b[38;5;28;01mif\u001b[39;00m \u001b[38;5;28misinstance\u001b[39m(\u001b[38;5;28minput\u001b[39m, BaseMessage):\n\u001b[0;32m--> 167\u001b[0m         \u001b[38;5;28;01mreturn\u001b[39;00m \u001b[38;5;28;43mself\u001b[39;49m\u001b[38;5;241;43m.\u001b[39;49m\u001b[43m_call_with_config\u001b[49m\u001b[43m(\u001b[49m\n\u001b[1;32m    168\u001b[0m \u001b[43m            \u001b[49m\u001b[38;5;28;43;01mlambda\u001b[39;49;00m\u001b[43m \u001b[49m\u001b[43minner_input\u001b[49m\u001b[43m:\u001b[49m\u001b[43m \u001b[49m\u001b[38;5;28;43mself\u001b[39;49m\u001b[38;5;241;43m.\u001b[39;49m\u001b[43mparse_result\u001b[49m\u001b[43m(\u001b[49m\n\u001b[1;32m    169\u001b[0m \u001b[43m                \u001b[49m\u001b[43m[\u001b[49m\u001b[43mChatGeneration\u001b[49m\u001b[43m(\u001b[49m\u001b[43mmessage\u001b[49m\u001b[38;5;241;43m=\u001b[39;49m\u001b[43minner_input\u001b[49m\u001b[43m)\u001b[49m\u001b[43m]\u001b[49m\n\u001b[1;32m    170\u001b[0m \u001b[43m            \u001b[49m\u001b[43m)\u001b[49m\u001b[43m,\u001b[49m\n\u001b[1;32m    171\u001b[0m \u001b[43m            \u001b[49m\u001b[38;5;28;43minput\u001b[39;49m\u001b[43m,\u001b[49m\n\u001b[1;32m    172\u001b[0m \u001b[43m            \u001b[49m\u001b[43mconfig\u001b[49m\u001b[43m,\u001b[49m\n\u001b[1;32m    173\u001b[0m \u001b[43m            \u001b[49m\u001b[43mrun_type\u001b[49m\u001b[38;5;241;43m=\u001b[39;49m\u001b[38;5;124;43m\"\u001b[39;49m\u001b[38;5;124;43mparser\u001b[39;49m\u001b[38;5;124;43m\"\u001b[39;49m\u001b[43m,\u001b[49m\n\u001b[1;32m    174\u001b[0m \u001b[43m        \u001b[49m\u001b[43m)\u001b[49m\n\u001b[1;32m    175\u001b[0m     \u001b[38;5;28;01melse\u001b[39;00m:\n\u001b[1;32m    176\u001b[0m         \u001b[38;5;28;01mreturn\u001b[39;00m \u001b[38;5;28mself\u001b[39m\u001b[38;5;241m.\u001b[39m_call_with_config(\n\u001b[1;32m    177\u001b[0m             \u001b[38;5;28;01mlambda\u001b[39;00m inner_input: \u001b[38;5;28mself\u001b[39m\u001b[38;5;241m.\u001b[39mparse_result([Generation(text\u001b[38;5;241m=\u001b[39minner_input)]),\n\u001b[1;32m    178\u001b[0m             \u001b[38;5;28minput\u001b[39m,\n\u001b[1;32m    179\u001b[0m             config,\n\u001b[1;32m    180\u001b[0m             run_type\u001b[38;5;241m=\u001b[39m\u001b[38;5;124m\"\u001b[39m\u001b[38;5;124mparser\u001b[39m\u001b[38;5;124m\"\u001b[39m,\n\u001b[1;32m    181\u001b[0m         )\n",
      "File \u001b[0;32m~/.local/lib/python3.10/site-packages/langchain_core/runnables/base.py:975\u001b[0m, in \u001b[0;36mRunnable._call_with_config\u001b[0;34m(self, func, input, config, run_type, **kwargs)\u001b[0m\n\u001b[1;32m    971\u001b[0m     context \u001b[38;5;241m=\u001b[39m copy_context()\n\u001b[1;32m    972\u001b[0m     context\u001b[38;5;241m.\u001b[39mrun(var_child_runnable_config\u001b[38;5;241m.\u001b[39mset, child_config)\n\u001b[1;32m    973\u001b[0m     output \u001b[38;5;241m=\u001b[39m cast(\n\u001b[1;32m    974\u001b[0m         Output,\n\u001b[0;32m--> 975\u001b[0m         \u001b[43mcontext\u001b[49m\u001b[38;5;241;43m.\u001b[39;49m\u001b[43mrun\u001b[49m\u001b[43m(\u001b[49m\n\u001b[1;32m    976\u001b[0m \u001b[43m            \u001b[49m\u001b[43mcall_func_with_variable_args\u001b[49m\u001b[43m,\u001b[49m\n\u001b[1;32m    977\u001b[0m \u001b[43m            \u001b[49m\u001b[43mfunc\u001b[49m\u001b[43m,\u001b[49m\u001b[43m  \u001b[49m\u001b[38;5;66;43;03m# type: ignore[arg-type]\u001b[39;49;00m\n\u001b[1;32m    978\u001b[0m \u001b[43m            \u001b[49m\u001b[38;5;28;43minput\u001b[39;49m\u001b[43m,\u001b[49m\u001b[43m  \u001b[49m\u001b[38;5;66;43;03m# type: ignore[arg-type]\u001b[39;49;00m\n\u001b[1;32m    979\u001b[0m \u001b[43m            \u001b[49m\u001b[43mconfig\u001b[49m\u001b[43m,\u001b[49m\n\u001b[1;32m    980\u001b[0m \u001b[43m            \u001b[49m\u001b[43mrun_manager\u001b[49m\u001b[43m,\u001b[49m\n\u001b[1;32m    981\u001b[0m \u001b[43m            \u001b[49m\u001b[38;5;241;43m*\u001b[39;49m\u001b[38;5;241;43m*\u001b[39;49m\u001b[43mkwargs\u001b[49m\u001b[43m,\u001b[49m\n\u001b[1;32m    982\u001b[0m \u001b[43m        \u001b[49m\u001b[43m)\u001b[49m,\n\u001b[1;32m    983\u001b[0m     )\n\u001b[1;32m    984\u001b[0m \u001b[38;5;28;01mexcept\u001b[39;00m \u001b[38;5;167;01mBaseException\u001b[39;00m \u001b[38;5;28;01mas\u001b[39;00m e:\n\u001b[1;32m    985\u001b[0m     run_manager\u001b[38;5;241m.\u001b[39mon_chain_error(e)\n",
      "File \u001b[0;32m~/.local/lib/python3.10/site-packages/langchain_core/runnables/config.py:323\u001b[0m, in \u001b[0;36mcall_func_with_variable_args\u001b[0;34m(func, input, config, run_manager, **kwargs)\u001b[0m\n\u001b[1;32m    321\u001b[0m \u001b[38;5;28;01mif\u001b[39;00m run_manager \u001b[38;5;129;01mis\u001b[39;00m \u001b[38;5;129;01mnot\u001b[39;00m \u001b[38;5;28;01mNone\u001b[39;00m \u001b[38;5;129;01mand\u001b[39;00m accepts_run_manager(func):\n\u001b[1;32m    322\u001b[0m     kwargs[\u001b[38;5;124m\"\u001b[39m\u001b[38;5;124mrun_manager\u001b[39m\u001b[38;5;124m\"\u001b[39m] \u001b[38;5;241m=\u001b[39m run_manager\n\u001b[0;32m--> 323\u001b[0m \u001b[38;5;28;01mreturn\u001b[39;00m \u001b[43mfunc\u001b[49m\u001b[43m(\u001b[49m\u001b[38;5;28;43minput\u001b[39;49m\u001b[43m,\u001b[49m\u001b[43m \u001b[49m\u001b[38;5;241;43m*\u001b[39;49m\u001b[38;5;241;43m*\u001b[39;49m\u001b[43mkwargs\u001b[49m\u001b[43m)\u001b[49m\n",
      "File \u001b[0;32m~/.local/lib/python3.10/site-packages/langchain_core/output_parsers/base.py:168\u001b[0m, in \u001b[0;36mBaseOutputParser.invoke.<locals>.<lambda>\u001b[0;34m(inner_input)\u001b[0m\n\u001b[1;32m    163\u001b[0m \u001b[38;5;28;01mdef\u001b[39;00m \u001b[38;5;21minvoke\u001b[39m(\n\u001b[1;32m    164\u001b[0m     \u001b[38;5;28mself\u001b[39m, \u001b[38;5;28minput\u001b[39m: Union[\u001b[38;5;28mstr\u001b[39m, BaseMessage], config: Optional[RunnableConfig] \u001b[38;5;241m=\u001b[39m \u001b[38;5;28;01mNone\u001b[39;00m\n\u001b[1;32m    165\u001b[0m ) \u001b[38;5;241m-\u001b[39m\u001b[38;5;241m>\u001b[39m T:\n\u001b[1;32m    166\u001b[0m     \u001b[38;5;28;01mif\u001b[39;00m \u001b[38;5;28misinstance\u001b[39m(\u001b[38;5;28minput\u001b[39m, BaseMessage):\n\u001b[1;32m    167\u001b[0m         \u001b[38;5;28;01mreturn\u001b[39;00m \u001b[38;5;28mself\u001b[39m\u001b[38;5;241m.\u001b[39m_call_with_config(\n\u001b[0;32m--> 168\u001b[0m             \u001b[38;5;28;01mlambda\u001b[39;00m inner_input: \u001b[38;5;28;43mself\u001b[39;49m\u001b[38;5;241;43m.\u001b[39;49m\u001b[43mparse_result\u001b[49m\u001b[43m(\u001b[49m\n\u001b[1;32m    169\u001b[0m \u001b[43m                \u001b[49m\u001b[43m[\u001b[49m\u001b[43mChatGeneration\u001b[49m\u001b[43m(\u001b[49m\u001b[43mmessage\u001b[49m\u001b[38;5;241;43m=\u001b[39;49m\u001b[43minner_input\u001b[49m\u001b[43m)\u001b[49m\u001b[43m]\u001b[49m\n\u001b[1;32m    170\u001b[0m \u001b[43m            \u001b[49m\u001b[43m)\u001b[49m,\n\u001b[1;32m    171\u001b[0m             \u001b[38;5;28minput\u001b[39m,\n\u001b[1;32m    172\u001b[0m             config,\n\u001b[1;32m    173\u001b[0m             run_type\u001b[38;5;241m=\u001b[39m\u001b[38;5;124m\"\u001b[39m\u001b[38;5;124mparser\u001b[39m\u001b[38;5;124m\"\u001b[39m,\n\u001b[1;32m    174\u001b[0m         )\n\u001b[1;32m    175\u001b[0m     \u001b[38;5;28;01melse\u001b[39;00m:\n\u001b[1;32m    176\u001b[0m         \u001b[38;5;28;01mreturn\u001b[39;00m \u001b[38;5;28mself\u001b[39m\u001b[38;5;241m.\u001b[39m_call_with_config(\n\u001b[1;32m    177\u001b[0m             \u001b[38;5;28;01mlambda\u001b[39;00m inner_input: \u001b[38;5;28mself\u001b[39m\u001b[38;5;241m.\u001b[39mparse_result([Generation(text\u001b[38;5;241m=\u001b[39minner_input)]),\n\u001b[1;32m    178\u001b[0m             \u001b[38;5;28minput\u001b[39m,\n\u001b[1;32m    179\u001b[0m             config,\n\u001b[1;32m    180\u001b[0m             run_type\u001b[38;5;241m=\u001b[39m\u001b[38;5;124m\"\u001b[39m\u001b[38;5;124mparser\u001b[39m\u001b[38;5;124m\"\u001b[39m,\n\u001b[1;32m    181\u001b[0m         )\n",
      "File \u001b[0;32m~/.local/lib/python3.10/site-packages/langchain/output_parsers/openai_functions.py:78\u001b[0m, in \u001b[0;36mJsonOutputFunctionsParser.parse_result\u001b[0;34m(self, result, partial)\u001b[0m\n\u001b[1;32m     76\u001b[0m         \u001b[38;5;28;01mreturn\u001b[39;00m \u001b[38;5;28;01mNone\u001b[39;00m\n\u001b[1;32m     77\u001b[0m     \u001b[38;5;28;01melse\u001b[39;00m:\n\u001b[0;32m---> 78\u001b[0m         \u001b[38;5;28;01mraise\u001b[39;00m OutputParserException(\u001b[38;5;124mf\u001b[39m\u001b[38;5;124m\"\u001b[39m\u001b[38;5;124mCould not parse function call: \u001b[39m\u001b[38;5;132;01m{\u001b[39;00mexc\u001b[38;5;132;01m}\u001b[39;00m\u001b[38;5;124m\"\u001b[39m)\n\u001b[1;32m     79\u001b[0m \u001b[38;5;28;01mtry\u001b[39;00m:\n\u001b[1;32m     80\u001b[0m     \u001b[38;5;28;01mif\u001b[39;00m partial:\n",
      "\u001b[0;31mOutputParserException\u001b[0m: Could not parse function call: 'function_call'"
     ]
    }
   ],
   "source": [
    "chain.invoke({\"players\": \"3 level 1 players\", \"difficulty\": \"medium\", \"setting\": \"temple\"})"
   ]
  },
  {
   "cell_type": "code",
   "execution_count": null,
   "metadata": {},
   "outputs": [],
   "source": []
  }
 ],
 "metadata": {
  "kernelspec": {
   "display_name": "Python 3",
   "language": "python",
   "name": "python3"
  },
  "language_info": {
   "codemirror_mode": {
    "name": "ipython",
    "version": 3
   },
   "file_extension": ".py",
   "mimetype": "text/x-python",
   "name": "python",
   "nbconvert_exporter": "python",
   "pygments_lexer": "ipython3",
   "version": "3.10.13"
  }
 },
 "nbformat": 4,
 "nbformat_minor": 2
}
