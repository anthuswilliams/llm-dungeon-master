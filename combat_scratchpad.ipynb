{
 "cells": [
  {
   "cell_type": "code",
   "execution_count": 55,
   "metadata": {},
   "outputs": [],
   "source": [
    "from openai import OpenAI\n",
    "\n",
    "from agents.adjudicator import query as consult_players_handbook"
   ]
  },
  {
   "cell_type": "code",
   "execution_count": 30,
   "metadata": {},
   "outputs": [],
   "source": [
    "tools = [\n",
    "  {\n",
    "      \"type\": \"function\",\n",
    "      \"function\": {\n",
    "          \"name\": \"consult_players_handbook\",\n",
    "          \"description\": \"Ask a question pertaining to the rules, setting, lore, or current situtation. Call this whenever you need more information.\",\n",
    "          \"parameters\": {\n",
    "              \"type\": \"object\",\n",
    "              \"properties\": {\n",
    "                  \"question\": {\n",
    "                      \"type\": \"string\",\n",
    "                      \"description\": \"A question that should be answered by consulting the available reference materials. Share all relevant details.\",\n",
    "                  },\n",
    "              },\n",
    "              \"required\": [\"question\"],\n",
    "              \"additionalProperties\": False,\n",
    "          },\n",
    "      }\n",
    "  }\n",
    "]"
   ]
  },
  {
   "cell_type": "code",
   "execution_count": 83,
   "metadata": {},
   "outputs": [],
   "source": [
    "messages = [\n",
    "  {\n",
    "      \"role\": \"developer\",\n",
    "      \"content\": \"\"\"\n",
    "      You are a Dungeon Master overseeing a combat encounter. The player will tell you their action,\n",
    "      and you will narrate the outcome.\n",
    "\n",
    "      Use only the information you have been given to narrate the outcome. You may use the consult_players_handbook tool\n",
    "      to get up-to-date information about the rules of the game, the setting, the mechanics, NPC stat sheets, and so on.\n",
    "\n",
    "      Players:\n",
    "      - Cedric van Zorndt (the Player)\n",
    "        Human Rogue Lvl 1\n",
    "        Armor Class 14\n",
    "        Hit Points 9\n",
    "        STR 12 (+1) - DEX 16 (+3) - CON 13 (+1) - INT 9 (-1) - WIS 12 (+1) - CHA 15 (+2)\n",
    "        Proficiency bonus: +2\n",
    "        Proficiencies:\n",
    "        - Armor: light armor\n",
    "        - Weapons: Simple weapons, hand crossbows, longswords, rapiers, shortswords\n",
    "        - Tools: Thieves' tools\n",
    "        Saving Throws: Dexterity, Intelligence\n",
    "        Skills: Acrobatics, Deception, Sleight of Hand, Stealth\n",
    "        Equipment: Shortsword, shortbow with a quiver of 20 arrows, burglar's pack, leather armor, two daggers, thieves' tools\n",
    "        Expertise: Stealth, Thieves' tools\n",
    "        Sneak attack 1d6\n",
    "      \"\"\"       \n",
    "  },\n",
    "  {\n",
    "      \"role\": \"user\",\n",
    "      \"content\": \"I attack the Imp with my shortsword\"\n",
    "  }\n",
    "]\n",
    "\n",
    "client = OpenAI()\n",
    "\n",
    "response = client.chat.completions.create(\n",
    "  model=\"gpt-4o\",\n",
    "  messages=messages,\n",
    "  tools=tools,\n",
    ")"
   ]
  },
  {
   "cell_type": "code",
   "execution_count": 84,
   "metadata": {},
   "outputs": [
    {
     "data": {
      "text/plain": [
       "[ChatCompletionMessageToolCall(id='call_yJaiok4UFZgmZ8KXFKqsWw79', function=Function(arguments='{\"question\":\"What are the armor class and hit points of an Imp in D&D 5e?\"}', name='consult_players_handbook'), type='function')]"
      ]
     },
     "execution_count": 84,
     "metadata": {},
     "output_type": "execute_result"
    }
   ],
   "source": [
    "response.choices[0].message.tool_calls"
   ]
  },
  {
   "cell_type": "code",
   "execution_count": 85,
   "metadata": {},
   "outputs": [],
   "source": [
    "response.choices[0].message.content"
   ]
  },
  {
   "cell_type": "code",
   "execution_count": 87,
   "metadata": {},
   "outputs": [
    {
     "name": "stderr",
     "output_type": "stream",
     "text": [
      "/home/vscode/.local/lib/python3.10/site-packages/urllib3/connectionpool.py:1097: InsecureRequestWarning: Unverified HTTPS request is being made to host '192.168.1.153'. Adding certificate verification is strongly advised. See: https://urllib3.readthedocs.io/en/latest/advanced-usage.html#tls-warnings\n",
      "  warnings.warn(\n"
     ]
    }
   ],
   "source": [
    "import json\n",
    "facts = consult_players_handbook(json.loads(response.choices[0].message.tool_calls[0].function.arguments)[\"question\"])"
   ]
  },
  {
   "cell_type": "code",
   "execution_count": 89,
   "metadata": {},
   "outputs": [
    {
     "data": {
      "text/plain": [
       "'Cedric, you draw your shortsword and move swiftly towards the Imp, exploiting your agility and training. You aim carefully at the mischievous creature, which has an Armor Class of 13.\\n\\nNow, roll a d20 and add your attack bonus (which is your proficiency bonus of +2 plus your Dexterity modifier of +3, totaling +5) to see if you hit the Imp.'"
      ]
     },
     "execution_count": 89,
     "metadata": {},
     "output_type": "execute_result"
    }
   ],
   "source": [
    "next_response = client.chat.completions.create(\n",
    "  model=\"gpt-4o\",\n",
    "  messages=messages + [\n",
    "      response.choices[0].message,\n",
    "      {\n",
    "        \"role\": \"tool\",\n",
    "        \"content\": facts,\n",
    "        \"tool_call_id\": response.choices[0].message.tool_calls[0].id\n",
    "      }\n",
    "  ],\n",
    "  tools=tools,\n",
    ")\n",
    "next_response.choices[0].message.content"
   ]
  },
  {
   "cell_type": "code",
   "execution_count": 90,
   "metadata": {},
   "outputs": [
    {
     "data": {
      "text/plain": [
       "\"With your roll of 9, adding your attack bonus of +5, your total attack roll is 14. This surpasses the Imp's Armor Class of 13.\\n\\nYour shortsword strikes true, cutting into the Imp. Now roll for damage with your shortsword. Since your rogue class allows for Sneak Attack under certain conditions, please also note if any allies were in position adjacent to your target, or if the Imp was otherwise distracted. Otherwise, simply roll 1d6 for the shortsword's damage, adding your Dexterity modifier of +3.\""
      ]
     },
     "execution_count": 90,
     "metadata": {},
     "output_type": "execute_result"
    }
   ],
   "source": [
    "to_hit = client.chat.completions.create(\n",
    "  model=\"gpt-4o\",\n",
    "  messages=messages + [\n",
    "      response.choices[0].message,\n",
    "      {\n",
    "        \"role\": \"tool\",\n",
    "        \"content\": facts,\n",
    "        \"tool_call_id\": response.choices[0].message.tool_calls[0].id\n",
    "      },\n",
    "      next_response.choices[0].message,\n",
    "      {\n",
    "        \"role\": \"user\",\n",
    "        \"content\": \"I rolled a 9.\"\n",
    "      }\n",
    "  ],\n",
    "  tools=tools,\n",
    ")\n",
    "to_hit.choices[0].message.content"
   ]
  },
  {
   "cell_type": "code",
   "execution_count": 92,
   "metadata": {},
   "outputs": [
    {
     "data": {
      "text/plain": [
       "'With your roll of 6 and adding your Dexterity modifier of +3, the total damage dealt to the Imp is 9.\\n\\nYour strike is precise and powerful, as your shortsword slices into the Imp, leaving a deeply wounded gash. The Imp quivers in pain, its dark eyes narrowing in fury now that its Hit Points are diminished to 1.\\n\\nThe Imp, heavily injured but not defeated, flaps its leathery wings and locks its gaze on you, the desire for vengeance evident. Prepare for its counterattack!'"
      ]
     },
     "execution_count": 92,
     "metadata": {},
     "output_type": "execute_result"
    }
   ],
   "source": [
    "damage_resp = client.chat.completions.create(\n",
    "  model=\"gpt-4o\",\n",
    "  messages=messages + [\n",
    "      response.choices[0].message,\n",
    "      {\n",
    "        \"role\": \"tool\",\n",
    "        \"content\": facts,\n",
    "        \"tool_call_id\": response.choices[0].message.tool_calls[0].id\n",
    "      },\n",
    "      next_response.choices[0].message,\n",
    "      {\n",
    "        \"role\": \"user\",\n",
    "        \"content\": \"I rolled a 9.\"\n",
    "      },\n",
    "      to_hit.choices[0].message,\n",
    "      {\n",
    "        \"role\": \"user\",\n",
    "        \"content\": \"I rolled a 6\"\n",
    "      }\n",
    "  ],\n",
    "  tools=tools,\n",
    ")\n",
    "damage_resp.choices[0].message.content"
   ]
  },
  {
   "cell_type": "code",
   "execution_count": null,
   "metadata": {},
   "outputs": [],
   "source": [
    "\"\"\"Armor Class 13\n",
    "        Hit Points 10\n",
    "        STR 6 (-2) - DEX 17 (+3) - CON 13 (+1) - INT 11 (+0) - WIS 12 (+1) - CHA 14 (+2)\n",
    "        Speed 20 (Fly 40) (20 in Rat form, 20 fly 60 in Raven form, 20 climb 20 in Spider form)\n",
    "        Skills: Deception +4 Insight +3 Persusasion +4 Stealth +5\n",
    "        Damage Resistances: Cold; bludgeoning, piercing and slashing from non-magical attacks that aren't silvered\n",
    "        Damage Immunities: Fire, poison\n",
    "        Condition Immunities: poisoned\n",
    "        Senses: darkvision 120ft; Passive perception 11\n",
    "        Languages: Infernal, Common\n",
    "        Challenge: 1 (200 XP)\n",
    "        Shapechanger: Te imp can use its action to polymorph into the beast form of a rat, a raven, or a spider, or into its devil form. Its statistics are\n",
    "        the same for each form, except for the speed changes noted. Any equipment it is wearing or carrying is not transformed. It reverts to its devil form if it dies.\n",
    "        Devil's Sight: Magical darkness doesn't impede the imp's darkvision.\n",
    "        Magic Resistance: The imp has advantage on saving tghrows against spells and other magical effects.\n",
    "        Actions:\n",
    "        - Sting (Bite in Beast Form). Melee weapon Attack: +5 to hit, reach 5 ft, one creature. Hit: 5 (1d4+3) piercing damage, and the target must make a DC 11 Constitution saving throw, taking 10 (3d6) poison damage on a failed save, or half as much on a successful one.\n",
    "        - Invisibility. The imp magically turns invisible until it attacks or until its concentration ends (as if concentrating on a spell). Any equipment the imp wears or carries is invisible with it.\"\"\""
   ]
  }
 ],
 "metadata": {
  "kernelspec": {
   "display_name": "Python 3",
   "language": "python",
   "name": "python3"
  },
  "language_info": {
   "codemirror_mode": {
    "name": "ipython",
    "version": 3
   },
   "file_extension": ".py",
   "mimetype": "text/x-python",
   "name": "python",
   "nbconvert_exporter": "python",
   "pygments_lexer": "ipython3",
   "version": "3.10.16"
  }
 },
 "nbformat": 4,
 "nbformat_minor": 2
}
