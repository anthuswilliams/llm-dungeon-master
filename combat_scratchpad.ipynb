{
 "cells": [
  {
   "cell_type": "code",
   "execution_count": 1,
   "metadata": {},
   "outputs": [],
   "source": [
    "import json"
   ]
  },
  {
   "cell_type": "code",
   "execution_count": 2,
   "metadata": {},
   "outputs": [],
   "source": [
    "from openai import OpenAI\n",
    "\n",
    "from agents.adjudicator import query as consult_players_handbook"
   ]
  },
  {
   "cell_type": "code",
   "execution_count": 3,
   "metadata": {},
   "outputs": [],
   "source": [
    "tools = [\n",
    "  {\n",
    "      \"type\": \"function\",\n",
    "      \"function\": {\n",
    "          \"name\": \"consult_players_handbook\",\n",
    "          \"description\": \"Ask a question pertaining to the rules, setting, lore, or current situtation. Call this whenever you need more information.\",\n",
    "          \"parameters\": {\n",
    "              \"type\": \"object\",\n",
    "              \"properties\": {\n",
    "                  \"question\": {\n",
    "                      \"type\": \"string\",\n",
    "                      \"description\": \"A question that should be answered by consulting the available reference materials. Share all relevant details.\",\n",
    "                  },\n",
    "              },\n",
    "              \"required\": [\"question\"],\n",
    "              \"additionalProperties\": False,\n",
    "          },\n",
    "      }\n",
    "  }\n",
    "]"
   ]
  },
  {
   "cell_type": "code",
   "execution_count": 4,
   "metadata": {},
   "outputs": [],
   "source": [
    "combat_starter_message = [\n",
    "  {\n",
    "      \"role\": \"developer\",\n",
    "      \"content\": \"\"\"\n",
    "      You are a Dungeon Master overseeing a combat encounter. Do not assume player actions.  The player will tell you their action,\n",
    "      and you will narrate the outcome.\n",
    "\n",
    "      Use only the information you have been given to narrate the outcome. IMPORTANT: You MUST use the consult_players_handbook tool\n",
    "      to get up-to-date information about the rules of the game, the setting, the mechanics, NPC stat sheets, and so on.\n",
    "\n",
    "      Players:\n",
    "      - Cedric van Zorndt (the Player)\n",
    "        Human Rogue Lvl 1\n",
    "        Armor Class 14\n",
    "        Hit Points 9\n",
    "        STR 12 (+1) - DEX 16 (+3) - CON 13 (+1) - INT 9 (-1) - WIS 12 (+1) - CHA 15 (+2)\n",
    "        Proficiency bonus: +2\n",
    "        Proficiencies:\n",
    "        - Armor: light armor\n",
    "        - Weapons: Simple weapons, hand crossbows, longswords, rapiers, shortswords\n",
    "        - Tools: Thieves' tools\n",
    "        Saving Throws: Dexterity, Intelligence\n",
    "        Skills: Acrobatics, Deception, Sleight of Hand, Stealth\n",
    "        Equipment: Shortsword, shortbow with a quiver of 20 arrows, burglar's pack, leather armor, two daggers, thieves' tools\n",
    "        Expertise: Stealth, Thieves' tools\n",
    "        Sneak attack 1d6\n",
    "      \"\"\"       \n",
    "  },\n",
    "  {\n",
    "      \"role\": \"user\",\n",
    "      \"content\": \"I attack the wolf with my shortsword\"\n",
    "  }\n",
    "]\n",
    "\n",
    "client = OpenAI()\n",
    "\n",
    "def call_open_ai(messages):\n",
    "  print(f\"Content of message: {messages[-1]}\")\n",
    "  return client.chat.completions.create(\n",
    "        model=\"gpt-4o-mini\",\n",
    "        messages=messages,\n",
    "  )"
   ]
  },
  {
   "cell_type": "code",
   "execution_count": 5,
   "metadata": {},
   "outputs": [],
   "source": [
    "def resolve_attack(initial_message):\n",
    "    conversations = initial_message.copy()\n",
    "    total_tool_calls = 0 \n",
    "    while True:\n",
    "        # Call OpenAI\n",
    "        response = call_open_ai(conversations)\n",
    "        print(f\"Response is: {response}\")\n",
    "        conversations.append(response.choices[0].message)\n",
    "        # If the response has a tool call, call the tool\n",
    "        if response.choices[0].message.tool_calls:\n",
    "            for tc in response.choices[0].message.tool_calls:\n",
    "                tool_result = consult_players_handbook(json.loads(tc.function.arguments)[\"question\"])\n",
    "                conversations.append({\n",
    "                    \"role\": \"tool\",\n",
    "                    \"content\": tool_result,\n",
    "                    \"tool_call_id\": tc.id\n",
    "                })\n",
    "                total_tool_calls += 1\n",
    "            if total_tool_calls >= 5:\n",
    "                break\n",
    "            continue\n",
    "        # Else accept user input and continue the loop\n",
    "        else:\n",
    "            user_input = input(response.choices[0].message.content)\n",
    "            if user_input == \"stop\":\n",
    "                break\n",
    "            conversations.append({\n",
    "                \"role\": \"user\",\n",
    "                \"content\": user_input\n",
    "        })"
   ]
  },
  {
   "cell_type": "code",
   "execution_count": null,
   "metadata": {},
   "outputs": [
    {
     "name": "stdout",
     "output_type": "stream",
     "text": [
      "Content of message: {'role': 'user', 'content': 'I attack the wolf with my shortsword'}\n",
      "Response is: ChatCompletion(id='chatcmpl-AjgLHX5kJT6yxWk2uNCTVoO5lKnnv', choices=[Choice(finish_reason='stop', index=0, logprobs=None, message=ChatCompletionMessage(content='You swiftly draw your shortsword, ready to strike the wolf. Make an attack roll by rolling a d20 and adding your attack bonus. Your proficiency bonus for melee attacks with your shortsword, combined with your Dexterity modifier, is +5 (Proficiency +2 and Dexterity +3). Please provide the result of your roll.', refusal=None, role='assistant', audio=None, function_call=None, tool_calls=None))], created=1735450887, model='gpt-4o-mini-2024-07-18', object='chat.completion', service_tier=None, system_fingerprint='fp_0aa8d3e20b', usage=CompletionUsage(completion_tokens=69, prompt_tokens=320, total_tokens=389, completion_tokens_details=CompletionTokensDetails(accepted_prediction_tokens=0, audio_tokens=0, reasoning_tokens=0, rejected_prediction_tokens=0), prompt_tokens_details=PromptTokensDetails(audio_tokens=0, cached_tokens=0)))\n",
      "Content of message: {'role': 'user', 'content': 'sto['}\n"
     ]
    }
   ],
   "source": [
    "resolve_attack(combat_starter_message)"
   ]
  },
  {
   "cell_type": "code",
   "execution_count": 1,
   "metadata": {},
   "outputs": [
    {
     "data": {
      "text/plain": [
       "\"Armor Class 13\\n        Hit Points 10\\n        STR 6 (-2) - DEX 17 (+3) - CON 13 (+1) - INT 11 (+0) - WIS 12 (+1) - CHA 14 (+2)\\n        Speed 20 (Fly 40) (20 in Rat form, 20 fly 60 in Raven form, 20 climb 20 in Spider form)\\n        Skills: Deception +4 Insight +3 Persusasion +4 Stealth +5\\n        Damage Resistances: Cold; bludgeoning, piercing and slashing from non-magical attacks that aren't silvered\\n        Damage Immunities: Fire, poison\\n        Condition Immunities: poisoned\\n        Senses: darkvision 120ft; Passive perception 11\\n        Languages: Infernal, Common\\n        Challenge: 1 (200 XP)\\n        Shapechanger: Te imp can use its action to polymorph into the beast form of a rat, a raven, or a spider, or into its devil form. Its statistics are\\n        the same for each form, except for the speed changes noted. Any equipment it is wearing or carrying is not transformed. It reverts to its devil form if it dies.\\n        Devil's Sight: Magical darkness doesn't impede the imp's darkvision.\\n        Magic Resistance: The imp has advantage on saving tghrows against spells and other magical effects.\\n        Actions:\\n        - Sting (Bite in Beast Form). Melee weapon Attack: +5 to hit, reach 5 ft, one creature. Hit: 5 (1d4+3) piercing damage, and the target must make a DC 11 Constitution saving throw, taking 10 (3d6) poison damage on a failed save, or half as much on a successful one.\\n        - Invisibility. The imp magically turns invisible until it attacks or until its concentration ends (as if concentrating on a spell). Any equipment the imp wears or carries is invisible with it.\""
      ]
     },
     "execution_count": 1,
     "metadata": {},
     "output_type": "execute_result"
    }
   ],
   "source": [
    "\"\"\"Armor Class 13\n",
    "        Hit Points 10\n",
    "        STR 6 (-2) - DEX 17 (+3) - CON 13 (+1) - INT 11 (+0) - WIS 12 (+1) - CHA 14 (+2)\n",
    "        Speed 20 (Fly 40) (20 in Rat form, 20 fly 60 in Raven form, 20 climb 20 in Spider form)\n",
    "        Skills: Deception +4 Insight +3 Persusasion +4 Stealth +5\n",
    "        Damage Resistances: Cold; bludgeoning, piercing and slashing from non-magical attacks that aren't silvered\n",
    "        Damage Immunities: Fire, poison\n",
    "        Condition Immunities: poisoned\n",
    "        Senses: darkvision 120ft; Passive perception 11\n",
    "        Languages: Infernal, Common\n",
    "        Challenge: 1 (200 XP)\n",
    "        Shapechanger: Te imp can use its action to polymorph into the beast form of a rat, a raven, or a spider, or into its devil form. Its statistics are\n",
    "        the same for each form, except for the speed changes noted. Any equipment it is wearing or carrying is not transformed. It reverts to its devil form if it dies.\n",
    "        Devil's Sight: Magical darkness doesn't impede the imp's darkvision.\n",
    "        Magic Resistance: The imp has advantage on saving tghrows against spells and other magical effects.\n",
    "        Actions:\n",
    "        - Sting (Bite in Beast Form). Melee weapon Attack: +5 to hit, reach 5 ft, one creature. Hit: 5 (1d4+3) piercing damage, and the target must make a DC 11 Constitution saving throw, taking 10 (3d6) poison damage on a failed save, or half as much on a successful one.\n",
    "        - Invisibility. The imp magically turns invisible until it attacks or until its concentration ends (as if concentrating on a spell). Any equipment the imp wears or carries is invisible with it.\"\"\""
   ]
  },
  {
   "cell_type": "code",
   "execution_count": 2,
   "metadata": {},
   "outputs": [],
   "source": [
    "import re\n",
    "import random\n",
    "\n",
    "from typing import List\n",
    "\n",
    "\n",
    "def dice_roll(query: str) -> List[int]:\n",
    "    results = re.search(r\"^(\\d+)d(\\d+)(\\s?(\\+|-)\\s?\\d+)?$\", query)\n",
    "    if not results:\n",
    "        raise ValueError(f\"query {query} is uninterpretable\")\n",
    "\n",
    "    num = results.group(1)\n",
    "    val = results.group(2)\n",
    "    modifier = results.group(3)\n",
    "\n",
    "    # TODO: return signature here is inconsistent. The issue is we haven't nailed down how the caller is asking for rolls.\n",
    "    #  For example, when rolling with advantage, it sometimes calls for 2d20 and keeps the higher, and sometimes it calls for 2d20kh1, i.e. expecting us to do that here\n",
    "    #\n",
    "    # In other cases, the intent is not to discard a roll but to sum them, e.g. when rolling for damage it might call for 3d6+3\n",
    "    result = [random.randint(1, int(val)) for i in range(int(num))]\n",
    "    if modifier:\n",
    "        modifier = int(modifier.strip()[1:]) * (-1 if modifier.strip()[0] == \"-\" else 1)\n",
    "        return sum(result) + modifier\n",
    "    else:\n",
    "        return result"
   ]
  },
  {
   "cell_type": "code",
   "execution_count": null,
   "metadata": {},
   "outputs": [],
   "source": []
  }
 ],
 "metadata": {
  "kernelspec": {
   "display_name": "Python 3",
   "language": "python",
   "name": "python3"
  },
  "language_info": {
   "codemirror_mode": {
    "name": "ipython",
    "version": 3
   },
   "file_extension": ".py",
   "mimetype": "text/x-python",
   "name": "python",
   "nbconvert_exporter": "python",
   "pygments_lexer": "ipython3",
   "version": "3.10.16"
  }
 },
 "nbformat": 4,
 "nbformat_minor": 2
}
