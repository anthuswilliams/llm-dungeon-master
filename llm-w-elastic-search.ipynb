{
 "cells": [
  {
   "cell_type": "code",
   "execution_count": null,
   "metadata": {},
   "outputs": [],
   "source": [
    "!pip install openai"
   ]
  },
  {
   "cell_type": "code",
   "execution_count": 5,
   "metadata": {},
   "outputs": [],
   "source": [
    "import requests\n",
    "import json\n",
    "import os\n",
    "\n",
    "from openai import OpenAI"
   ]
  },
  {
   "cell_type": "code",
   "execution_count": 11,
   "metadata": {},
   "outputs": [],
   "source": [
    "client = OpenAI()"
   ]
  },
  {
   "cell_type": "code",
   "execution_count": null,
   "metadata": {},
   "outputs": [],
   "source": [
    "completion = client.chat.completions.create(\n",
    "    model=\"gpt-4o-mini\",\n",
    "    messages=[\n",
    "        {\n",
    "            \"role\": \"developer\",\n",
    "            \"content\": [{\n",
    "                \"type\": \"text\",\n",
    "                \"text\": \"\"\"\n",
    "                    Users are playing an RPG. They will ask questions pertaining to the rules, setting, lore,\n",
    "                    and current situation. You will accept the query and return a list of relevant keywords that\n",
    "                    can be used to locate relevant sections of the source material.\n",
    "\n",
    "                    You will NOT attempt to answer the questions yourself. Your only role is to extract useful keywords\n",
    "                    to be used in a search. Organize them in order of likely relevance, from most relevant to least.\n",
    "\n",
    "                    Return the keywords in a comma delimited format with no quote characters or extraneous punctuation.\n",
    "                \"\"\"\n",
    "            }],\n",
    "        },\n",
    "        {\n",
    "            \"role\": \"user\",\n",
    "            \"content\": [{\n",
    "                \"type\": \"text\",\n",
    "                \"text\": \"My Strength is 16. I am wearing full plate armor. Does this impact my Swim speed?\"\n",
    "            }]\n",
    "        }\n",
    "    ]\n",
    ")\n",
    "\n",
    "print(completion.choices[0].message)"
   ]
  },
  {
   "cell_type": "code",
   "execution_count": null,
   "metadata": {},
   "outputs": [],
   "source": [
    "completion.choices[0].message.content"
   ]
  },
  {
   "cell_type": "code",
   "execution_count": 45,
   "metadata": {},
   "outputs": [],
   "source": [
    "def elastic_request(data=None, method=None, url=None):\n",
    "    if method == None:\n",
    "        method = requests.get\n",
    "    if data:\n",
    "        data = json.dumps(data)    \n",
    "\n",
    "    return method(f\"https://192.168.1.153:9200/{url}\",\n",
    "                  headers={\n",
    "                    \"Content-Type\": \"application/json\",\n",
    "                    \"Accept\": \"application/json\",\n",
    "                    \"Authorization\": f\"ApiKey {os.getenv('ELASTIC_API_KEY')}\"\n",
    "                  },\n",
    "                  verify=False,\n",
    "                  data=data)"
   ]
  },
  {
   "cell_type": "code",
   "execution_count": null,
   "metadata": {},
   "outputs": [],
   "source": [
    "response = elastic_request(url=\"players-handbook-embedded/_search\",\n",
    "                           data={\n",
    "                                \"query\": {\n",
    "                                    \"match\": {\n",
    "                                        \"attachment.content\": {\n",
    "                                            \"query\": completion.choices[0].message.content,\n",
    "                                            \"operator\": \"or\",\n",
    "                                            \"boost\": 0.7\n",
    "                                        }\n",
    "                                    }\n",
    "                                },\n",
    "                                \"knn\": {\n",
    "                                    \"field\": \"content-embedding\",\n",
    "                                    \"k\": 10,\n",
    "                                    \"boost\": 0.3,\n",
    "                                    \"num_candidates\": 10,\n",
    "                                    \"query_vector_builder\": {\n",
    "                                        \"text_embedding\": { \n",
    "                                            \"model_id\": \"open-ai-embeddings\", \n",
    "                                            \"model_text\": \"My Strength is 16. I am wearing full plate armor. Does this impact my Swim speed?\" \n",
    "                                        }\n",
    "                                    }\n",
    "                                }\n",
    "                           })"
   ]
  },
  {
   "cell_type": "code",
   "execution_count": 47,
   "metadata": {},
   "outputs": [],
   "source": [
    "hits = response.json()[\"hits\"][\"hits\"]"
   ]
  },
  {
   "cell_type": "code",
   "execution_count": null,
   "metadata": {},
   "outputs": [],
   "source": [
    "[h[\"_source\"][\"attachment\"][\"content\"] for h in hits]"
   ]
  },
  {
   "cell_type": "code",
   "execution_count": 49,
   "metadata": {},
   "outputs": [],
   "source": [
    "completion = client.chat.completions.create(\n",
    "    model=\"gpt-4o-mini\",\n",
    "    messages=[\n",
    "        {\n",
    "            \"role\": \"developer\",\n",
    "            \"content\": [{\n",
    "                \"type\": \"text\",\n",
    "                \"text\": \"\"\"\n",
    "                    Users are playing an RPG. They will ask questions pertaining to the rules, setting, lore,\n",
    "                    and current situation. You will answer the question based on the content provided.\n",
    "                    \n",
    "                    Use only the content provided. Do not base your answers on anything other than the content.\n",
    "                    Quote the content verbatim if possible (but only if it is relevant to the question!).\n",
    "                    Otherwise, keep your answer as brief as possible. \n",
    "                \"\"\"\n",
    "            }],\n",
    "        },\n",
    "        {\n",
    "            \"role\": \"assistant\",\n",
    "            \"content\": [{ \"type\": \"text\", \"text\": h[\"_source\"][\"attachment\"][\"content\"]} for h in hits[0:2]]\n",
    "        },\n",
    "        {\n",
    "            \"role\": \"user\",\n",
    "            \"content\": [{\n",
    "                \"type\": \"text\",\n",
    "                \"text\": \"My Strength is 16. I am wearing full plate armor. Does this impact my Swim speed?\"\n",
    "            }]\n",
    "        }\n",
    "    ]\n",
    ")"
   ]
  },
  {
   "cell_type": "code",
   "execution_count": null,
   "metadata": {},
   "outputs": [],
   "source": [
    "completion.choices[0].message.content"
   ]
  },
  {
   "cell_type": "code",
   "execution_count": 51,
   "metadata": {},
   "outputs": [],
   "source": [
    "benchmark_questions = [\n",
    "    \"Can I cast Hunter's Mark on an Invisible enemy?\",\n",
    "    \"My Strength is 18. I will take a running jump. How far can I make it?\",\n",
    "    \"My Strength is 18. I am wearing full plate armor. How does this impact my ability to make a running jump?\",\n",
    "    \"My Strength is 16. I am wearing full plate armor. Does this impact my Swim speed?\"\n",
    "]"
   ]
  },
  {
   "cell_type": "code",
   "execution_count": null,
   "metadata": {},
   "outputs": [],
   "source": []
  }
 ],
 "metadata": {
  "kernelspec": {
   "display_name": "Python 3",
   "language": "python",
   "name": "python3"
  },
  "language_info": {
   "codemirror_mode": {
    "name": "ipython",
    "version": 3
   },
   "file_extension": ".py",
   "mimetype": "text/x-python",
   "name": "python",
   "nbconvert_exporter": "python",
   "pygments_lexer": "ipython3",
   "version": "3.10.16"
  }
 },
 "nbformat": 4,
 "nbformat_minor": 2
}
