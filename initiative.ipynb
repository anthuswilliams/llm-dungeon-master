{
 "cells": [
  {
   "cell_type": "code",
   "execution_count": 19,
   "metadata": {},
   "outputs": [],
   "source": [
    "import random\n",
    "import re\n",
    "from typing import List\n",
    "\n",
    "from langchain.agents import AgentExecutor, Tool\n",
    "from langchain.agents import create_openai_tools_agent\n",
    "from langchain.tools.retriever import create_retriever_tool\n",
    "from langchain.chat_models import ChatOpenAI"
   ]
  },
  {
   "cell_type": "code",
   "execution_count": 20,
   "metadata": {},
   "outputs": [],
   "source": [
    "import sys\n",
    "sys.path.append(\".\")"
   ]
  },
  {
   "cell_type": "code",
   "execution_count": 21,
   "metadata": {},
   "outputs": [
    {
     "data": {
      "text/plain": [
       "<re.Match object; span=(0, 6), match='1d20+2'>"
      ]
     },
     "execution_count": 21,
     "metadata": {},
     "output_type": "execute_result"
    }
   ],
   "source": [
    "re.search(r\"^(\\d+)d(\\d+)((\\+|-)(\\d+))?$\", \"1d20+2\")"
   ]
  },
  {
   "cell_type": "code",
   "execution_count": 22,
   "metadata": {},
   "outputs": [],
   "source": [
    "def dice_roll(query: str) -> List[int]:\n",
    "    results = re.search(r\"^(\\d+)d(\\d+)((\\+|-)(\\d+))?$\", query)\n",
    "    if not results:\n",
    "        raise ValueError(f\"query {query} is uninterpretable\")\n",
    "\n",
    "    num = results.group(1)\n",
    "    val = results.group(2)\n",
    "    modifier = results.group(3)\n",
    "    if modifier:\n",
    "        mult = 1 if modifier[0] == \"+\" else -1\n",
    "        add = int(modifier[1:]) * mult\n",
    "    else:\n",
    "        add = 0\n",
    "\n",
    "    return [random.randint(1, int(val)) + add for i in range(int(num))]    \n",
    "\n",
    "tools = [\n",
    "    Tool(\n",
    "        name=\"RollDice\",\n",
    "        func=dice_roll,\n",
    "        description=\"call this to get the result of rolling dice.\",\n",
    "    ),\n",
    "]"
   ]
  },
  {
   "cell_type": "code",
   "execution_count": 23,
   "metadata": {},
   "outputs": [],
   "source": [
    "stats = '''\n",
    "Small Humanoid (Goblinoid), Neutral Evil\n",
    "Armor Class 15 (leather armor, shield)\n",
    "Hit Points 7 (2d6)\n",
    "Speed 30 ft.\n",
    "Roll Initiative! +2\n",
    "STR\n",
    "8 (-1)\n",
    "DEX\n",
    "14 (+2)\n",
    "CON\n",
    "10 (+0)\n",
    "INT\n",
    "10 (+0)\n",
    "WIS\n",
    "8 (-1)\n",
    "CHA\n",
    "8 (-1)\n",
    "Skills Stealth +6\n",
    "Senses Darkvision 60 ft., Passive Perception 9\n",
    "Languages Common, Goblin\n",
    "Challenge 1/4 (50 XP) Proficiency Bonus +2\n",
    "NIMBLE ESCAPE\n",
    "Nimble Escape. The goblin can take the Disengage or Hide action as a bonus action on each\n",
    "of its turns.\n",
    "Actions\n",
    "SCIMITAR\n",
    "Scimitar. Melee Weapon Attack: +4 to hit, reach 5 ft., one target. Hit: 5 (1d6 + 2 )\n",
    "slashing damage.\n",
    "SHORTBOW\n",
    "Shortbow. Ranged Weapon\n",
    "'''"
   ]
  },
  {
   "cell_type": "code",
   "execution_count": 24,
   "metadata": {},
   "outputs": [],
   "source": [
    "with open(\"benchmarks/character-sheets/character_1.txt\", \"r\") as fh:\n",
    "    sheet = fh.read()"
   ]
  },
  {
   "cell_type": "code",
   "execution_count": 26,
   "metadata": {},
   "outputs": [],
   "source": [
    "from langchain import hub\n",
    "\n",
    "# Get the prompt to use - you can modify this!\n",
    "prompt = hub.pull(\"hwchase17/openai-tools-agent\")\n",
    "prompt.messages[0].prompt.template = \"\"\"\n",
    "You are an experienced dungeon master for Dungeons & Dragons 5th edition. We are going to play a short encounter.\n",
    "The encounter consists of a player character using the following sheet: {sheet}\n",
    "\n",
    "The player is fighting two goblins, Goblin A and Goblin B. Here are the stats for goblins: {stats}\n",
    "First, both the player and the two goblins will make an Initiative roll. The player will report their\n",
    "roll and you will apply the modifiers in the character sheet.\n",
    "You will roll dice on behalf of the goblins. When making a roll, you will a) roll the dice and then b) add any relevant\n",
    "modifiers. Then explain the outcome, for example \"Goblin A rolled a [[value]]. With its modifier of [[modifier]], this gives it an Initiative of [[total]].\"\n",
    "\n",
    "You will use all of these values to organize the order in which the participants take their turns. Report that\n",
    "outcome in a numbered list, with the highest Initiative appearing first.\n",
    "\"\"\"\n",
    "# IMPORTANT: PARTICIPANTS MAY ONLY ACT WHEN IT IS THEIR TURN.\n",
    "\n",
    "#When it is a goblin's turn, you will describe what they attempt to do. When it is the player's turn, you will\n",
    "#prompt the player to describe his or her actions. YOU WILL NEVER ACT ON BEHALF OF THE PLAYER.\\\n",
    "llm = ChatOpenAI(model=\"gpt-3.5-turbo\", temperature=0, api_key=api_key)"
   ]
  },
  {
   "cell_type": "code",
   "execution_count": 27,
   "metadata": {},
   "outputs": [
    {
     "name": "stdout",
     "output_type": "stream",
     "text": [
      "\n",
      "\n",
      "\u001b[1m> Entering new AgentExecutor chain...\u001b[0m\n",
      "\u001b[32;1m\u001b[1;3m\n",
      "Invoking: `RollDice` with `1d20+2`\n",
      "\n",
      "\n",
      "\u001b[0m\u001b[36;1m\u001b[1;3m[12]\u001b[0m\u001b[32;1m\u001b[1;3m\n",
      "Invoking: `RollDice` with `1d20+2`\n",
      "\n",
      "\n",
      "\u001b[0m\u001b[36;1m\u001b[1;3m[3]\u001b[0m\u001b[32;1m\u001b[1;3mCaptain Cura rolled a 5 for Initiative. Goblin A rolled a 12 with its modifier of +2, giving it an Initiative of 14. Goblin B rolled a 3 with its modifier of +2, giving it an Initiative of 5. \n",
      "\n",
      "The order of the turns will be:\n",
      "1. Goblin A (Initiative 14)\n",
      "2. Captain Cura (Initiative 5)\n",
      "3. Goblin B (Initiative 5)\u001b[0m\n",
      "\n",
      "\u001b[1m> Finished chain.\u001b[0m\n"
     ]
    },
    {
     "data": {
      "text/plain": [
       "{'input': 'I rolled a 5',\n",
       " 'sheet': 'Name: Captain Cura\\nRace/Ancestry/Heritage: Firbolg\\nClass & Level: Barbarian 1\\nBackground: Pirate\\nAlignment: Chaotic Neutral\\nExperience: 0 xp\\n\\n\\nABILITY SCORES & ABILITIES\\n(* includes +2 proficiency bonus; ** includes expertise, if any)\\n\\nStrength 16\\n+3 ... Strength Ability Checks\\n+5 ... Strength Saving Throws *\\n+5 ... Athletics Skill  *\\n480 lbs. ... Maximum Carrying Capacity\\n960 lbs. ... Max. Push or Drag (Speed -5 ft.)\\n960 lbs. ... Maximum Lift\\n\\nDexterity 13\\n+1 ... Dexterity Ability Checks\\n+1 ... Dexterity Saving Throws\\n+1 ... Acrobatics Skill\\n+1 ... Sleight of Hand Skill\\n+1 ... Stealth Skill\\n\\n\\nConstitution 14\\n+2 ... Constitution Ability Checks\\n+4 ... Constitution Saving Throws *\\n\\nIntelligence 10\\n+0 ... Intelligence Ability Checks\\n+0 ... Intelligence Saving Throws\\n+0 ... Arcana Skill\\n+0 ... History Skill\\n+0 ... Investigation Skill\\n+2 ... Nature Skill  *\\n+0 ... Religion Skill\\n\\nWisdom 14\\n+2 ... Wisdom Ability Checks\\n+2 ... Wisdom Saving Throws\\n+4 ... Animal Handling Skill  *\\n+2 ... Insight Skill\\n+2 ... Medicine Skill\\n+4 ... Perception Skill  *\\n+2 ... Survival Skill\\n\\nCharisma 8\\n-1 ... Charisma Ability Checks\\n-1 ... Charisma Saving Throws\\n-1 ... Deception Skill\\n-1 ... Intimidation Skill\\n-1 ... Performance Skill\\n-1 ... Persuasion Skill\\n\\nCOMBAT [PHB p. 189]\\n\\n14 ... Passive Perception\\n+1 ... Initiative Modifier\\n\\nArmor Class 13 ... Armor worn: none (Unarmored Defense)\\n\\n30 ft. Speed ... Base distance per move\\n\\n14 hit points ... 1d12 Hit Dice\\n\\n\\nGreataxe. Melee Weapon Attack: +5 to hit, reach 5 ft. Hit: 1d12+3 slashing damage. (Must be used two-handed.)\\n\\n\\nHandaxe. Melee Weapon Attack: +5 to hit, reach 5 ft. Hit: 1d6+3 slashing damage. (If thrown, normal range to 20 ft.; disadvantage long range 21 to 60 ft.)\\n\\n\\nJavelin. Melee Weapon Attack: +5 to hit, reach 5 ft. Hit: 1d6+3 piercing damage. (If thrown, normal range to 30 ft.; disadvantage long range 31 to 120 ft.)\\n\\n\\nRage. Lasts 1 minute (10 rounds), or until unconscious, haven\\'t attacked or been hit.\\n\\n\\nFEATURES, TRAITS, SPECIAL ABILITIES\\n\\nPirate Background [PHB p. 139]\\n\\nâ€¢ Feature: Bad Reputation.\\n\\nâ€¢ Traits: Always cases for heists. Inconsiderate of others.\\n\\nâ€¢ Ideal: Because infamy is cool.\\n\\nâ€¢ Bond: Seeks revenge on rival pirates.\\n\\nâ€¢ Flaw: Reckless for a big score.\\n\\n\\nProficiencies & Languages\\nâ€¢ Proficiency Bonus: +2\\nâ€¢ Armor: light armor, medium armor, shields\\nâ€¢ Weapons: simple weapons, martial weapons\\nâ€¢ Tools: navigator\\'s tools, vehicles (watercraft)\\nâ€¢ Saving Throws: Strength, Constitution\\nâ€¢ Skills: Animal Handling, Athletics, Nature, Perception\\nâ€¢ Languages: Common, Elvish, Giant\\n\\n\\nFirbolg Traits [VGtM p. 106]\\n\\nâ€¢ Creature Type: Fey\\n\\nâ€¢ Age: 88 years old\\n\\nâ€¢ Medium Size (8\\' 0\", 417 lbs.)\\n\\nâ€¢ Firbolg Magic (detect magic or disguise self once per short rest)\\n\\nâ€¢ Hidden Step (invisible as bonus action once per short rest)\\n\\nâ€¢ Powerful Build (carry, push, drag, lift as if large size)\\n\\nâ€¢ Speech Of Beast And Leaf (Charisma adv. with beasts and animals)\\n\\n\\nBarbarian Class Features\\n[PHB p. 46, XVtE p. 9]\\n\\nâ€¢ Rage (2/day)\\n\\nâ€¢ Unarmored Defense (AC)\\n\\nRage Effects [PHB p. 48]\\n\\nâ€¢ Advantage on STR checks and saves\\n\\nâ€¢ +2 bonus on STR-based melee damage\\n\\nâ€¢ Resistence (half damage) from bludgeoning, piercing and slashing damage.\\n\\nRage. Lasts 1 minute (10 rounds), or until unconscious, haven\\'t attacked or been hit.\\n\\n\\nEQUIPMENT & TREASURE\\n\\n\\nCarried Gear [PHB, p. 143]: greataxe, two (2) handaxes, five (5) javelins, explorer\\'s pack (backpack, a bedroll, a mess kit, a tinderbox, 10 torches, 10 days\\' rations, waterskin, 50 feet of hempen rope on the side), belt pouch, set of common clothes, rope (silk, 50 feet), belaying pin (club), a non-magical lucky charm. (This load is about 88 lbs.; add 1 lb. per 50 coins carried.)\\n\\n\\nCoins & Gems: 7 gold pieces (gp); 48 silver pieces (sp); 58 copper pieces (cp); 2 gems (worth 10 gp each)',\n",
       " 'stats': '\\nSmall Humanoid (Goblinoid), Neutral Evil\\nArmor Class 15 (leather armor, shield)\\nHit Points 7 (2d6)\\nSpeed 30 ft.\\nRoll Initiative! +2\\nSTR\\n8 (-1)\\nDEX\\n14 (+2)\\nCON\\n10 (+0)\\nINT\\n10 (+0)\\nWIS\\n8 (-1)\\nCHA\\n8 (-1)\\nSkills Stealth +6\\nSenses Darkvision 60 ft., Passive Perception 9\\nLanguages Common, Goblin\\nChallenge 1/4 (50 XP) Proficiency Bonus +2\\nNIMBLE ESCAPE\\nNimble Escape. The goblin can take the Disengage or Hide action as a bonus action on each\\nof its turns.\\nActions\\nSCIMITAR\\nScimitar. Melee Weapon Attack: +4 to hit, reach 5 ft., one target. Hit: 5 (1d6 + 2 )\\nslashing damage.\\nSHORTBOW\\nShortbow. Ranged Weapon\\n',\n",
       " 'chat_history': [],\n",
       " 'output': 'Captain Cura rolled a 5 for Initiative. Goblin A rolled a 12 with its modifier of +2, giving it an Initiative of 14. Goblin B rolled a 3 with its modifier of +2, giving it an Initiative of 5. \\n\\nThe order of the turns will be:\\n1. Goblin A (Initiative 14)\\n2. Captain Cura (Initiative 5)\\n3. Goblin B (Initiative 5)'}"
      ]
     },
     "execution_count": 27,
     "metadata": {},
     "output_type": "execute_result"
    }
   ],
   "source": [
    "import agents.roll_resolver as rr \n",
    "\n",
    "agent = create_openai_tools_agent(llm, tools, prompt)\n",
    "agent_executor = AgentExecutor(agent=agent, tools=tools, verbose=True)\n",
    "\n",
    "agent_executor.invoke({\n",
    "    \"input\": \"I rolled a 5\",\n",
    "    \"sheet\": sheet,\n",
    "    \"stats\": stats,\n",
    "    \"chat_history\": [\n",
    "        # here is my character sheet!\n",
    "    ]\n",
    "})"
   ]
  },
  {
   "cell_type": "code",
   "execution_count": null,
   "metadata": {},
   "outputs": [],
   "source": []
  }
 ],
 "metadata": {
  "kernelspec": {
   "display_name": "Python 3",
   "language": "python",
   "name": "python3"
  },
  "language_info": {
   "codemirror_mode": {
    "name": "ipython",
    "version": 3
   },
   "file_extension": ".py",
   "mimetype": "text/x-python",
   "name": "python",
   "nbconvert_exporter": "python",
   "pygments_lexer": "ipython3",
   "version": "3.10.11"
  }
 },
 "nbformat": 4,
 "nbformat_minor": 2
}
