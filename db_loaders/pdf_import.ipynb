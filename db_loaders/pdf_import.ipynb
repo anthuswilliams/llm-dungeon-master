{
 "cells": [
  {
   "cell_type": "code",
   "execution_count": 2,
   "metadata": {},
   "outputs": [],
   "source": [
    "refresh_embeddings = False\n",
    "refresh_docs = False"
   ]
  },
  {
   "cell_type": "code",
   "execution_count": 2,
   "metadata": {},
   "outputs": [],
   "source": [
    "from langchain.document_loaders import PDFMinerLoader\n",
    "from langchain.text_splitter import RecursiveCharacterTextSplitter\n",
    "\n",
    "if refresh_docs:\n",
    "    eberron_splitter = RecursiveCharacterTextSplitter(chunk_size=1000)\n",
    "    eberron_loader = PDFMinerLoader(\"/workspaces/documents/Eberron_last_war.pdf\")\n",
    "\n",
    "    eberron_data = eberron_loader.load_and_split(text_splitter=eberron_splitter)\n",
    "\n",
    "    tt_splitter = RecursiveCharacterTextSplitter(chunk_size=2500, chunk_overlap=750)\n",
    "    tt_loader = PDFMinerLoader(\"/workspaces/documents/Guide_to_Twisted_Taverns.pdf\")\n",
    "\n",
    "    tt_data = tt_loader.load_and_split(text_splitter=tt_splitter)"
   ]
  },
  {
   "cell_type": "code",
   "execution_count": 3,
   "metadata": {},
   "outputs": [
    {
     "name": "stderr",
     "output_type": "stream",
     "text": [
      "c:\\Users\\anthu\\AppData\\Local\\Programs\\Python\\Python310\\lib\\site-packages\\tqdm\\auto.py:21: TqdmWarning: IProgress not found. Please update jupyter and ipywidgets. See https://ipywidgets.readthedocs.io/en/stable/user_install.html\n",
      "  from .autonotebook import tqdm as notebook_tqdm\n"
     ]
    }
   ],
   "source": [
    "from langchain_community.vectorstores import LanceDB\n",
    "from langchain.embeddings.openai import OpenAIEmbeddings\n",
    "import lancedb\n",
    "\n",
    "if refresh_embeddings:\n",
    "\n",
    "    embeddings = OpenAIEmbeddings()\n",
    "\n",
    "    all_sourcebooks = eberron_data + tt_data\n",
    "\n",
    "    db = lancedb.connect(\"/workspaces/llm-dungeon-master/db\")\n",
    "    table = db.create_table(\n",
    "        \"sourcebooks\",\n",
    "        data=[\n",
    "            {\n",
    "                \"vector\": embeddings.embed_query(\"Hello World\"),\n",
    "                \"text\": \"Hello World\",\n",
    "                \"id\": \"1\",\n",
    "            }\n",
    "        ],\n",
    "        mode=\"overwrite\",\n",
    "    )\n",
    "\n",
    "    # Load the document, split it into chunks, embed each chunk and load it into the vector store.\n",
    "    vectorstore = LanceDB.from_documents(all_sourcebooks, OpenAIEmbeddings(), connection=table)"
   ]
  },
  {
   "cell_type": "code",
   "execution_count": 5,
   "metadata": {},
   "outputs": [],
   "source": [
    "from langchain.chat_models import ChatOpenAI\n",
    "from langchain.prompts import ChatPromptTemplate\n",
    "from langchain_core.output_parsers import StrOutputParser\n",
    "from langchain_core.runnables import RunnablePassthrough\n",
    "\n",
    "if not refresh_embeddings:\n",
    "    embedding_function = OpenAIEmbeddings()\n",
    "\n",
    "\n",
    "    db = lancedb.connect('db')\n",
    "    table = db.open_table('sourcebooks')\n",
    "    vectorstore = LanceDB(table, embedding_function)\n",
    "    \n",
    "# Create a retriever that fetches documents from multiple tables\n",
    "lance_retriever = vectorstore.as_retriever()\n",
    "\n",
    "template = \"\"\"Answer the question based only on the following context:\n",
    "{context}.\n",
    "\n",
    "Question: {question}\n",
    "\"\"\"\n",
    "prompt = ChatPromptTemplate.from_template(template)\n",
    "\n",
    "model = ChatOpenAI()\n",
    "\n",
    "chain = (\n",
    "    {\"context\": lance_retriever, \"question\": RunnablePassthrough()}\n",
    "    | prompt\n",
    "    | model\n",
    "    | StrOutputParser()\n",
    ")"
   ]
  },
  {
   "cell_type": "code",
   "execution_count": 7,
   "metadata": {},
   "outputs": [
    {
     "data": {
      "text/plain": [
       "\"Rimak Chaska is a male high elf bard who is posing as a wealthy noble. He is the leader of the Adventure Belles, a bardic troupe seeking revenge against the Half'n'Halfs.\""
      ]
     },
     "execution_count": 7,
     "metadata": {},
     "output_type": "execute_result"
    }
   ],
   "source": [
    "chain.invoke(\"Who is Rimak chaska?\")"
   ]
  },
  {
   "cell_type": "code",
   "execution_count": null,
   "metadata": {},
   "outputs": [
    {
     "name": "stdout",
     "output_type": "stream",
     "text": [
      "The size of the folder is 16513700 bytes.\n"
     ]
    }
   ],
   "source": [
    "import os\n",
    "\n",
    "def get_folder_size(folder):\n",
    "    total = 0\n",
    "    for path, dirs, files in os.walk(folder):\n",
    "        for f in files:\n",
    "            fp = os.path.join(path, f)\n",
    "            total += os.path.getsize(fp)\n",
    "    return total\n",
    "\n",
    "# Usage\n",
    "folder_size = get_folder_size(\"/workspaces/llm-dungeon-master/db\")\n",
    "print(f\"The size of the folder is {folder_size} bytes.\")"
   ]
  }
 ],
 "metadata": {
  "kernelspec": {
   "display_name": "Python 3",
   "language": "python",
   "name": "python3"
  },
  "language_info": {
   "codemirror_mode": {
    "name": "ipython",
    "version": 3
   },
   "file_extension": ".py",
   "mimetype": "text/x-python",
   "name": "python",
   "nbconvert_exporter": "python",
   "pygments_lexer": "ipython3",
   "version": "3.10.13"
  }
 },
 "nbformat": 4,
 "nbformat_minor": 2
}
