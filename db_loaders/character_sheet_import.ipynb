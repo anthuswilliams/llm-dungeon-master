{
 "cells": [
  {
   "cell_type": "code",
   "execution_count": 1,
   "metadata": {},
   "outputs": [],
   "source": [
    "refresh_embeddings = False"
   ]
  },
  {
   "cell_type": "code",
   "execution_count": 13,
   "metadata": {},
   "outputs": [],
   "source": [
    "import os\n",
    "os.chdir('/workspaces/llm-dungeon-master')"
   ]
  },
  {
   "cell_type": "code",
   "execution_count": 14,
   "metadata": {},
   "outputs": [],
   "source": [
    "import glob\n",
    "from langchain_community.document_loaders import TextLoader\n",
    "\n",
    "import sys\n",
    "sys.path.append('~/workspaces/llm-dungeon-master')\n",
    "\n",
    "sheet_files = glob.glob('benchmarks/character-sheets/*.txt')\n",
    "character_sheets = []\n",
    "\n",
    "for sheet in sheet_files:\n",
    "    loader = TextLoader(sheet)\n",
    "    character_sheets += loader.load()\n"
   ]
  },
  {
   "cell_type": "code",
   "execution_count": 17,
   "metadata": {},
   "outputs": [],
   "source": [
    "from langchain_community.vectorstores import LanceDB\n",
    "from langchain.embeddings.openai import OpenAIEmbeddings\n",
    "import lancedb\n",
    "\n",
    "if refresh_embeddings:\n",
    "\n",
    "    embeddings = OpenAIEmbeddings()\n",
    "\n",
    "    db = lancedb.connect(\"/workspaces/llm-dungeon-master/db\")\n",
    "    table = db.create_table(\n",
    "        \"character_sheets\",\n",
    "        data=[\n",
    "            {\n",
    "                \"vector\": embeddings.embed_query(\"Hello World\"),\n",
    "                \"text\": \"Hello World\",\n",
    "                \"id\": \"1\",\n",
    "            }\n",
    "        ],\n",
    "        mode=\"overwrite\",\n",
    "    )\n",
    "\n",
    "    # Load the document, split it into chunks, embed each chunk and load it into the vector store.\n",
    "    vectorstore = LanceDB.from_documents(character_sheets, OpenAIEmbeddings(), connection=table)"
   ]
  },
  {
   "cell_type": "code",
   "execution_count": 18,
   "metadata": {},
   "outputs": [
    {
     "name": "stdout",
     "output_type": "stream",
     "text": [
      "[Document(page_content='Name: Aros the Unforgiving\\nRace/Ancestry/Heritage: Fallen Aasimar\\nClass & Level: Cleric 1\\nBackground: Spy\\nAlignment: Chaotic Good\\nExperience: 0 xp\\n\\n\\nABILITY SCORES & ABILITIES\\n(* includes +2 proficiency bonus; ** includes expertise, if any)\\n\\nStrength 14\\n+2 ... Strength Ability Checks\\n+2 ... Strength Saving Throws\\n+2 ... Athletics Skill\\n210 lbs. ... Maximum Carrying Capacity\\n420 lbs. ... Max. Push or Drag (Speed -5 ft.)\\n420 lbs. ... Maximum Lift\\n\\nDexterity 8\\n-1 ... Dexterity Ability Checks\\n-1 ... Dexterity Saving Throws\\n-1 ... Acrobatics Skill\\n-1 ... Sleight of Hand Skill\\n+1 ... Stealth Skill  * (Disadv.)\\n\\n\\nConstitution 14\\n+2 ... Constitution Ability Checks\\n+2 ... Constitution Saving Throws\\n\\nIntelligence 10\\n+0 ... Intelligence Ability Checks\\n+0 ... Intelligence Saving Throws\\n+0 ... Arcana Skill\\n+0 ... History Skill\\n+0 ... Investigation Skill\\n+0 ... Nature Skill\\n+2 ... Religion Skill  *\\n\\nWisdom 15\\n+2 ... Wisdom Ability Checks\\n+4 ... Wisdom Saving Throws *\\n+2 ... Animal Handling Skill\\n+4 ... Insight Skill  *\\n+2 ... Medicine Skill\\n+2 ... Perception Skill\\n+2 ... Survival Skill\\n\\nCharisma 14\\n+2 ... Charisma Ability Checks\\n+4 ... Charisma Saving Throws *\\n+4 ... Deception Skill  *\\n+2 ... Intimidation Skill\\n+2 ... Performance Skill\\n+2 ... Persuasion Skill\\n\\nCOMBAT [PHB p. 189]\\n\\n12 ... Passive Perception\\n-1 ... Initiative Modifier\\n\\nArmor Class 15 ... Armor worn: scale mail, shield\\n\\n30 ft. Speed ... Base distance per move\\n\\n10 hit points ... 1d8 Hit Dice\\n\\n\\nMace. Melee Weapon Attack: +4 to hit, reach 5 ft. Hit: 1d6+2 bludgeoning damage.\\n\\n\\nLight Crossbow. Ranged Weapon Attack: +1 to hit. Hit: 1d8-1 piercing damage. (Normal range to 80 ft.; disadvantage long range 81 to 320 ft. Must be used two-handed, reloading limits to only one attack per round regardless of extra attacks.)\\n\\n\\nChill Touch Cantrip. Ranged Spell Attack: +4 to hit, target one creature within 120 ft. range. Hit: 1d8 necrotic damage and can\\'t regain HP until the start of your next turn. If target is undead, it also suffers disadvantage on attack rolls until the end of your next turn.\\n\\n\\nFEATURES, TRAITS, SPECIAL ABILITIES\\n\\nSpy Background [PHB p. 129]\\n\\n• Feature: Criminal Contact.\\n\\n• Traits: Amnesia about own past. Tense personality.\\n\\n• Ideal: Aspires to be a spymaster.\\n\\n• Bond: Merchant is local spymaster.\\n\\n• Flaw: Agrees with enemy\\'s views.\\n\\n\\nProficiencies & Languages\\n• Proficiency Bonus: +2\\n• Armor: light armor, medium armor, heavy armor, shields\\n• Weapons: simple weapons\\n• Tools: disguise kit, thieves\\' tools\\n• Saving Throws: Wisdom, Charisma\\n• Skills: Deception, Insight, Religion, Stealth\\n• Languages: Common, Celestial\\n\\n\\nAasimar Traits [VGtM p. 104]\\n\\n• Creature Type: Humanoid\\n\\n• Age: 28 years old\\n\\n• Medium Size (5\\' 10\", 160 lbs.)\\n\\n• Darkvision (60 feet)\\n\\n• Celestial Resistance (vs. necrotic, radiant)\\n\\n• Healing Hands (once betw. long rests, touch heals 1 h.p.)\\n\\n• Celestial Legacy (Charisma-based; Light cantrip)\\n\\n\\nCleric Class Features [PHB p. 57, DMG p. 96]\\n\\n• Ritual Casting\\n\\n• Reaper (cast Chill Touch at two targets within 5 ft.)\\n\\nChill Touch Cantrip. Ranged Spell Attack: +4 to hit, target one creature within 120 ft. range. Hit: 1d8 necrotic damage and can\\'t regain HP until the start of your next turn. If target is undead, it also suffers disadvantage on attack rolls until the end of your next turn.\\n\\nSpellcasting [PHB p. 201]\\n\\nSpell Attack Modifier +4\\nSpell Save DC 12\\nCantrips Known: Chill Touch, Guidance, Resistance\\n\\n\\nPrepared Spells\\n1st Level (2 slots): False Life*, Ray of Sickness*, Bane, Detect Magic, Bless\\n\\n\\nEQUIPMENT & TREASURE\\n\\n\\nCarried Gear [PHB, p. 143]: scale mail (AC 14), shield (AC +2), mace, belt pouch, crowbar, set of dark common clothes with hood. (This load is about 111 lbs.; add 1 lb. per 50 coins carried.)\\n\\n\\nCoins & Gems: 16 gold pieces (gp); 26 silver pieces (sp); 53 copper pieces (cp); 4 gems (worth 10 gp each)\\n\\n', metadata={'vector': array([ 0.0017055 , -0.01415862,  0.00387693, ..., -0.00078799,\n",
      "       -0.00451323, -0.02702376], dtype=float32), 'id': 'cf33555b-3ade-401e-bf46-d2ddced9f374', '_distance': 0.3305419087409973})]\n"
     ]
    }
   ],
   "source": [
    "query = \"What is Aros's charisma?\"\n",
    "docs = vectorstore.similarity_search(query)\n",
    "print(docs[0:1])"
   ]
  },
  {
   "cell_type": "code",
   "execution_count": 19,
   "metadata": {},
   "outputs": [
    {
     "name": "stdout",
     "output_type": "stream",
     "text": [
      "[Document(page_content='Name: Aros the Unforgiving\\nRace/Ancestry/Heritage: Fallen Aasimar\\nClass & Level: Cleric 1\\nBackground: Spy\\nAlignment: Chaotic Good\\nExperience: 0 xp\\n\\n\\nABILITY SCORES & ABILITIES\\n(* includes +2 proficiency bonus; ** includes expertise, if any)\\n\\nStrength 14\\n+2 ... Strength Ability Checks\\n+2 ... Strength Saving Throws\\n+2 ... Athletics Skill\\n210 lbs. ... Maximum Carrying Capacity\\n420 lbs. ... Max. Push or Drag (Speed -5 ft.)\\n420 lbs. ... Maximum Lift\\n\\nDexterity 8\\n-1 ... Dexterity Ability Checks\\n-1 ... Dexterity Saving Throws\\n-1 ... Acrobatics Skill\\n-1 ... Sleight of Hand Skill\\n+1 ... Stealth Skill  * (Disadv.)\\n\\n\\nConstitution 14\\n+2 ... Constitution Ability Checks\\n+2 ... Constitution Saving Throws\\n\\nIntelligence 10\\n+0 ... Intelligence Ability Checks\\n+0 ... Intelligence Saving Throws\\n+0 ... Arcana Skill\\n+0 ... History Skill\\n+0 ... Investigation Skill\\n+0 ... Nature Skill\\n+2 ... Religion Skill  *\\n\\nWisdom 15\\n+2 ... Wisdom Ability Checks\\n+4 ... Wisdom Saving Throws *\\n+2 ... Animal Handling Skill\\n+4 ... Insight Skill  *\\n+2 ... Medicine Skill\\n+2 ... Perception Skill\\n+2 ... Survival Skill\\n\\nCharisma 14\\n+2 ... Charisma Ability Checks\\n+4 ... Charisma Saving Throws *\\n+4 ... Deception Skill  *\\n+2 ... Intimidation Skill\\n+2 ... Performance Skill\\n+2 ... Persuasion Skill\\n\\nCOMBAT [PHB p. 189]\\n\\n12 ... Passive Perception\\n-1 ... Initiative Modifier\\n\\nArmor Class 15 ... Armor worn: scale mail, shield\\n\\n30 ft. Speed ... Base distance per move\\n\\n10 hit points ... 1d8 Hit Dice\\n\\n\\nMace. Melee Weapon Attack: +4 to hit, reach 5 ft. Hit: 1d6+2 bludgeoning damage.\\n\\n\\nLight Crossbow. Ranged Weapon Attack: +1 to hit. Hit: 1d8-1 piercing damage. (Normal range to 80 ft.; disadvantage long range 81 to 320 ft. Must be used two-handed, reloading limits to only one attack per round regardless of extra attacks.)\\n\\n\\nChill Touch Cantrip. Ranged Spell Attack: +4 to hit, target one creature within 120 ft. range. Hit: 1d8 necrotic damage and can\\'t regain HP until the start of your next turn. If target is undead, it also suffers disadvantage on attack rolls until the end of your next turn.\\n\\n\\nFEATURES, TRAITS, SPECIAL ABILITIES\\n\\nSpy Background [PHB p. 129]\\n\\n• Feature: Criminal Contact.\\n\\n• Traits: Amnesia about own past. Tense personality.\\n\\n• Ideal: Aspires to be a spymaster.\\n\\n• Bond: Merchant is local spymaster.\\n\\n• Flaw: Agrees with enemy\\'s views.\\n\\n\\nProficiencies & Languages\\n• Proficiency Bonus: +2\\n• Armor: light armor, medium armor, heavy armor, shields\\n• Weapons: simple weapons\\n• Tools: disguise kit, thieves\\' tools\\n• Saving Throws: Wisdom, Charisma\\n• Skills: Deception, Insight, Religion, Stealth\\n• Languages: Common, Celestial\\n\\n\\nAasimar Traits [VGtM p. 104]\\n\\n• Creature Type: Humanoid\\n\\n• Age: 28 years old\\n\\n• Medium Size (5\\' 10\", 160 lbs.)\\n\\n• Darkvision (60 feet)\\n\\n• Celestial Resistance (vs. necrotic, radiant)\\n\\n• Healing Hands (once betw. long rests, touch heals 1 h.p.)\\n\\n• Celestial Legacy (Charisma-based; Light cantrip)\\n\\n\\nCleric Class Features [PHB p. 57, DMG p. 96]\\n\\n• Ritual Casting\\n\\n• Reaper (cast Chill Touch at two targets within 5 ft.)\\n\\nChill Touch Cantrip. Ranged Spell Attack: +4 to hit, target one creature within 120 ft. range. Hit: 1d8 necrotic damage and can\\'t regain HP until the start of your next turn. If target is undead, it also suffers disadvantage on attack rolls until the end of your next turn.\\n\\nSpellcasting [PHB p. 201]\\n\\nSpell Attack Modifier +4\\nSpell Save DC 12\\nCantrips Known: Chill Touch, Guidance, Resistance\\n\\n\\nPrepared Spells\\n1st Level (2 slots): False Life*, Ray of Sickness*, Bane, Detect Magic, Bless\\n\\n\\nEQUIPMENT & TREASURE\\n\\n\\nCarried Gear [PHB, p. 143]: scale mail (AC 14), shield (AC +2), mace, belt pouch, crowbar, set of dark common clothes with hood. (This load is about 111 lbs.; add 1 lb. per 50 coins carried.)\\n\\n\\nCoins & Gems: 16 gold pieces (gp); 26 silver pieces (sp); 53 copper pieces (cp); 4 gems (worth 10 gp each)\\n\\n', metadata={'vector': array([ 0.0017055 , -0.01415862,  0.00387693, ..., -0.00078799,\n",
      "       -0.00451323, -0.02702376], dtype=float32), 'id': 'cf33555b-3ade-401e-bf46-d2ddced9f374', '_distance': 0.3305419087409973})]\n"
     ]
    },
    {
     "name": "stderr",
     "output_type": "stream",
     "text": [
      "/home/vscode/.local/lib/python3.10/site-packages/langchain_core/_api/deprecation.py:117: LangChainDeprecationWarning: The class `langchain_community.chat_models.openai.ChatOpenAI` was deprecated in langchain-community 0.0.10 and will be removed in 0.2.0. An updated version of the class exists in the langchain-openai package and should be used instead. To use it run `pip install -U langchain-openai` and import as `from langchain_openai import ChatOpenAI`.\n",
      "  warn_deprecated(\n"
     ]
    }
   ],
   "source": [
    "from langchain.chat_models import ChatOpenAI\n",
    "from langchain.prompts import ChatPromptTemplate\n",
    "from langchain_core.output_parsers import StrOutputParser\n",
    "from langchain_core.runnables import RunnablePassthrough\n",
    "\n",
    "if not refresh_embeddings:\n",
    "    embedding_function = OpenAIEmbeddings()\n",
    "\n",
    "\n",
    "    db = lancedb.connect('db')\n",
    "    table = db.open_table('character_sheets')\n",
    "    vectorstore = LanceDB(table, embedding_function)\n",
    "\n",
    "# Create a retriever that fetches documents from multiple tables\n",
    "lance_retriever = vectorstore.as_retriever(search_kwargs={\"k\": 1})\n",
    "\n",
    "docs = lance_retriever.get_relevant_documents(\"What is Aros's charisma?\")\n",
    "print(docs)\n",
    "template = \"\"\"Answer the question based only on the following context:\n",
    "{context}.\n",
    "\n",
    "Question: {question}\n",
    "\"\"\"\n",
    "prompt = ChatPromptTemplate.from_template(template)\n",
    "\n",
    "model = ChatOpenAI()\n",
    "\n",
    "chain = (\n",
    "    {\"context\": lance_retriever, \"question\": RunnablePassthrough()}\n",
    "    | prompt\n",
    "    | model\n",
    "    | StrOutputParser()\n",
    ")"
   ]
  },
  {
   "cell_type": "code",
   "execution_count": 20,
   "metadata": {},
   "outputs": [
    {
     "data": {
      "text/plain": [
       "\"Gualluwyrm's weapons are a shortsword, a longbow, and 20 arrows.\""
      ]
     },
     "execution_count": 20,
     "metadata": {},
     "output_type": "execute_result"
    }
   ],
   "source": [
    "chain.invoke(\"What are Gualluwyrm's weapons?\")"
   ]
  },
  {
   "cell_type": "code",
   "execution_count": null,
   "metadata": {},
   "outputs": [
    {
     "name": "stdout",
     "output_type": "stream",
     "text": [
      "The size of the folder is 16669991 bytes.\n"
     ]
    }
   ],
   "source": [
    "import os\n",
    "\n",
    "def get_folder_size(folder):\n",
    "    total = 0\n",
    "    for path, dirs, files in os.walk(folder):\n",
    "        for f in files:\n",
    "            fp = os.path.join(path, f)\n",
    "            total += os.path.getsize(fp)\n",
    "    return total\n",
    "\n",
    "# Usage\n",
    "folder_size = get_folder_size(\"/workspaces/llm-dungeon-master/db\")\n",
    "print(f\"The size of the folder is {folder_size} bytes.\")"
   ]
  }
 ],
 "metadata": {
  "kernelspec": {
   "display_name": "Python 3",
   "language": "python",
   "name": "python3"
  },
  "language_info": {
   "codemirror_mode": {
    "name": "ipython",
    "version": 3
   },
   "file_extension": ".py",
   "mimetype": "text/x-python",
   "name": "python",
   "nbconvert_exporter": "python",
   "pygments_lexer": "ipython3",
   "version": "3.10.13"
  }
 },
 "nbformat": 4,
 "nbformat_minor": 2
}
