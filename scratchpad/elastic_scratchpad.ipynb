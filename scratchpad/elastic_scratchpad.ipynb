{
 "cells": [
  {
   "cell_type": "code",
   "execution_count": 9,
   "metadata": {},
   "outputs": [],
   "source": [
    "import requests\n",
    "import json\n",
    "\n",
    "import os\n",
    "import base64"
   ]
  },
  {
   "cell_type": "code",
   "execution_count": 12,
   "metadata": {},
   "outputs": [],
   "source": [
    "def elastic_request(data=None, method=None, url=None):\n",
    "    if method == None:\n",
    "        method = requests.get\n",
    "    if data:\n",
    "        data = json.dumps(data)    \n",
    "\n",
    "    return method(f\"{os.getenv('ELASTIC_HOST')}/{url}\",\n",
    "                  headers={\n",
    "                    \"Content-Type\": \"application/json\",\n",
    "                    \"Accept\": \"application/json\",\n",
    "                    \"Authorization\": f\"ApiKey {os.getenv('K8S_ELASTIC_API_KEY')}\"\n",
    "                  },\n",
    "                  verify=False,\n",
    "                  data=data)"
   ]
  },
  {
   "cell_type": "code",
   "execution_count": 22,
   "metadata": {},
   "outputs": [
    {
     "name": "stderr",
     "output_type": "stream",
     "text": [
      "/workspaces/llm-dungeon-master/versions/lib/python3.12/site-packages/urllib3/connectionpool.py:1097: InsecureRequestWarning: Unverified HTTPS request is being made to host 'localhost'. Adding certificate verification is strongly advised. See: https://urllib3.readthedocs.io/en/latest/advanced-usage.html#tls-warnings\n",
      "  warnings.warn(\n"
     ]
    },
    {
     "data": {
      "text/plain": [
       "{'acknowledged': True}"
      ]
     },
     "execution_count": 22,
     "metadata": {},
     "output_type": "execute_result"
    }
   ],
   "source": [
    "rslt = elastic_request(method=requests.put, url=\"source-books/_mapping\", data={\n",
    "  \"properties\": {\n",
    "    \"title\": {\n",
    "        \"type\": \"keyword\"\n",
    "    },\n",
    "    \"game\": {\n",
    "      \"type\": \"keyword\",\n",
    "    },\n",
    "    \"index\": {\n",
    "      \"type\": \"keyword\"\n",
    "    }\n",
    "  }\n",
    "})\n",
    "rslt.json()"
   ]
  },
  {
   "cell_type": "code",
   "execution_count": 23,
   "metadata": {},
   "outputs": [
    {
     "name": "stderr",
     "output_type": "stream",
     "text": [
      "/workspaces/llm-dungeon-master/versions/lib/python3.12/site-packages/urllib3/connectionpool.py:1097: InsecureRequestWarning: Unverified HTTPS request is being made to host 'localhost'. Adding certificate verification is strongly advised. See: https://urllib3.readthedocs.io/en/latest/advanced-usage.html#tls-warnings\n",
      "  warnings.warn(\n"
     ]
    },
    {
     "data": {
      "text/plain": [
       "{'took': 10,\n",
       " 'timed_out': False,\n",
       " 'total': 10,\n",
       " 'updated': 0,\n",
       " 'created': 10,\n",
       " 'deleted': 0,\n",
       " 'batches': 1,\n",
       " 'version_conflicts': 0,\n",
       " 'noops': 0,\n",
       " 'retries': {'bulk': 0, 'search': 0},\n",
       " 'throttled_millis': 0,\n",
       " 'requests_per_second': -1.0,\n",
       " 'throttled_until_millis': 0,\n",
       " 'failures': []}"
      ]
     },
     "execution_count": 23,
     "metadata": {},
     "output_type": "execute_result"
    }
   ],
   "source": [
    "rslt = elastic_request(method=requests.post, url=\"_reindex\", data={\n",
    "  \"source\": {\n",
    "    \"index\": \"source-books2\"\n",
    "  },\n",
    "  \"dest\": {\n",
    "    \"index\": \"source-books\"\n",
    "  }\n",
    "})\n",
    "rslt.json()"
   ]
  },
  {
   "cell_type": "code",
   "execution_count": null,
   "metadata": {},
   "outputs": [],
   "source": [
    "inf_endpt = elastic_request(url=\"/_inference/text_embedding/open-ai-embeddings\",\n",
    "                            method=requests.put,\n",
    "                            data={\n",
    "                                \"service\": \"openai\",\n",
    "                                \"service_settings\": {\n",
    "                                    \"api_key\": os.getenv(\"OPENAI_API_KEY\"),\n",
    "                                    \"model_id\": \"text-embedding-3-small\"\n",
    "                                }\n",
    "                            })\n",
    "inf_endpt.json()"
   ]
  },
  {
   "cell_type": "code",
   "execution_count": null,
   "metadata": {},
   "outputs": [],
   "source": [
    "load_docs = elastic_request(url=\"_ingest/pipeline/attach_and_chunk\", method=requests.put, data={\n",
    "  \"description\" : \"Extract attachment and separate into paragraphs\",\n",
    "  \"processors\" : [\n",
    "    {\n",
    "      \"attachment\": {\n",
    "        \"field\": \"data\",\n",
    "        \"indexed_chars\": -1,\n",
    "        \"remove_binary\": True\n",
    "      }\n",
    "    },\n",
    "    {\n",
    "      \"script\": {\n",
    "        \"description\": \"Chunk each attachment into individual sentences. This will be a nested field\",\n",
    "        \"source\": \"\"\"\n",
    "          String[] envSplit = /((?<!M(r|s|rs)\\.)(?<=\\.) |(?<=\\!) |(?<=\\?) )/.split(ctx['attachment']['content']);\n",
    "          ctx['passages'] = new ArrayList();\n",
    "          int i = 0;\n",
    "          boolean remaining = true;\n",
    "          if (envSplit.length == 0) {\n",
    "            return\n",
    "          } else if (envSplit.length == 1) {\n",
    "            Map passage = ['text': envSplit[0]];\n",
    "            ctx['passages'].add(passage)\n",
    "          } else {\n",
    "            while (remaining) {\n",
    "              Map passage = ['text': envSplit[i++]];\n",
    "              while (i < envSplit.length && passage.text.length() + envSplit[i].length() < params.passage_size) {passage.text = passage.text + ' ' + envSplit[i++]}\n",
    "              if (i == envSplit.length) {remaining = false}\n",
    "              ctx['passages'].add(passage)\n",
    "            }\n",
    "          }\n",
    "          \"\"\",\n",
    "          \"params\": {\n",
    "              \"passage_size\": 600\n",
    "          }    \n",
    "      }\n",
    "    }\n",
    "  ]\n",
    "})\n",
    "load_docs.json()"
   ]
  },
  {
   "cell_type": "code",
   "execution_count": null,
   "metadata": {},
   "outputs": [],
   "source": [
    "embed_each = elastic_request(url=\"_ingest/pipeline/clean_and_embed\", method=requests.put, data={\n",
    "    \"description\" : \"Remove links and generate embeddings\",\n",
    "    \"processors\" : [{\n",
    "        \"gsub\": {\n",
    "            \"field\": \"passage\",\n",
    "            \"pattern\": \"http?s:\\/\\/[^\\s]+\\s\",\n",
    "            \"replacement\": \"\"\n",
    "        },\n",
    "        \"inference\": {\n",
    "            \"model_id\": \"open-ai-embeddings\",\n",
    "            \"input_output\": {\n",
    "                \"input_field\": \"passage\",\n",
    "                \"output_field\": \"passage-embedding\"\n",
    "            }\n",
    "        }\n",
    "    }]\n",
    "})\n",
    "embed_each.json()"
   ]
  },
  {
   "cell_type": "code",
   "execution_count": null,
   "metadata": {},
   "outputs": [],
   "source": [
    "doc = \"DISMISS\\n\\n12/21/24, 9:13 PM Adventuring - Player's Handbook (2014) - Dungeons & Dragons - Sources - D&D Beyond\\n\\nhttps://www.dndbeyond.com/sources/dnd/phb-2014/adventuring 1/11\\n\\nhttps://www.dndbeyond.com/sources/dnd/phb-2014/using-ability-scores\\nhttps://www.dndbeyond.com/sources/dnd/phb-2014/\\nhttps://www.dndbeyond.com/sources/dnd/phb-2014/combat\\nhttps://www.dndbeyond.com/sources/phb/introduction#HowtoPlay\\nhttps://marketplace.dndbeyond.com/category/DB0000156?&icid_medium=organic&icid_source=bluebanner&icid_campaign=2024_3p_&icid_content=2024_hype\\nhttps://marketplace.dndbeyond.com/category/DB0000156?&icid_medium=organic&icid_source=bluebanner&icid_campaign=2024_3p_&icid_content=2024_hype\\nhttps://marketplace.dndbeyond.com/category/DB0000156?&icid_medium=organic&icid_source=bluebanner&icid_campaign=2024_3p_&icid_content=2024_hype\\nhttps://marketplace.dndbeyond.com/category/DB0000156?&icid_medium=organic&icid_source=bluebanner&icid_campaign=2024_3p_&icid_content=2024_hype\\nhttps://marketplace.dndbeyond.com/category/DB0000156?&icid_medium=organic&icid_source=bluebanner&icid_campaign=2024_3p_&icid_content=2024_hype\\nhttps://marketplace.dndbeyond.com/category/DB0000156?&icid_medium=organic&icid_source=bluebanner&icid_campaign=2024_3p_&icid_content=2024_hype\\nhttps://marketplace.dndbeyond.com/category/DB0000156?&icid_medium=organic&icid_source=bluebanner&icid_campaign=2024_3p_&icid_content=2024_hype\\nhttps://marketplace.dndbeyond.com/category/DB0000156?&icid_medium=organic&icid_source=bluebanner&icid_campaign=2024_3p_&icid_content=2024_hype\\nhttps://marketplace.dndbeyond.com/category/DB0000156?&icid_medium=organic&icid_source=bluebanner&icid_campaign=2024_3p_&icid_content=2024_hype\\nhttps://marketplace.dndbeyond.com/category/DB0000156?&icid_medium=organic&icid_source=bluebanner&icid_campaign=2024_3p_&icid_content=2024_hype\\nhttps://marketplace.dndbeyond.com/category/DB0000156?&icid_medium=organic&icid_source=bluebanner&icid_campaign=2024_3p_&icid_content=2024_hype\\n\\n\\nTime\\n\\nIn situations where keeping track of the passage of time is important, the DM determines the time a task requires.\"\n",
    "test = elastic_request(method=requests.post, url=\"_ingest/pipeline/clean_and_embed/_simulate\", data={\"docs\":[{\"_source\": {\"passage\": doc}}]})\n",
    "test.json()"
   ]
  },
  {
   "cell_type": "code",
   "execution_count": 45,
   "metadata": {},
   "outputs": [],
   "source": [
    "dir_path = \"/data/Player's Handbook 5e (2014)\"\n",
    "encoded_files = []\n",
    "for filename in os.listdir(dir_path):\n",
    "    file_path = os.path.join(dir_path, filename)\n",
    "\n",
    "    if os.path.isfile(file_path):\n",
    "        with open(file_path, 'rb') as file:\n",
    "            file_content = file.read()\n",
    "            encoded_content = base64.b64encode(file_content).decode('utf-8')\n",
    "            encoded_files.append((filename, encoded_content))"
   ]
  },
  {
   "cell_type": "code",
   "execution_count": null,
   "metadata": {},
   "outputs": [],
   "source": [
    "for filename, contents in encoded_files:\n",
    "    elastic_request(method=requests.put, url=f\"players-handbook/_doc/{filename}?pipeline=attach_and_chunk\", data={\"data\": contents})\n",
    "    "
   ]
  },
  {
   "cell_type": "code",
   "execution_count": null,
   "metadata": {},
   "outputs": [],
   "source": [
    "mapping = elastic_request(url=\"players-handbook-chunked\",\n",
    "                          method=requests.put,\n",
    "                          data={\n",
    "                            \"mappings\": {\n",
    "                                \"dynamic\": True,\n",
    "                                \"properties\": {\n",
    "                                    \"vector\": {\n",
    "                                        \"properties\": {\n",
    "                                            \"predicted_value\": {\n",
    "                                                \"type\": \"dense_vector\",\n",
    "                                                \"index\": True,\n",
    "                                                \"dims\": 1536,\n",
    "                                                \"similarity\": \"cosine\"\n",
    "                                            }\n",
    "                                        }\n",
    "                                    }\n",
    "                                }\n",
    "                            }\n",
    "                          })\n",
    "mapping.json()"
   ]
  },
  {
   "cell_type": "code",
   "execution_count": null,
   "metadata": {},
   "outputs": [],
   "source": [
    "data = {\n",
    "    \"query\": {\n",
    "        \"match_all\": {}\n",
    "    },\n",
    "    \"size\": 10000,\n",
    "    \"sort\": [\n",
    "        {\"attachment.date\": \"asc\"}\n",
    "    ]\n",
    "}\n",
    "\n",
    "r = elastic_request(url=\"players-handbook/_search?scroll=1m\",\n",
    "                    method=requests.post,\n",
    "                    data=data).json()\n",
    "scroll_id = r[\"_scroll_id\"]\n",
    "while len(r[\"hits\"][\"hits\"]) > 0:\n",
    "    print(r[\"hits\"][\"hits\"])\n",
    "    bulk_submit = [[{\"index\": {}}, {\"passage\": passage[\"text\"], \"section\": hit[\"_id\"]}] for hit in r[\"hits\"][\"hits\"] for passage in hit[\"_source\"][\"passages\"]]\n",
    "    payload=\"\\n\".join([json.dumps(j) for entry in bulk_submit for j in entry])\n",
    "    # use bulk endpoint to submit each paragraph as a new document\n",
    "    create = requests.post(\"https://192.168.1.153:9200/players-handbook-chunked/_bulk?pipeline=clean_and_embed\",\n",
    "                            headers={\n",
    "                                \"Content-Type\": \"application/x-ndjson\",\n",
    "                                \"Accept\": \"application/json\",\n",
    "                                \"Authorization\": f\"ApiKey {os.getenv('ELASTIC_API_KEY')}\"\n",
    "                            },\n",
    "                            verify=False,\n",
    "                            data=f\"{payload}\\n\")\n",
    "    print(create.json())\n",
    "    r = elastic_request(url=\"_search/scroll\",\n",
    "                       data={\"scroll\": \"1m\", \"scroll_id\": scroll_id}).json()"
   ]
  },
  {
   "cell_type": "code",
   "execution_count": null,
   "metadata": {},
   "outputs": [],
   "source": [
    "response = elastic_request(url=\"players-handbook-chunked/_search\",\n",
    "                           data={\n",
    "                                \"query\": {\n",
    "                                    \"match\": {\n",
    "                                        \"passage\": {\n",
    "                                            \"query\": \"Druid capstone\",\n",
    "                                            \"operator\": \"and\",\n",
    "                                            \"boost\": 0.4\n",
    "                                        }\n",
    "                                    }\n",
    "                                },\n",
    "                                \"knn\": {\n",
    "                                    \"field\": \"passage-embedding\",\n",
    "                                    \"k\": 10,\n",
    "                                    \"boost\": 0.3,\n",
    "                                    \"num_candidates\": 100,\n",
    "                                    \"query_vector_builder\": {\n",
    "                                        \"text_embedding\": { \n",
    "                                            \"model_id\": \"open-ai-embeddings\", \n",
    "                                            \"model_text\": \"What are the capstone abilities for Druid?\" \n",
    "                                        }\n",
    "                                    }\n",
    "                                } \n",
    "                           })\n",
    "\n",
    "rslt = elastic_request(url=\"players-handbook-chunked/_search\",\n",
    "                       data={\n",
    "                            \"query\": {\n",
    "                                \"match\": {\n",
    "                                    \"passage\": {\n",
    "                                        \"query\": \"can I cast Hunter's Mark on an entity who is Invisible?\"\n",
    "                                    }\n",
    "                                }\n",
    "                            }\n",
    "                        })"
   ]
  },
  {
   "cell_type": "code",
   "execution_count": null,
   "metadata": {},
   "outputs": [],
   "source": [
    "hits = response.json()[\"hits\"][\"hits\"]\n",
    "len(hits)"
   ]
  },
  {
   "cell_type": "code",
   "execution_count": null,
   "metadata": {},
   "outputs": [],
   "source": [
    "[h[\"_source\"][\"passage\"] for h in hits]"
   ]
  },
  {
   "cell_type": "code",
   "execution_count": null,
   "metadata": {},
   "outputs": [],
   "source": []
  }
 ],
 "metadata": {
  "kernelspec": {
   "display_name": "versions",
   "language": "python",
   "name": "python3"
  },
  "language_info": {
   "codemirror_mode": {
    "name": "ipython",
    "version": 3
   },
   "file_extension": ".py",
   "mimetype": "text/x-python",
   "name": "python",
   "nbconvert_exporter": "python",
   "pygments_lexer": "ipython3",
   "version": "3.12.8"
  }
 },
 "nbformat": 4,
 "nbformat_minor": 2
}
