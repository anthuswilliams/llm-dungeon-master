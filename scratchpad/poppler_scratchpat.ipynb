{
 "cells": [
  {
   "cell_type": "code",
   "execution_count": 1,
   "metadata": {},
   "outputs": [],
   "source": [
    "import poppler"
   ]
  },
  {
   "cell_type": "code",
   "execution_count": 2,
   "metadata": {},
   "outputs": [],
   "source": [
    "doc = poppler.load_from_file(\"/data/Basic Rules (2014).pdf\")"
   ]
  },
  {
   "cell_type": "code",
   "execution_count": null,
   "metadata": {},
   "outputs": [],
   "source": [
    "doc.infos()"
   ]
  },
  {
   "cell_type": "code",
   "execution_count": null,
   "metadata": {},
   "outputs": [],
   "source": [
    "font_iterator = doc.create_font_iterator()\n",
    "for page, fonts in font_iterator:\n",
    "    print(f\"Fonts for page {page}\")\n",
    "    for font in fonts:\n",
    "        print(f\"- {font.name}\")"
   ]
  },
  {
   "cell_type": "code",
   "execution_count": null,
   "metadata": {},
   "outputs": [],
   "source": [
    "import pandas as pd\n",
    "\n",
    "data = [\n",
    "    (p, i, b.text, b.get_font_name(), b.get_font_size())\n",
    "      for p in range(doc.pages)\n",
    "      for i, b in enumerate(doc.create_page(p).text_list(doc.create_page(p).TextListOption.text_list_include_font))\n",
    "]\n",
    "df = pd.DataFrame(data, columns=[\"page\", \"word_in_page\", \"text\", \"font\", \"size\"])\n",
    "df"
   ]
  },
  {
   "cell_type": "code",
   "execution_count": null,
   "metadata": {},
   "outputs": [],
   "source": [
    "chapter_heading = []\n",
    "section_heading = []\n",
    "subsection_heading = []\n",
    "current_doc = []\n",
    "\n",
    "last_font_size = 0\n",
    "\n",
    "docs = {}\n",
    "def stringify(thing):\n",
    "    return \" \".join(thing)\n",
    "\n",
    "for p in range(doc.pages):\n",
    "    page = doc.create_page(p)\n",
    "    for b in page.text_list(page.TextListOption.text_list_include_font):\n",
    "        font_size = b.get_font_size()\n",
    "\n",
    "        if font_size < last_font_size:\n",
    "            current_doc.append(\"\\n--------\\n\")\n",
    "\n",
    "        if font_size < 20:\n",
    "            if font_size > last_font_size:\n",
    "                current_doc.append(\"\\n\")\n",
    "            current_doc.append(b.text)\n",
    "\n",
    "        if font_size > last_font_size:\n",
    "            if font_size > 20:\n",
    "                # end of section\n",
    "                docs[f\"{stringify(chapter_heading)}{(' - ' + stringify(section_heading)) if section_heading else ''}\"] = f\"{stringify(chapter_heading)}\\n\\n{stringify(section_heading)}\\n{stringify(current_doc)}\"\n",
    "                current_doc = []\n",
    "                section_heading = []\n",
    "                if font_size > 30:\n",
    "                    # end of chapter\n",
    "                    chapter_heading = []\n",
    "            elif font_size > 18:\n",
    "                # end of sub-subsection\n",
    "                docs[f\"{stringify(chapter_heading)} - {stringify(section_heading)} - {stringify(subsection_heading)}\"] = f\"{stringify(chapter_heading)}\\n\\n{stringify(section_heading)}\\n{stringify(subsection_heading)}\\n{stringify(current_doc)}\"\n",
    "                current_doc = []\n",
    "                subsection_heading = []            \n",
    "\n",
    "        if font_size > 30 and font_size < 35:\n",
    "            chapter_heading.append(b.text)\n",
    "\n",
    "        if font_size > 20 and font_size < 30:\n",
    "            section_heading.append(b.text)\n",
    "        elif font_size > 18 and font_size < 20:\n",
    "            subsection_heading.append(b.text)\n",
    "\n",
    "        last_font_size = font_size\n",
    "docs"
   ]
  },
  {
   "cell_type": "code",
   "execution_count": null,
   "metadata": {},
   "outputs": [],
   "source": [
    "from utils.elastic import elastic_request\n",
    "import requests\n",
    "test = elastic_request(method=requests.post, url=\"_ingest/pipeline/clean_and_embed/_simulate\", data={\"docs\":[{\"_source\": {\"content\": docs[\"Chapter 1: Step- By-Step Characters\"]}}]})\n",
    "test.json()"
   ]
  },
  {
   "cell_type": "code",
   "execution_count": null,
   "metadata": {},
   "outputs": [],
   "source": [
    "def ingest(doc, title, index):\n",
    "    cleaned_title = title.replace(\"?\", \"\").replace(\"/\", \"-\")\n",
    "    rslt = elastic_request(method=requests.put,\n",
    "                           url=f\"{index}/_doc/{cleaned_title}?pipeline=clean_and_embed\",\n",
    "                           data={\"content\": doc})\n",
    "    return rslt\n"
   ]
  },
  {
   "cell_type": "code",
   "execution_count": null,
   "metadata": {},
   "outputs": [],
   "source": [
    "for title, item in docs.items():\n",
    "    if title:\n",
    "        try:\n",
    "            rslt = ingest(item, title, \"basic-rules-2014\")\n",
    "            rslt.raise_for_status()\n",
    "        except Exception as e:\n",
    "            print(\"Error: \", e)\n",
    "            print(rslt.json())\n",
    "            raise"
   ]
  }
 ],
 "metadata": {
  "kernelspec": {
   "display_name": "versions",
   "language": "python",
   "name": "python3"
  },
  "language_info": {
   "codemirror_mode": {
    "name": "ipython",
    "version": 3
   },
   "file_extension": ".py",
   "mimetype": "text/x-python",
   "name": "python",
   "nbconvert_exporter": "python",
   "pygments_lexer": "ipython3",
   "version": "3.12.8"
  }
 },
 "nbformat": 4,
 "nbformat_minor": 2
}
